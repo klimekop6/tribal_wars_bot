{
 "cells": [
  {
   "cell_type": "code",
   "execution_count": 1,
   "metadata": {},
   "outputs": [],
   "source": [
    "from selenium import webdriver\n",
    "from selenium.webdriver.common.keys import Keys\n",
    "from selenium.webdriver.support import expected_conditions as EC\n",
    "from selenium.webdriver.common.by import By\n",
    "from selenium.webdriver.support.wait import WebDriverWait\n",
    "from selenium.webdriver.chrome.options import Options\n",
    "from math import sqrt\n",
    "import time\n",
    "import json"
   ]
  },
  {
   "cell_type": "code",
   "execution_count": 4,
   "metadata": {},
   "outputs": [],
   "source": [
    "# wczytuje ustawienia aplikacji\n",
    "\n",
    "try:\n",
    "    f = open('settings.json')\n",
    "    settings = json.load(f)\n",
    "except FileNotFoundError:\n",
    "    f = open('settings.json', 'w')\n",
    "    json.dump({}, f)\n",
    "    settings = {}\n",
    "finally:\n",
    "    f.close()\n"
   ]
  },
  {
   "cell_type": "code",
   "execution_count": 3,
   "metadata": {},
   "outputs": [],
   "source": [
    "# zapisz aktualną ścierzkę profilu przeglądarki -> chrome://version\n",
    "\n",
    "driver = webdriver.Chrome('chromedriver.exe')\n",
    "driver.get('chrome://version')\n",
    "path = driver.find_element_by_xpath('//*[@id=\"profile_path\"]').text\n",
    "path = path[:path.find('Temp\\\\')] + 'Google\\\\Chrome\\\\User Data'\n",
    "settings['path'] = path\n",
    "\n",
    "with open('settings.json', 'w') as settings_json_file:\n",
    "    json.dump(settings, settings_json_file)"
   ]
  },
  {
   "cell_type": "code",
   "execution_count": 5,
   "metadata": {},
   "outputs": [],
   "source": [
    "# uruchom przeglądarkę z odpowiednim profilem\n",
    "\n",
    "chrome_options = Options()\n",
    "chrome_options.add_argument('user-data-dir=' + settings['path']) \n",
    "driver = webdriver.Chrome('chromedriver.exe', options=chrome_options)\n",
    "driver.set_page_load_timeout(5)\n",
    "driver.maximize_window()\n",
    "try:\n",
    "    driver.get('https://www.plemiona.pl/page/play/pl169')\n",
    "except:\n",
    "    driver.get('https://www.plemiona.pl/page/play/pl169')\n",
    "    pass\n",
    "# driver.get('chrome://newtab') # wylogowanie\n",
    "\n",
    "# username = WebDriverWait(driver, 10).until(EC.element_to_be_clickable((By.CSS_SELECTOR,'input# [name=\"username\"]')))\n",
    "# password = WebDriverWait(driver, 10).until(EC.element_to_be_clickable((By.CSS_SELECTOR,'input# [name=\"password\"]')))\n",
    "# \n",
    "# username.clear()\n",
    "# password.clear()\n",
    "# username.send_keys('klimekop6')\n",
    "# password.send_keys('u56708')\n",
    "# \n",
    "# WebDriverWait(driver, 10).until(EC.element_to_be_clickable((By.CLASS_NAME, 'btn-login'))).click()\n",
    "# WebDriverWait(driver, 10).until(EC.element_to_be_clickable((By.XPATH, '//span[text()=\"Świat 160\"]')))# .click()"
   ]
  },
  {
   "cell_type": "code",
   "execution_count": 82,
   "metadata": {},
   "outputs": [
    {
     "name": "stdout",
     "output_type": "stream",
     "text": [
      "1\n",
      "\n",
      "\t\t<strong class=\"paged-nav-item\"> &gt;1&lt; </strong>\n",
      "\t\n",
      "50\n"
     ]
    }
   ],
   "source": [
    "pages = driver.find_element_by_xpath('//*[@id=\"plunder_list_nav\"]/table/tbody/tr/td').get_attribute(\"innerHTML\")\n",
    "pages = pages.split('><')\n",
    "print(len(pages))\n",
    "for page in pages:\n",
    "    print(page)\n",
    "print(driver.find_element_by_xpath('//*[@id=\"light\"]').text)"
   ]
  },
  {
   "cell_type": "code",
   "execution_count": 63,
   "metadata": {},
   "outputs": [
    {
     "name": "stdout",
     "output_type": "stream",
     "text": [
      "0.009328322410583496\n",
      "0.009007930755615234\n"
     ]
    }
   ],
   "source": [
    "a = time.time()\n",
    "for i in range(50):\n",
    "    if int(driver.find_element_by_xpath('//*[@id=\"light\"]').text) < 2:\n",
    "        pass\n",
    "print((time.time()-a)/50)\n",
    "\n",
    "a = time.time()\n",
    "if int(driver.find_element_by_xpath('//*[@id=\"light\"]').text) < 2:\n",
    "    pass\n",
    "print(time.time()-a)"
   ]
  },
  {
   "cell_type": "code",
   "execution_count": 38,
   "metadata": {},
   "outputs": [
    {
     "name": "stdout",
     "output_type": "stream",
     "text": [
      "0.019017457962036133\n"
     ]
    }
   ],
   "source": [
    "a = time.time()\n",
    "b = driver.find_elements_by_xpath('//*[@id=\"plunder_list\"]/tbody/tr/td[9]/a')\n",
    "driver.execute_script('return arguments[0].scrollIntoView(true);', b[-1])\n",
    "print(time.time()-a)"
   ]
  },
  {
   "cell_type": "code",
   "execution_count": 44,
   "metadata": {},
   "outputs": [
    {
     "name": "stdout",
     "output_type": "stream",
     "text": [
      "0.004004001617431641\n"
     ]
    }
   ],
   "source": [
    "a = time.time()\n",
    "driver.execute_script('return arguments[0].scrollIntoView(true);', b[1])\n",
    "print(time.time()-a)\n"
   ]
  },
  {
   "cell_type": "code",
   "execution_count": 67,
   "metadata": {},
   "outputs": [
    {
     "name": "stdout",
     "output_type": "stream",
     "text": [
      "0.019016504287719727\n"
     ]
    }
   ],
   "source": [
    "a = time.time()\n",
    "villages_to_farm = {'A': driver.find_elements_by_xpath('//*[@id=\"plunder_list\"]/tbody/tr/td[9]/a')} # szablon A\n",
    "villages_to_farm['B'] = driver.find_elements_by_xpath('//*[@id=\"plunder_list\"]/tbody/tr/td[10]/a') # szablon B\n",
    "print(time.time()-a)"
   ]
  },
  {
   "cell_type": "code",
   "execution_count": 47,
   "metadata": {},
   "outputs": [],
   "source": [
    "# automatyczne farmienie\n",
    "\n",
    "# przechodzi do asystenta farmera\n",
    "WebDriverWait(driver, 10).until(EC.element_to_be_clickable((By.ID, 'manager_icon_farm'))).click()\n",
    "\n",
    "# szablon A i B plus aktualnie dostępne jednostki w wiosce\n",
    "template_troops = driver.find_element_by_id('content_value').get_attribute('innerHTML')\n",
    "template_troops = template_troops[template_troops.find('<table class=\"vis\"'):template_troops.find('<script type=\"text/javascript\">')]\n",
    "available_troops = template_troops[template_troops.find('id=\"units_home\"'):].split('<tr>')[2:]\n",
    "template_troops = {'A': template_troops[:template_troops.find('</tbody>')],'B': template_troops[template_troops.find('farm_icon_b'):template_troops.find('id=\"farm_units\"')]}\n",
    "template_troops['A'] = template_troops['A'].split('<tr>')[2:]\n",
    "template_troops['B'] = template_troops['B'].split('<tr>')[1:]\n",
    "template_troops['A'] = template_troops['A'][0].split('<td')[1:-1]\n",
    "template_troops['B'] = template_troops['B'][0].split('<td')[1:-1]\n",
    "\n",
    "for key in template_troops:\n",
    "    tmp = {}\n",
    "    for row in template_troops[key]:\n",
    "        value = int(row[row.find('value=\"')+7:row.rfind('\">')])\n",
    "        if value:\n",
    "            tmp[row[row.find('name=\"')+6:row.find('size')-2]] = value\n",
    "    template_troops[key] = tmp\n",
    "\n",
    "for row in available_troops:\n",
    "    available_troops = row.split('<td')[2:]\n",
    "for index, row in enumerate(available_troops): \n",
    "    available_troops[index] = {'key': row[row.find('id=\"')+4:row.find('\">')], 'value': row[row.find('\">')+2:row.find('</td')]}\n",
    "\n",
    "tmp = available_troops\n",
    "available_troops = {}\n",
    "for row in tmp:\n",
    "    available_troops[row['key']] = int(row['value'])\n",
    "\n",
    "# lista poziomów murów\n",
    "walls_level = driver.find_element_by_id('plunder_list').get_attribute('innerHTML').split('<tr')[3:]\n",
    "for index, row in enumerate(walls_level):\n",
    "    walls_level[index] = row.split('<td')[7:8]\n",
    "for index, row in enumerate(walls_level):\n",
    "    for ele in row:\n",
    "        walls_level[index] = ele[ele.find('>')+1:ele.find('<')] \n",
    "walls_level = [ele if ele=='?' else int(ele) for ele in walls_level]\n",
    "\n",
    "# lista przycisków do wysyłki szablonów A i B\n",
    "villages_to_farm = zip(driver.find_elements_by_xpath('//*[@id=\"plunder_list\"]/tbody/tr/td[9]/a'), # szablon A\n",
    "                    driver.find_elements_by_xpath('//*[@id=\"plunder_list\"]/tbody/tr/td[10]/a')) # szablon B\n",
    "\n",
    "# wysyłka wojsk w asystencie farmera\n",
    "start_time = 0\n",
    "no_units = {'A': False, 'B': False}\n",
    "for village, wall_level in zip(villages_to_farm, walls_level): \n",
    "    if isinstance(wall_level, str):\n",
    "        continue        \n",
    "    if wall_level < 1:\n",
    "        for unit, number in template_troops['A'].items():\n",
    "            if available_troops[unit] - number < 0:\n",
    "                no_units['A'] = True\n",
    "                break\n",
    "            available_troops[unit] -= number\n",
    "        if no_units['A'] and no_units['B']:\n",
    "            break\n",
    "        if no_units['A']:\n",
    "            continue\n",
    "        while time.time() - start_time < 0.195:\n",
    "            time.sleep(0.01)\n",
    "        driver.execute_script('return arguments[0].scrollIntoView(true);', village[0])\n",
    "        village[0].click()\n",
    "    elif wall_level == 1:\n",
    "        for unit, number in template_troops['B'].items():\n",
    "            if available_troops[unit] - number < 0:\n",
    "                no_units['B'] = True\n",
    "                break\n",
    "            available_troops[unit] -= number\n",
    "        if no_units['A'] and no_units['B']:\n",
    "            break\n",
    "        if no_units['B']:\n",
    "            continue\n",
    "        while time.time() - start_time < 0.195:\n",
    "            time.sleep(0.01)\n",
    "        driver.execute_script('return arguments[0].scrollIntoView(true);', village[1])\n",
    "        village[1].click()\n",
    "    start_time = time.time()\n"
   ]
  },
  {
   "cell_type": "code",
   "execution_count": 69,
   "metadata": {},
   "outputs": [],
   "source": [
    "# automatyczne farmienie\n",
    "\n",
    "# przechodzi do asystenta farmera\n",
    "WebDriverWait(driver, 10).until(EC.element_to_be_clickable((By.ID, 'manager_icon_farm'))).click()\n",
    "\n",
    "# szablon A i B plus aktualnie dostępne jednostki w wiosce\n",
    "template_troops = driver.find_element_by_id('content_value').get_attribute('innerHTML')\n",
    "template_troops = template_troops[template_troops.find('<table class=\"vis\"'):template_troops.find('<script type=\"text/javascript\">')]\n",
    "available_troops = template_troops[template_troops.find('id=\"units_home\"'):].split('<tr>')[2:]\n",
    "template_troops = {'A': template_troops[:template_troops.find('</tbody>')],'B': template_troops[template_troops.find('farm_icon_b'):template_troops.find('id=\"farm_units\"')]}\n",
    "template_troops['A'] = template_troops['A'].split('<tr>')[2:]\n",
    "template_troops['B'] = template_troops['B'].split('<tr>')[1:]\n",
    "template_troops['A'] = template_troops['A'][0].split('<td')[1:-1]\n",
    "template_troops['B'] = template_troops['B'][0].split('<td')[1:-1]\n",
    "\n",
    "for key in template_troops:\n",
    "    tmp = {}\n",
    "    for row in template_troops[key]:\n",
    "        value = int(row[row.find('value=\"')+7:row.rfind('\">')])\n",
    "        if value:\n",
    "            tmp[row[row.find('name=\"')+6:row.find('size')-2]] = value\n",
    "    template_troops[key] = tmp\n",
    "\n",
    "for row in available_troops:\n",
    "    available_troops = row.split('<td')[2:]\n",
    "for index, row in enumerate(available_troops): \n",
    "    available_troops[index] = {'key': row[row.find('id=\"')+4:row.find('\">')], 'value': row[row.find('\">')+2:row.find('</td')]}\n",
    "\n",
    "tmp = available_troops\n",
    "available_troops = {}\n",
    "for row in tmp:\n",
    "    available_troops[row['key']] = int(row['value'])\n",
    "\n",
    "# lista poziomów murów\n",
    "walls_level = driver.find_element_by_id('plunder_list').get_attribute('innerHTML').split('<tr')[3:]\n",
    "for index, row in enumerate(walls_level):\n",
    "    walls_level[index] = row.split('<td')[7:8]\n",
    "for index, row in enumerate(walls_level):\n",
    "    for ele in row:\n",
    "        walls_level[index] = ele[ele.find('>')+1:ele.find('<')] \n",
    "walls_level = [ele if ele=='?' else int(ele) for ele in walls_level]\n",
    "\n",
    "# lista przycisków do wysyłki szablonów A i B\n",
    "villages_to_farm = {}\n",
    "villages_to_farm['A'] = 9 # szablon A\n",
    "villages_to_farm['B'] = 10 # szablon B\n",
    "\n",
    "# wysyłka wojsk w asystencie farmera\n",
    "start_time = 0\n",
    "no_units = False\n",
    "for index, template in enumerate(villages_to_farm):\n",
    "    villages_to_farm[template] = driver.find_elements_by_xpath(f'//*[@id=\"plunder_list\"]/tbody/tr/td[{villages_to_farm[template]}]/a')\n",
    "    for village, wall_level in zip(villages_to_farm[template], walls_level): \n",
    "        if isinstance(wall_level, str):\n",
    "            continue        \n",
    "        if 0 <= wall_level <= 0:\n",
    "            for unit, number in template_troops[template].items():\n",
    "                if available_troops[unit] - number < 0:\n",
    "                    no_units = True\n",
    "                    break\n",
    "                available_troops[unit] -= number\n",
    "            if no_units:\n",
    "                break\n",
    "            while time.time() - start_time < 0.195:\n",
    "                time.sleep(0.01)\n",
    "            driver.execute_script('return arguments[0].scrollIntoView(true);', village)\n",
    "            village.click()\n",
    "        start_time = time.time()\n",
    "    if index < len(villages_to_farm)-1:\n",
    "        no_units = False\n",
    "        driver.refresh()"
   ]
  },
  {
   "cell_type": "code",
   "execution_count": 3,
   "metadata": {},
   "outputs": [
    {
     "ename": "KeyError",
     "evalue": "'C'",
     "output_type": "error",
     "traceback": [
      "\u001b[1;31m---------------------------------------------------------------------------\u001b[0m",
      "\u001b[1;31mKeyError\u001b[0m                                  Traceback (most recent call last)",
      "\u001b[1;32m<ipython-input-3-b48656c3c968>\u001b[0m in \u001b[0;36m<module>\u001b[1;34m\u001b[0m\n\u001b[0;32m      1\u001b[0m \u001b[0mentries_content\u001b[0m \u001b[1;33m=\u001b[0m \u001b[1;33m{\u001b[0m\u001b[1;33m}\u001b[0m\u001b[1;33m\u001b[0m\u001b[1;33m\u001b[0m\u001b[0m\n\u001b[1;32m----> 2\u001b[1;33m \u001b[0mentries_content\u001b[0m\u001b[1;33m[\u001b[0m\u001b[1;34m'C'\u001b[0m\u001b[1;33m]\u001b[0m\u001b[1;33m[\u001b[0m\u001b[1;34m'max_level'\u001b[0m\u001b[1;33m]\u001b[0m \u001b[1;33m=\u001b[0m \u001b[1;36m15\u001b[0m\u001b[1;33m\u001b[0m\u001b[1;33m\u001b[0m\u001b[0m\n\u001b[0m\u001b[0;32m      3\u001b[0m \u001b[0mentries_content\u001b[0m\u001b[1;33m[\u001b[0m\u001b[1;34m'C'\u001b[0m\u001b[1;33m]\u001b[0m\u001b[1;33m[\u001b[0m\u001b[1;34m'min_level'\u001b[0m\u001b[1;33m]\u001b[0m \u001b[1;33m=\u001b[0m \u001b[1;36m5\u001b[0m\u001b[1;33m\u001b[0m\u001b[1;33m\u001b[0m\u001b[0m\n\u001b[0;32m      4\u001b[0m \u001b[1;33m\u001b[0m\u001b[0m\n\u001b[0;32m      5\u001b[0m \u001b[0mprint\u001b[0m\u001b[1;33m(\u001b[0m\u001b[0mentries_content\u001b[0m\u001b[1;33m[\u001b[0m\u001b[1;34m'C'\u001b[0m\u001b[1;33m]\u001b[0m\u001b[1;33m)\u001b[0m\u001b[1;33m\u001b[0m\u001b[1;33m\u001b[0m\u001b[0m\n",
      "\u001b[1;31mKeyError\u001b[0m: 'C'"
     ]
    }
   ],
   "source": [
    "entries_content = {}\n",
    "entries_content['C']['max_level'] = 15\n",
    "entries_content['C']['min_level'] = 5\n",
    "\n",
    "print(entries_content['C'])\n",
    "\n",
    "for entry in entries_content:\n",
    "    print(entry)"
   ]
  },
  {
   "cell_type": "code",
   "execution_count": 4,
   "metadata": {},
   "outputs": [],
   "source": [
    "# etykiety ataków\n",
    "\n",
    "def attacks_labels():\n",
    "    if not driver.find_element_by_id('incomings_amount').text:\n",
    "        return    \n",
    "    WebDriverWait(driver, 10).until(EC.element_to_be_clickable((By.ID, 'incomings_cell'))).click() # otwarcie karty z nadchodzącymi atakami\n",
    "    WebDriverWait(driver, 10).until(EC.element_to_be_clickable((By.XPATH, '//*[@id=\"paged_view_content\"]/div[1]/*[@data-group-type=\"all\"]'))).click() # zmiana grupy na wszystkie\n",
    "    manage_filters = WebDriverWait(driver, 10).until(EC.element_to_be_clickable((By.XPATH, '//*[@id=\"paged_view_content\"]/a'))) # zwraca element z filrem ataków\n",
    "    if driver.find_element_by_xpath('//*[@id=\"paged_view_content\"]/div[2]').get_attribute('style').find('display: none') != -1:\n",
    "        manage_filters.click()\n",
    "    etkyieta_rozkazu = WebDriverWait(driver, 10).until(EC.element_to_be_clickable((By.XPATH, '//*[@id=\"paged_view_content\"]/div[2]/form/table/tbody/tr[2]/td[2]/input')))\n",
    "\n",
    "    etkyieta_rozkazu.clear()\n",
    "    etkyieta_rozkazu.send_keys('Atak')\n",
    "\n",
    "    WebDriverWait(driver, 10).until(EC.element_to_be_clickable((By.XPATH, '//*[@id=\"paged_view_content\"]/div[2]/form/table/tbody/tr[7]/td/input'))).click()\n",
    "    WebDriverWait(driver, 10).until(EC.element_to_be_clickable((By.XPATH, '//*[@id=\"paged_view_content\"]/a')))\n",
    "    try:\n",
    "        driver.find_element_by_id('incomings_table')\n",
    "    except:\n",
    "        return\n",
    "\n",
    "    element = WebDriverWait(driver, 10).until(EC.element_to_be_clickable((By.ID, 'select_all')))\n",
    "    driver.execute_script('return arguments[0].scrollIntoView(true);', element)\n",
    "    element.click()\n",
    "    WebDriverWait(driver, 10).until(EC.element_to_be_clickable((By.XPATH, '//input[@value=\"Etykieta\"]'))).click()"
   ]
  },
  {
   "cell_type": "code",
   "execution_count": 87,
   "metadata": {},
   "outputs": [],
   "source": [
    "# id i coordy wiosek gracza\n",
    "\n",
    "WebDriverWait(driver, 10).until(EC.element_to_be_clickable((By.XPATH, '//*[@id=\"menu_row\"]/td[11]/a'))).click()\n",
    "village_number = WebDriverWait(driver, 10).until(EC.element_to_be_clickable((By.XPATH, '//*[@id=\"villages_list\"]/thead/tr/th[1]'))).text\n",
    "village_number = int(village_number[village_number.find('(')+1:-1])\n",
    "if village_number > 100:\n",
    "    element = WebDriverWait(driver, 10).until(EC.element_to_be_clickable((By.XPATH, '//*[@id=\"villages_list\"]/tbody/tr[101]/td/a')))\n",
    "    driver.execute_script('return arguments[0].scrollIntoView(true);', element)\n",
    "    element.click()\n",
    "    WebDriverWait(driver, 10, 0.1).until(EC.element_to_be_clickable((By.XPATH, '//*[@id=\"villages_list\"]/tbody/tr[101]/td[3]')))\n",
    "villages = {'id': [id.get_attribute('data-id') for id in driver.find_elements_by_xpath('//*[@id=\"villages_list\"]/tbody/tr/td[1]/table/tbody/tr/td[1]/span')],\n",
    "            'coords': [coords.text for coords in driver.find_elements_by_xpath('//*[@id=\"villages_list\"]/tbody/tr/td[3]')]}\n"
   ]
  },
  {
   "cell_type": "code",
   "execution_count": 88,
   "metadata": {},
   "outputs": [
    {
     "ename": "ElementClickInterceptedException",
     "evalue": "Message: element click intercepted: Element <td id=\"incomings_cell\" style=\"text-align: center; padding: 0 4px\" class=\"box-item firstcell nowrap\">...</td> is not clickable at point (1022, 13). Other element would receive the click: <a href=\"/game.php?village=4512&amp;screen=settings\">...</a>\n  (Session info: chrome=91.0.4472.106)\n",
     "output_type": "error",
     "traceback": [
      "\u001b[1;31m---------------------------------------------------------------------------\u001b[0m",
      "\u001b[1;31mElementClickInterceptedException\u001b[0m          Traceback (most recent call last)",
      "\u001b[1;32m<ipython-input-88-cdb7c92ec322>\u001b[0m in \u001b[0;36m<module>\u001b[1;34m\u001b[0m\n\u001b[0;32m      1\u001b[0m \u001b[1;31m# uniki średnie i duże\u001b[0m\u001b[1;33m\u001b[0m\u001b[1;33m\u001b[0m\u001b[1;33m\u001b[0m\u001b[0m\n\u001b[1;32m----> 2\u001b[1;33m \u001b[0mWebDriverWait\u001b[0m\u001b[1;33m(\u001b[0m\u001b[0mdriver\u001b[0m\u001b[1;33m,\u001b[0m \u001b[1;36m10\u001b[0m\u001b[1;33m)\u001b[0m\u001b[1;33m.\u001b[0m\u001b[0muntil\u001b[0m\u001b[1;33m(\u001b[0m\u001b[0mEC\u001b[0m\u001b[1;33m.\u001b[0m\u001b[0melement_to_be_clickable\u001b[0m\u001b[1;33m(\u001b[0m\u001b[1;33m(\u001b[0m\u001b[0mBy\u001b[0m\u001b[1;33m.\u001b[0m\u001b[0mID\u001b[0m\u001b[1;33m,\u001b[0m \u001b[1;34m'incomings_cell'\u001b[0m\u001b[1;33m)\u001b[0m\u001b[1;33m)\u001b[0m\u001b[1;33m)\u001b[0m\u001b[1;33m.\u001b[0m\u001b[0mclick\u001b[0m\u001b[1;33m(\u001b[0m\u001b[1;33m)\u001b[0m \u001b[1;31m# przełącz do strony nadchodzących ataków\u001b[0m\u001b[1;33m\u001b[0m\u001b[1;33m\u001b[0m\u001b[0m\n\u001b[0m\u001b[0;32m      3\u001b[0m \u001b[0mmanage_filters\u001b[0m \u001b[1;33m=\u001b[0m \u001b[0mWebDriverWait\u001b[0m\u001b[1;33m(\u001b[0m\u001b[0mdriver\u001b[0m\u001b[1;33m,\u001b[0m \u001b[1;36m10\u001b[0m\u001b[1;33m)\u001b[0m\u001b[1;33m.\u001b[0m\u001b[0muntil\u001b[0m\u001b[1;33m(\u001b[0m\u001b[0mEC\u001b[0m\u001b[1;33m.\u001b[0m\u001b[0melement_to_be_clickable\u001b[0m\u001b[1;33m(\u001b[0m\u001b[1;33m(\u001b[0m\u001b[0mBy\u001b[0m\u001b[1;33m.\u001b[0m\u001b[0mXPATH\u001b[0m\u001b[1;33m,\u001b[0m \u001b[1;34m'//*[@id=\"paged_view_content\"]/a'\u001b[0m\u001b[1;33m)\u001b[0m\u001b[1;33m)\u001b[0m\u001b[1;33m)\u001b[0m \u001b[1;31m# filtr ataków\u001b[0m\u001b[1;33m\u001b[0m\u001b[1;33m\u001b[0m\u001b[0m\n\u001b[0;32m      4\u001b[0m \u001b[1;32mif\u001b[0m \u001b[0mdriver\u001b[0m\u001b[1;33m.\u001b[0m\u001b[0mfind_element_by_xpath\u001b[0m\u001b[1;33m(\u001b[0m\u001b[1;34m'//*[@id=\"paged_view_content\"]/div[2]'\u001b[0m\u001b[1;33m)\u001b[0m\u001b[1;33m.\u001b[0m\u001b[0mget_attribute\u001b[0m\u001b[1;33m(\u001b[0m\u001b[1;34m'style'\u001b[0m\u001b[1;33m)\u001b[0m\u001b[1;33m.\u001b[0m\u001b[0mfind\u001b[0m\u001b[1;33m(\u001b[0m\u001b[1;34m'display: none'\u001b[0m\u001b[1;33m)\u001b[0m \u001b[1;33m!=\u001b[0m \u001b[1;33m-\u001b[0m\u001b[1;36m1\u001b[0m\u001b[1;33m:\u001b[0m \u001b[1;31m# czy włączony\u001b[0m\u001b[1;33m\u001b[0m\u001b[1;33m\u001b[0m\u001b[0m\n\u001b[0;32m      5\u001b[0m     \u001b[0mmanage_filters\u001b[0m\u001b[1;33m.\u001b[0m\u001b[0mclick\u001b[0m\u001b[1;33m(\u001b[0m\u001b[1;33m)\u001b[0m \u001b[1;31m# włącz filtr ataków\u001b[0m\u001b[1;33m\u001b[0m\u001b[1;33m\u001b[0m\u001b[0m\n",
      "\u001b[1;32mc:\\Users\\klime\\VS Code\\selenium_chrome\\.venv\\lib\\site-packages\\selenium\\webdriver\\remote\\webelement.py\u001b[0m in \u001b[0;36mclick\u001b[1;34m(self)\u001b[0m\n\u001b[0;32m     78\u001b[0m     \u001b[1;32mdef\u001b[0m \u001b[0mclick\u001b[0m\u001b[1;33m(\u001b[0m\u001b[0mself\u001b[0m\u001b[1;33m)\u001b[0m\u001b[1;33m:\u001b[0m\u001b[1;33m\u001b[0m\u001b[1;33m\u001b[0m\u001b[0m\n\u001b[0;32m     79\u001b[0m         \u001b[1;34m\"\"\"Clicks the element.\"\"\"\u001b[0m\u001b[1;33m\u001b[0m\u001b[1;33m\u001b[0m\u001b[0m\n\u001b[1;32m---> 80\u001b[1;33m         \u001b[0mself\u001b[0m\u001b[1;33m.\u001b[0m\u001b[0m_execute\u001b[0m\u001b[1;33m(\u001b[0m\u001b[0mCommand\u001b[0m\u001b[1;33m.\u001b[0m\u001b[0mCLICK_ELEMENT\u001b[0m\u001b[1;33m)\u001b[0m\u001b[1;33m\u001b[0m\u001b[1;33m\u001b[0m\u001b[0m\n\u001b[0m\u001b[0;32m     81\u001b[0m \u001b[1;33m\u001b[0m\u001b[0m\n\u001b[0;32m     82\u001b[0m     \u001b[1;32mdef\u001b[0m \u001b[0msubmit\u001b[0m\u001b[1;33m(\u001b[0m\u001b[0mself\u001b[0m\u001b[1;33m)\u001b[0m\u001b[1;33m:\u001b[0m\u001b[1;33m\u001b[0m\u001b[1;33m\u001b[0m\u001b[0m\n",
      "\u001b[1;32mc:\\Users\\klime\\VS Code\\selenium_chrome\\.venv\\lib\\site-packages\\selenium\\webdriver\\remote\\webelement.py\u001b[0m in \u001b[0;36m_execute\u001b[1;34m(self, command, params)\u001b[0m\n\u001b[0;32m    631\u001b[0m             \u001b[0mparams\u001b[0m \u001b[1;33m=\u001b[0m \u001b[1;33m{\u001b[0m\u001b[1;33m}\u001b[0m\u001b[1;33m\u001b[0m\u001b[1;33m\u001b[0m\u001b[0m\n\u001b[0;32m    632\u001b[0m         \u001b[0mparams\u001b[0m\u001b[1;33m[\u001b[0m\u001b[1;34m'id'\u001b[0m\u001b[1;33m]\u001b[0m \u001b[1;33m=\u001b[0m \u001b[0mself\u001b[0m\u001b[1;33m.\u001b[0m\u001b[0m_id\u001b[0m\u001b[1;33m\u001b[0m\u001b[1;33m\u001b[0m\u001b[0m\n\u001b[1;32m--> 633\u001b[1;33m         \u001b[1;32mreturn\u001b[0m \u001b[0mself\u001b[0m\u001b[1;33m.\u001b[0m\u001b[0m_parent\u001b[0m\u001b[1;33m.\u001b[0m\u001b[0mexecute\u001b[0m\u001b[1;33m(\u001b[0m\u001b[0mcommand\u001b[0m\u001b[1;33m,\u001b[0m \u001b[0mparams\u001b[0m\u001b[1;33m)\u001b[0m\u001b[1;33m\u001b[0m\u001b[1;33m\u001b[0m\u001b[0m\n\u001b[0m\u001b[0;32m    634\u001b[0m \u001b[1;33m\u001b[0m\u001b[0m\n\u001b[0;32m    635\u001b[0m     \u001b[1;32mdef\u001b[0m \u001b[0mfind_element\u001b[0m\u001b[1;33m(\u001b[0m\u001b[0mself\u001b[0m\u001b[1;33m,\u001b[0m \u001b[0mby\u001b[0m\u001b[1;33m=\u001b[0m\u001b[0mBy\u001b[0m\u001b[1;33m.\u001b[0m\u001b[0mID\u001b[0m\u001b[1;33m,\u001b[0m \u001b[0mvalue\u001b[0m\u001b[1;33m=\u001b[0m\u001b[1;32mNone\u001b[0m\u001b[1;33m)\u001b[0m\u001b[1;33m:\u001b[0m\u001b[1;33m\u001b[0m\u001b[1;33m\u001b[0m\u001b[0m\n",
      "\u001b[1;32mc:\\Users\\klime\\VS Code\\selenium_chrome\\.venv\\lib\\site-packages\\selenium\\webdriver\\remote\\webdriver.py\u001b[0m in \u001b[0;36mexecute\u001b[1;34m(self, driver_command, params)\u001b[0m\n\u001b[0;32m    319\u001b[0m         \u001b[0mresponse\u001b[0m \u001b[1;33m=\u001b[0m \u001b[0mself\u001b[0m\u001b[1;33m.\u001b[0m\u001b[0mcommand_executor\u001b[0m\u001b[1;33m.\u001b[0m\u001b[0mexecute\u001b[0m\u001b[1;33m(\u001b[0m\u001b[0mdriver_command\u001b[0m\u001b[1;33m,\u001b[0m \u001b[0mparams\u001b[0m\u001b[1;33m)\u001b[0m\u001b[1;33m\u001b[0m\u001b[1;33m\u001b[0m\u001b[0m\n\u001b[0;32m    320\u001b[0m         \u001b[1;32mif\u001b[0m \u001b[0mresponse\u001b[0m\u001b[1;33m:\u001b[0m\u001b[1;33m\u001b[0m\u001b[1;33m\u001b[0m\u001b[0m\n\u001b[1;32m--> 321\u001b[1;33m             \u001b[0mself\u001b[0m\u001b[1;33m.\u001b[0m\u001b[0merror_handler\u001b[0m\u001b[1;33m.\u001b[0m\u001b[0mcheck_response\u001b[0m\u001b[1;33m(\u001b[0m\u001b[0mresponse\u001b[0m\u001b[1;33m)\u001b[0m\u001b[1;33m\u001b[0m\u001b[1;33m\u001b[0m\u001b[0m\n\u001b[0m\u001b[0;32m    322\u001b[0m             response['value'] = self._unwrap_value(\n\u001b[0;32m    323\u001b[0m                 response.get('value', None))\n",
      "\u001b[1;32mc:\\Users\\klime\\VS Code\\selenium_chrome\\.venv\\lib\\site-packages\\selenium\\webdriver\\remote\\errorhandler.py\u001b[0m in \u001b[0;36mcheck_response\u001b[1;34m(self, response)\u001b[0m\n\u001b[0;32m    240\u001b[0m                 \u001b[0malert_text\u001b[0m \u001b[1;33m=\u001b[0m \u001b[0mvalue\u001b[0m\u001b[1;33m[\u001b[0m\u001b[1;34m'alert'\u001b[0m\u001b[1;33m]\u001b[0m\u001b[1;33m.\u001b[0m\u001b[0mget\u001b[0m\u001b[1;33m(\u001b[0m\u001b[1;34m'text'\u001b[0m\u001b[1;33m)\u001b[0m\u001b[1;33m\u001b[0m\u001b[1;33m\u001b[0m\u001b[0m\n\u001b[0;32m    241\u001b[0m             \u001b[1;32mraise\u001b[0m \u001b[0mexception_class\u001b[0m\u001b[1;33m(\u001b[0m\u001b[0mmessage\u001b[0m\u001b[1;33m,\u001b[0m \u001b[0mscreen\u001b[0m\u001b[1;33m,\u001b[0m \u001b[0mstacktrace\u001b[0m\u001b[1;33m,\u001b[0m \u001b[0malert_text\u001b[0m\u001b[1;33m)\u001b[0m\u001b[1;33m\u001b[0m\u001b[1;33m\u001b[0m\u001b[0m\n\u001b[1;32m--> 242\u001b[1;33m         \u001b[1;32mraise\u001b[0m \u001b[0mexception_class\u001b[0m\u001b[1;33m(\u001b[0m\u001b[0mmessage\u001b[0m\u001b[1;33m,\u001b[0m \u001b[0mscreen\u001b[0m\u001b[1;33m,\u001b[0m \u001b[0mstacktrace\u001b[0m\u001b[1;33m)\u001b[0m\u001b[1;33m\u001b[0m\u001b[1;33m\u001b[0m\u001b[0m\n\u001b[0m\u001b[0;32m    243\u001b[0m \u001b[1;33m\u001b[0m\u001b[0m\n\u001b[0;32m    244\u001b[0m     \u001b[1;32mdef\u001b[0m \u001b[0m_value_or_default\u001b[0m\u001b[1;33m(\u001b[0m\u001b[0mself\u001b[0m\u001b[1;33m,\u001b[0m \u001b[0mobj\u001b[0m\u001b[1;33m,\u001b[0m \u001b[0mkey\u001b[0m\u001b[1;33m,\u001b[0m \u001b[0mdefault\u001b[0m\u001b[1;33m)\u001b[0m\u001b[1;33m:\u001b[0m\u001b[1;33m\u001b[0m\u001b[1;33m\u001b[0m\u001b[0m\n",
      "\u001b[1;31mElementClickInterceptedException\u001b[0m: Message: element click intercepted: Element <td id=\"incomings_cell\" style=\"text-align: center; padding: 0 4px\" class=\"box-item firstcell nowrap\">...</td> is not clickable at point (1022, 13). Other element would receive the click: <a href=\"/game.php?village=4512&amp;screen=settings\">...</a>\n  (Session info: chrome=91.0.4472.106)\n"
     ]
    }
   ],
   "source": [
    "# uniki średnie i duże\n",
    "\n",
    "WebDriverWait(driver, 10).until(EC.element_to_be_clickable((By.ID, 'incomings_cell'))).click() # przełącz do strony nadchodzących ataków\n",
    "manage_filters = WebDriverWait(driver, 10).until(EC.element_to_be_clickable((By.XPATH, '//*[@id=\"paged_view_content\"]/a'))) # filtr ataków\n",
    "if driver.find_element_by_xpath('//*[@id=\"paged_view_content\"]/div[2]').get_attribute('style').find('display: none') != -1: # czy włączony\n",
    "    manage_filters.click() # włącz filtr ataków\n",
    "WebDriverWait(driver, 10).until(EC.element_to_be_clickable((By.XPATH, '//*[@id=\"paged_view_content\"]/div[2]/form/table/tbody/tr[2]/td[2]/input'))).clear() # etykieta rozkazu\n",
    "attack_size = input('1 all\\n'\n",
    "                    '2 small\\n'\n",
    "                    '3 medium\\n'\n",
    "                    '4 big')\n",
    "WebDriverWait(driver, 10).until(EC.element_to_be_clickable((By.XPATH, f'//*[@id=\"paged_view_content\"]/div[2]/form/table/tbody/tr[6]/td/label[{attack_size}]/input'))).click() # wielkość idących wojsk\n",
    "WebDriverWait(driver, 10).until(EC.element_to_be_clickable((By.XPATH, '//*[@id=\"paged_view_content\"]/div[2]/form/table/tbody/tr[7]/td/input'))).click() # zapisz i przeładuj\n",
    "WebDriverWait(driver, 10).until(EC.element_to_be_clickable((By.XPATH, '//*[@id=\"paged_view_content\"]/a'))) # sprawdź widoczność przycisku \"zarządzanie filtrami\"\n",
    "try:\n",
    "    driver.find_element_by_id('incomings_table') # czy są ataki spełniające powyższe kryteria\n",
    "except:\n",
    "    pass\n",
    "\n",
    "targets = driver.find_elements_by_xpath('//*[@id=\"incomings_table\"]/tbody/tr/td[2]/a')\n",
    "dates = driver.find_elements_by_xpath('//*[@id=\"incomings_table\"]/tbody/tr/td[6]')\n",
    "\n",
    "date_time = time.gmtime()\n",
    "\n",
    "targets = [target.get_attribute('href') for target in targets]\n",
    "dates = [data.text for data in dates]\n",
    "\n",
    "for index, date in enumerate(dates):\n",
    "    if date.startswith('dzisiaj'):\n",
    "        dates[index] = date.replace('dzisiaj o', f'{date_time.tm_mday}.{date_time.tm_mon :>02}.{date_time.tm_year}')[:-4]\n",
    "    elif date.startswith('jutro o'):\n",
    "        dates[index] = date.replace('jutro o', f'{date_time.tm_mday+1}.{date_time.tm_mon :>02}.{date_time.tm_year}')[:-4]\n",
    "    else:\n",
    "        dates[index] = date.replace('dnia ', '').replace('. o', f'.{date_time.tm_year}')[:-4]\n",
    "\n",
    "dates = [time.mktime(time.strptime(date, '%d.%m.%Y %H:%M:%S')) for date in dates]\n",
    "targets = [target.replace('overview', 'place') for target in targets]\n",
    "\n",
    "while True:\n",
    "    search_for = villages['coords'][villages['id'].index(targets[0][targets[0].find('=')+1:targets[0].find('&')])]\n",
    "    nearest = sorted([[sqrt(pow(int(search_for[:3])-int(village[:3]), 2) + pow(int(search_for[4:])-int(village[4:]), 2)), index] for index, village in enumerate(villages['coords'])])[1][1]\n",
    "    targets[0] += '&target=' + villages['id'][nearest]\n",
    "    while True:        \n",
    "        if time.time() > dates[0] - 5:\n",
    "            driver.get(targets[0])            \n",
    "            WebDriverWait(driver, 10).until(EC.element_to_be_clickable((By.ID, 'selectAllUnits'))).click()\n",
    "            WebDriverWait(driver, 10).until(EC.element_to_be_clickable((By.ID, 'target_support'))).click()\n",
    "            WebDriverWait(driver, 10).until(EC.element_to_be_clickable((By.ID, 'troop_confirm_go'))).click()\n",
    "            send_time = time.time()        \n",
    "            break_attack = WebDriverWait(driver, 10).until(EC.element_to_be_clickable((By.CLASS_NAME, 'command-cancel')))\n",
    "            time.sleep(((dates[0] - send_time) / 2) + 1)\n",
    "            driver.get(break_attack.get_attribute('href'))\n",
    "            del dates[0], targets[0]\n",
    "            break\n"
   ]
  },
  {
   "cell_type": "code",
   "execution_count": 49,
   "metadata": {},
   "outputs": [],
   "source": [
    "# wystawianie offert tylko dla plemienia\n",
    "\n",
    "current_village_link = WebDriverWait(driver, 10).until(EC.element_to_be_clickable((By.XPATH, '//*[@id=\"menu_row2_village\"]/a')))\n",
    "summary_production = current_village_link.get_attribute('href') + '_villages&mode=prod'\n",
    "driver.get(summary_production)\n",
    "\n",
    "villages_resources = {'villages': [], 'resources': [], 'summary': []}\n",
    "villages_resources['villages'] = [village_resources.get_attribute('href').replace('overview', 'market&mode=own_offer') for village_resources in driver.find_elements_by_xpath('//*[@id=\"production_table\"]/tbody/tr/td[2]/span/span/a[1]')]\n",
    "resources = [int(resource.text.replace('.', '')) for resource in driver.find_elements_by_xpath('//*[@id=\"production_table\"]/tbody/tr/td[4]/span')]\n",
    "villages_resources['resources'] = [[resources[index], resources[index+1], resources[index+2]] for index in range(0, len(resources), 3)] \n",
    "\n",
    "for i in range(3):\n",
    "    villages_resources['summary'].extend([sum([resource[i] for resource in villages_resources['resources']])]) \n",
    "offer = villages_resources['summary'].index(max(villages_resources['summary']))                 \n",
    "need = villages_resources['summary'].index(min(villages_resources['summary']))\n",
    "\n",
    "for (village, resource) in zip(villages_resources['villages'], villages_resources['resources']):\n",
    "    if resource[need] < 20000 and resource[offer] > 100000:\n",
    "        driver.get(village)\n",
    "        WebDriverWait(driver, 10).until(EC.element_to_be_clickable((By.XPATH, f'//*[@id=\"res_buy_selection\"]/label[{need+1}]/input'))).click()\n",
    "        WebDriverWait(driver, 10).until(EC.element_to_be_clickable((By.XPATH, f'//*[@id=\"res_sell_selection\"]/label[{offer+1}]/input'))).click()\n",
    "        how_many = WebDriverWait(driver, 10).until(EC.element_to_be_clickable((By.XPATH, '//*[@id=\"own_offer_form\"]/table[3]/tbody/tr[2]/td[2]/input')))\n",
    "        max_to_use = int((resource[offer] - 100000) / 1000) \n",
    "        if max_to_use < int(how_many.get_attribute('value')):\n",
    "            how_many.clear()\n",
    "            how_many.send_keys(str(max_to_use))      \n",
    "        element = WebDriverWait(driver, 10).until(EC.element_to_be_clickable((By.XPATH, '//*[@id=\"own_offer_form\"]/table[3]/tbody/tr[4]/td[2]/label/input')))\n",
    "        driver.execute_script('return arguments[0].scrollIntoView(true);', element)\n",
    "        element.click()\n",
    "        element = WebDriverWait(driver, 10).until(EC.element_to_be_clickable((By.XPATH, '//*[@id=\"submit_offer\"]')))\n",
    "        driver.execute_script('return arguments[0].scrollIntoView(true);', element)\n",
    "        element.click()\n",
    "    else:\n",
    "        continue"
   ]
  },
  {
   "cell_type": "code",
   "execution_count": 6,
   "metadata": {},
   "outputs": [
    {
     "ename": "NoSuchWindowException",
     "evalue": "Message: no such window: window was already closed\n  (Session info: chrome=91.0.4472.114)\n",
     "output_type": "error",
     "traceback": [
      "\u001b[1;31m---------------------------------------------------------------------------\u001b[0m",
      "\u001b[1;31mNoSuchWindowException\u001b[0m                     Traceback (most recent call last)",
      "\u001b[1;32m<ipython-input-6-b45fa1853876>\u001b[0m in \u001b[0;36m<module>\u001b[1;34m\u001b[0m\n\u001b[0;32m      1\u001b[0m \u001b[1;31m# odsyłanie wybranego wsparcia\u001b[0m\u001b[1;33m\u001b[0m\u001b[1;33m\u001b[0m\u001b[1;33m\u001b[0m\u001b[0m\n\u001b[0;32m      2\u001b[0m \u001b[1;33m\u001b[0m\u001b[0m\n\u001b[1;32m----> 3\u001b[1;33m \u001b[0mcode\u001b[0m \u001b[1;33m=\u001b[0m \u001b[0mdriver\u001b[0m\u001b[1;33m.\u001b[0m\u001b[0mfind_element_by_xpath\u001b[0m\u001b[1;33m(\u001b[0m\u001b[1;34m'//*[@id=\"withdraw_selected_units_village_info\"]/table/tbody'\u001b[0m\u001b[1;33m)\u001b[0m\u001b[1;33m.\u001b[0m\u001b[0mget_attribute\u001b[0m\u001b[1;33m(\u001b[0m\u001b[1;34m\"innerHTML\"\u001b[0m\u001b[1;33m)\u001b[0m\u001b[1;33m\u001b[0m\u001b[1;33m\u001b[0m\u001b[0m\n\u001b[0m\u001b[0;32m      4\u001b[0m \u001b[0mtemp\u001b[0m \u001b[1;33m=\u001b[0m \u001b[0mcode\u001b[0m\u001b[1;33m.\u001b[0m\u001b[0msplit\u001b[0m\u001b[1;33m(\u001b[0m\u001b[1;34m'<tr>'\u001b[0m\u001b[1;33m)\u001b[0m\u001b[1;33m[\u001b[0m\u001b[1;36m2\u001b[0m\u001b[1;33m:\u001b[0m\u001b[1;33m-\u001b[0m\u001b[1;36m1\u001b[0m\u001b[1;33m]\u001b[0m\u001b[1;33m\u001b[0m\u001b[1;33m\u001b[0m\u001b[0m\n\u001b[0;32m      5\u001b[0m \u001b[0momit\u001b[0m \u001b[1;33m=\u001b[0m \u001b[1;36m2\u001b[0m\u001b[1;33m\u001b[0m\u001b[1;33m\u001b[0m\u001b[0m\n",
      "\u001b[1;32mc:\\Users\\klime\\VS Code\\selenium_chrome\\.venv\\lib\\site-packages\\selenium\\webdriver\\remote\\webdriver.py\u001b[0m in \u001b[0;36mfind_element_by_xpath\u001b[1;34m(self, xpath)\u001b[0m\n\u001b[0;32m    392\u001b[0m             \u001b[0melement\u001b[0m \u001b[1;33m=\u001b[0m \u001b[0mdriver\u001b[0m\u001b[1;33m.\u001b[0m\u001b[0mfind_element_by_xpath\u001b[0m\u001b[1;33m(\u001b[0m\u001b[1;34m'//div/td[1]'\u001b[0m\u001b[1;33m)\u001b[0m\u001b[1;33m\u001b[0m\u001b[1;33m\u001b[0m\u001b[0m\n\u001b[0;32m    393\u001b[0m         \"\"\"\n\u001b[1;32m--> 394\u001b[1;33m         \u001b[1;32mreturn\u001b[0m \u001b[0mself\u001b[0m\u001b[1;33m.\u001b[0m\u001b[0mfind_element\u001b[0m\u001b[1;33m(\u001b[0m\u001b[0mby\u001b[0m\u001b[1;33m=\u001b[0m\u001b[0mBy\u001b[0m\u001b[1;33m.\u001b[0m\u001b[0mXPATH\u001b[0m\u001b[1;33m,\u001b[0m \u001b[0mvalue\u001b[0m\u001b[1;33m=\u001b[0m\u001b[0mxpath\u001b[0m\u001b[1;33m)\u001b[0m\u001b[1;33m\u001b[0m\u001b[1;33m\u001b[0m\u001b[0m\n\u001b[0m\u001b[0;32m    395\u001b[0m \u001b[1;33m\u001b[0m\u001b[0m\n\u001b[0;32m    396\u001b[0m     \u001b[1;32mdef\u001b[0m \u001b[0mfind_elements_by_xpath\u001b[0m\u001b[1;33m(\u001b[0m\u001b[0mself\u001b[0m\u001b[1;33m,\u001b[0m \u001b[0mxpath\u001b[0m\u001b[1;33m)\u001b[0m\u001b[1;33m:\u001b[0m\u001b[1;33m\u001b[0m\u001b[1;33m\u001b[0m\u001b[0m\n",
      "\u001b[1;32mc:\\Users\\klime\\VS Code\\selenium_chrome\\.venv\\lib\\site-packages\\selenium\\webdriver\\remote\\webdriver.py\u001b[0m in \u001b[0;36mfind_element\u001b[1;34m(self, by, value)\u001b[0m\n\u001b[0;32m    974\u001b[0m                 \u001b[0mby\u001b[0m \u001b[1;33m=\u001b[0m \u001b[0mBy\u001b[0m\u001b[1;33m.\u001b[0m\u001b[0mCSS_SELECTOR\u001b[0m\u001b[1;33m\u001b[0m\u001b[1;33m\u001b[0m\u001b[0m\n\u001b[0;32m    975\u001b[0m                 \u001b[0mvalue\u001b[0m \u001b[1;33m=\u001b[0m \u001b[1;34m'[name=\"%s\"]'\u001b[0m \u001b[1;33m%\u001b[0m \u001b[0mvalue\u001b[0m\u001b[1;33m\u001b[0m\u001b[1;33m\u001b[0m\u001b[0m\n\u001b[1;32m--> 976\u001b[1;33m         return self.execute(Command.FIND_ELEMENT, {\n\u001b[0m\u001b[0;32m    977\u001b[0m             \u001b[1;34m'using'\u001b[0m\u001b[1;33m:\u001b[0m \u001b[0mby\u001b[0m\u001b[1;33m,\u001b[0m\u001b[1;33m\u001b[0m\u001b[1;33m\u001b[0m\u001b[0m\n\u001b[0;32m    978\u001b[0m             'value': value})['value']\n",
      "\u001b[1;32mc:\\Users\\klime\\VS Code\\selenium_chrome\\.venv\\lib\\site-packages\\selenium\\webdriver\\remote\\webdriver.py\u001b[0m in \u001b[0;36mexecute\u001b[1;34m(self, driver_command, params)\u001b[0m\n\u001b[0;32m    319\u001b[0m         \u001b[0mresponse\u001b[0m \u001b[1;33m=\u001b[0m \u001b[0mself\u001b[0m\u001b[1;33m.\u001b[0m\u001b[0mcommand_executor\u001b[0m\u001b[1;33m.\u001b[0m\u001b[0mexecute\u001b[0m\u001b[1;33m(\u001b[0m\u001b[0mdriver_command\u001b[0m\u001b[1;33m,\u001b[0m \u001b[0mparams\u001b[0m\u001b[1;33m)\u001b[0m\u001b[1;33m\u001b[0m\u001b[1;33m\u001b[0m\u001b[0m\n\u001b[0;32m    320\u001b[0m         \u001b[1;32mif\u001b[0m \u001b[0mresponse\u001b[0m\u001b[1;33m:\u001b[0m\u001b[1;33m\u001b[0m\u001b[1;33m\u001b[0m\u001b[0m\n\u001b[1;32m--> 321\u001b[1;33m             \u001b[0mself\u001b[0m\u001b[1;33m.\u001b[0m\u001b[0merror_handler\u001b[0m\u001b[1;33m.\u001b[0m\u001b[0mcheck_response\u001b[0m\u001b[1;33m(\u001b[0m\u001b[0mresponse\u001b[0m\u001b[1;33m)\u001b[0m\u001b[1;33m\u001b[0m\u001b[1;33m\u001b[0m\u001b[0m\n\u001b[0m\u001b[0;32m    322\u001b[0m             response['value'] = self._unwrap_value(\n\u001b[0;32m    323\u001b[0m                 response.get('value', None))\n",
      "\u001b[1;32mc:\\Users\\klime\\VS Code\\selenium_chrome\\.venv\\lib\\site-packages\\selenium\\webdriver\\remote\\errorhandler.py\u001b[0m in \u001b[0;36mcheck_response\u001b[1;34m(self, response)\u001b[0m\n\u001b[0;32m    240\u001b[0m                 \u001b[0malert_text\u001b[0m \u001b[1;33m=\u001b[0m \u001b[0mvalue\u001b[0m\u001b[1;33m[\u001b[0m\u001b[1;34m'alert'\u001b[0m\u001b[1;33m]\u001b[0m\u001b[1;33m.\u001b[0m\u001b[0mget\u001b[0m\u001b[1;33m(\u001b[0m\u001b[1;34m'text'\u001b[0m\u001b[1;33m)\u001b[0m\u001b[1;33m\u001b[0m\u001b[1;33m\u001b[0m\u001b[0m\n\u001b[0;32m    241\u001b[0m             \u001b[1;32mraise\u001b[0m \u001b[0mexception_class\u001b[0m\u001b[1;33m(\u001b[0m\u001b[0mmessage\u001b[0m\u001b[1;33m,\u001b[0m \u001b[0mscreen\u001b[0m\u001b[1;33m,\u001b[0m \u001b[0mstacktrace\u001b[0m\u001b[1;33m,\u001b[0m \u001b[0malert_text\u001b[0m\u001b[1;33m)\u001b[0m\u001b[1;33m\u001b[0m\u001b[1;33m\u001b[0m\u001b[0m\n\u001b[1;32m--> 242\u001b[1;33m         \u001b[1;32mraise\u001b[0m \u001b[0mexception_class\u001b[0m\u001b[1;33m(\u001b[0m\u001b[0mmessage\u001b[0m\u001b[1;33m,\u001b[0m \u001b[0mscreen\u001b[0m\u001b[1;33m,\u001b[0m \u001b[0mstacktrace\u001b[0m\u001b[1;33m)\u001b[0m\u001b[1;33m\u001b[0m\u001b[1;33m\u001b[0m\u001b[0m\n\u001b[0m\u001b[0;32m    243\u001b[0m \u001b[1;33m\u001b[0m\u001b[0m\n\u001b[0;32m    244\u001b[0m     \u001b[1;32mdef\u001b[0m \u001b[0m_value_or_default\u001b[0m\u001b[1;33m(\u001b[0m\u001b[0mself\u001b[0m\u001b[1;33m,\u001b[0m \u001b[0mobj\u001b[0m\u001b[1;33m,\u001b[0m \u001b[0mkey\u001b[0m\u001b[1;33m,\u001b[0m \u001b[0mdefault\u001b[0m\u001b[1;33m)\u001b[0m\u001b[1;33m:\u001b[0m\u001b[1;33m\u001b[0m\u001b[1;33m\u001b[0m\u001b[0m\n",
      "\u001b[1;31mNoSuchWindowException\u001b[0m: Message: no such window: window was already closed\n  (Session info: chrome=91.0.4472.114)\n"
     ]
    }
   ],
   "source": [
    "# odsyłanie wybranego wsparcia\n",
    "\n",
    "code = driver.find_element_by_xpath('//*[@id=\"withdraw_selected_units_village_info\"]/table/tbody').get_attribute(\"innerHTML\")\n",
    "temp = code.split('<tr>')[2:-1]\n",
    "omit = 2\n",
    "for index in range(len(temp)):\n",
    "    temp[index] = temp[index].split('<td style')[1:-5]\n",
    "    if temp[index][0].find('has-input') == -1:\n",
    "        continue\n",
    "    del temp[index][4], temp[index][2]\n",
    "    for row, value in zip(range(len(temp[index])), (2, 3, 5, 7)):\n",
    "        temp[index][row] = [value, temp[index][row]]\n",
    "    for row in range(len(temp[index])):\n",
    "        if temp[index][row][0] == omit:\n",
    "            continue\n",
    "        if temp[index][row][1].find('hidden') != -1:\n",
    "            continue\n",
    "        ele = driver.find_element_by_xpath(f'//*[@id=\"withdraw_selected_units_village_info\"]/table/tbody/tr[{index+2}]/td[{temp[index][row][0]}]')\n",
    "        html = temp[index][row][1][temp[index][row][1].find('<'):-5]\n",
    "        html = html[:html.find('value')] + 'value=\"\" ' + html[html.find('min'):]\n",
    "        driver.execute_script(f'''arguments[0].innerHTML = '{html}';''', ele)"
   ]
  },
  {
   "cell_type": "code",
   "execution_count": 330,
   "metadata": {},
   "outputs": [],
   "source": [
    "# zaznacz na mapie puste wioski graczy\n",
    "\n",
    "villages_to_mark = []\n",
    "url = driver.current_url\n",
    "village_id = url[url.find('=')+1:url.find('&')]\n",
    "url = url[:url.find('?')+1] + 'screen=ally&mode=members_defense&player_id=&village=' + village_id\n",
    "player_name = driver.find_element_by_xpath('//*[@id=\"menu_row\"]/td[11]/table/tbody/tr[1]/td/a').get_attribute(\"innerHTML\")\n",
    "current_player_id = driver.find_element_by_xpath(f'//*[@id=\"ally_content\"]/div/form/select/option[contains(text(), \"{player_name}\")]').get_attribute('value')\n",
    "player_id = [player_id.get_attribute('value') for player_id in driver.find_elements_by_xpath('//*[@id=\"ally_content\"]/div/form/select/option')][1:]\n",
    "del player_id[player_id.index(str(current_player_id))]\n",
    "for id in player_id:\n",
    "    driver.get(url[:url.find('player_id')+10] + id + url[url.rfind('&'):])\n",
    "    if not driver.find_elements_by_xpath('//*[@id=\"ally_content\"]/div/div'): # omija graczy bez wiosek  \n",
    "        continue\n",
    "    village_number = len(driver.find_elements_by_xpath('//*[@id=\"ally_content\"]/div/div/table/tbody/tr/td[1]'))\n",
    "    tmp1 = driver.find_element_by_xpath('//*[@id=\"ally_content\"]/div/div/table/tbody').text\n",
    "    if tmp1.find('?') != -1: # omija graczy którzy nie udostępniają podglądu swoich wojsk\n",
    "        continue\n",
    "    tmp1 = [tmp[tmp.find(' w wiosce ')+10:] for tmp in tmp1.splitlines()[1::2]]\n",
    "    tmp1 = [tmp.split() for tmp in tmp1]\n",
    "    for index in range(len(tmp1)):\n",
    "        tmp1[index].insert(0, index*2+2)\n",
    "    index = 0\n",
    "    while index < len(tmp1):\n",
    "        if sum([int(cell) for cell in tmp1[index][1:]]) > 100:\n",
    "            del tmp1[index]\n",
    "            continue\n",
    "        index += 1\n",
    "    for index in range(len(tmp1)):\n",
    "        tmp1[index][0] = driver.find_element_by_xpath(f'//*[@id=\"ally_content\"]/div/div/table/tbody/tr[{tmp1[index][0]}]/td[1]/a').get_attribute('href')\n",
    "    villages_to_mark.extend([to_mark[0] for to_mark in tmp1])\n",
    "\n",
    "for village_to_mark in villages_to_mark:\n",
    "    driver.get(village_to_mark)\n",
    "    driver.find_element_by_xpath('//*[@id=\"content_value\"]/table/tbody/tr/td[1]/table[2]/tbody/tr[8]').click() # otwiera zarządzanie zaznaczeniami mapy\n",
    "    WebDriverWait(driver, 10, 0.1).until(EC.element_to_be_clickable((By.XPATH, '//*[@id=\"map_color_assignment\"]/form[1]/table/tbody/tr[4]/td/input'))) # czeka na załadowanie kodu HTML\n",
    "    groups = [label_name.text for label_name in driver.find_elements_by_xpath('//*[@id=\"map_group_management\"]/table/tbody/tr/td/label')] # dostępne grupy zaznaczeń na mapie\n",
    "    group_name = 'FARMA' \n",
    "    element = driver.find_element_by_xpath(f'//*[@id=\"map_group_management\"]/table/tbody/tr[{groups.index(group_name)+1}]/td/label/input') # klika wybraną nazwę grupy\n",
    "    driver.execute_script('return arguments[0].scrollIntoView(true);', element)\n",
    "    element.click()\n",
    "    element = driver.find_element_by_xpath('//*[@id=\"map_group_management\"]/table/tbody/tr/td/input[@value=\"Zapisz\"]') # zapisuję wybór\n",
    "    driver.execute_script('return arguments[0].scrollIntoView(true);', element)\n",
    "    element.click()"
   ]
  },
  {
   "cell_type": "code",
   "execution_count": 87,
   "metadata": {
    "tags": []
   },
   "outputs": [],
   "source": [
    "# test pythona\n",
    "import csv\n",
    "data = []\n",
    "with open('klimekop6.csv') as csvfile:\n",
    "    data = list(csv.reader(csvfile, delimiter=';'))\n",
    "\n",
    "for index in range(len(data)):\n",
    "    data[index][4] = data[index][4].replace('[unit]', ' ')\n",
    "    data[index][4] = data[index][4].replace('[/unit]', ' ')\n",
    "    data[index][4] = data[index][4][1:]\n",
    "\n",
    "for index in range(len(data)):\n",
    "    driver.get(data[index][5][5:data[index][5].find(']')])\n",
    "    WebDriverWait(driver, 10).until(EC.element_to_be_clickable((By.CLASS_NAME, 'rename-icon'))).click()\n",
    "\n",
    "    etykieta = WebDriverWait(driver, 10).until(EC.element_to_be_clickable((By.XPATH, '//input[@type=\"text\"]')))\n",
    "    etykieta.clear()\n",
    "    etykieta.send_keys(data[index][4])\n",
    "    WebDriverWait(driver, 10).until(EC.element_to_be_clickable((By.XPATH, '//input[@value=\"Zmień nazwę\"]'))).click()"
   ]
  },
  {
   "cell_type": "code",
   "execution_count": 6,
   "metadata": {},
   "outputs": [],
   "source": [
    "# filtry ataków nazwa gracza\n",
    "WebDriverWait(driver, 10).until(EC.element_to_be_clickable((By.CLASS_NAME, 'overview_filters_manage'))).click()\n",
    "\n",
    "player_name = WebDriverWait(driver, 10).until(EC.element_to_be_clickable((By.CSS_SELECTOR,'input[name=\"filters[origin_player]\"]')))\n",
    "\n",
    "player_name.clear()\n",
    "player_name.send_keys('zonik20')\n",
    "\n",
    "WebDriverWait(driver, 10).until(EC.element_to_be_clickable((By.XPATH, '//input[@type=\"submit\"]'))).click()\n"
   ]
  },
  {
   "cell_type": "code",
   "execution_count": 5,
   "metadata": {},
   "outputs": [
    {
     "name": "stdout",
     "output_type": "stream",
     "text": [
      "0.014011859893798828\n",
      "0.10209226608276367\n",
      "0.606550931930542\n"
     ]
    }
   ],
   "source": [
    "import time\n",
    "from datetime import datetime\n",
    "from dateutil import parser\n",
    "\n",
    "test = '2019-12-18 15:52:30'\n",
    "a = time.time()\n",
    "for i in range(10000):\n",
    "    datetime(int(test[:4]), int(test[5:7]), int(test[8:10]), int(test[11:13]), int(test[14:16]), int(test[17:19]))\n",
    "print(time.time()-a)\n",
    "\n",
    "a = time.time()\n",
    "for i in range(10000):\n",
    "    datetime.strptime(test, '%Y-%m-%d %H:%M:%S')\n",
    "print(time.time()-a)\n",
    "\n",
    "a = time.time()\n",
    "for i in range(10000):\n",
    "    parser.parse(test)\n",
    "print(time.time()-a)\n",
    "\n"
   ]
  }
 ],
 "metadata": {
  "interpreter": {
   "hash": "043fa229c8f9b5e495b8f47abf04453a28cdd3df9dd317283f35eba611767b50"
  },
  "kernelspec": {
   "display_name": "Python 3.10.0 64-bit ('.venv_tribal_wars': venv)",
   "name": "python3"
  },
  "language_info": {
   "codemirror_mode": {
    "name": "ipython",
    "version": 3
   },
   "file_extension": ".py",
   "mimetype": "text/x-python",
   "name": "python",
   "nbconvert_exporter": "python",
   "pygments_lexer": "ipython3",
   "version": "3.10.0"
  },
  "orig_nbformat": 4
 },
 "nbformat": 4,
 "nbformat_minor": 2
}
