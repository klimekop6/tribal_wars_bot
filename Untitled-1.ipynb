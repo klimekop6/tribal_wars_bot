{
 "cells": [
  {
   "cell_type": "code",
   "execution_count": 154,
   "metadata": {},
   "outputs": [],
   "source": [
    "from selenium import webdriver\n",
    "from selenium.webdriver.chrome.service import Service\n",
    "from webdriver_manager.chrome import ChromeDriverManager\n",
    "from selenium.webdriver.support import expected_conditions as EC\n",
    "from selenium.webdriver.common.by import By\n",
    "from selenium.webdriver.support.wait import WebDriverWait\n",
    "from selenium.webdriver.chrome.options import Options\n",
    "from math import sqrt\n",
    "import time\n",
    "import json\n",
    "import datetime\n",
    "import os\n",
    "from lxml import html\n",
    "from tkinter import *\n",
    "\n",
    "\n",
    "import re\n",
    "import requests\n",
    "\n",
    "import logging\n",
    "logging.basicConfig(filename='log.txt', level=logging.ERROR)"
   ]
  },
  {
   "cell_type": "code",
   "execution_count": 155,
   "metadata": {},
   "outputs": [],
   "source": [
    "# wczytuje ustawienia aplikacji\n",
    "\n",
    "try:\n",
    "    f = open('settings.json')\n",
    "    settings = json.load(f)\n",
    "except FileNotFoundError:\n",
    "    f = open('settings.json', 'w')\n",
    "    json.dump({}, f)\n",
    "    settings = {}\n",
    "finally:\n",
    "    f.close()\n"
   ]
  },
  {
   "cell_type": "code",
   "execution_count": null,
   "metadata": {},
   "outputs": [],
   "source": [
    "# uruchom przeglądarkę z odpowiednim profilem\n",
    "\n",
    "chrome_options = Options()\n",
    "chrome_options.add_argument('user-data-dir=' + settings['path'])\n",
    "# chrome_options.add_argument('user-data-dir=C:\\\\Users\\\\klime\\\\AppData\\\\Local\\\\Google\\\\Chrome\\\\User Data\\\\TribalWars')\n",
    "chrome_options.add_argument('start-maximized')\n",
    "chrome_options.add_extension(extension='0.62.crx')\n",
    "chrome_options.add_experimental_option(\"useAutomationExtension\", False)\n",
    "chrome_options.add_experimental_option(\"excludeSwitches\", [\"enable-automation\", \"disable-popup-blocking\"])\n",
    "try:    \n",
    "    driver = webdriver.Chrome(service=Service(ChromeDriverManager(cache_valid_range=31).install()), options=chrome_options)\n",
    "except BaseException as base:\n",
    "    print(base)\n",
    "driver.set_page_load_timeout(5)"
   ]
  },
  {
   "cell_type": "code",
   "execution_count": 145,
   "metadata": {},
   "outputs": [
    {
     "name": "stdout",
     "output_type": "stream",
     "text": [
      "0.009213899997121189\n"
     ]
    }
   ],
   "source": [
    "a = time.perf_counter()\n",
    "# Tu testuj swój kod i mierz czas wykonania!!! :D\n",
    "\n",
    "\n",
    "print(time.perf_counter()-a)\n"
   ]
  },
  {
   "cell_type": "code",
   "execution_count": null,
   "metadata": {},
   "outputs": [],
   "source": [
    "537|629\n",
    "536|618\n",
    "504|593\n",
    "513|591\n",
    "555|591\n",
    "514|593\n",
    "533|615\n",
    "525|615\n",
    "454|524\n",
    "462|528\n",
    "509|622\n",
    "509|620\n",
    "509|623\n",
    "509|624\n",
    "506|599\n",
    "502|609\n",
    "505|583\n",
    "492|602\n",
    "524|623\n",
    "492|611\n",
    "489|562\n",
    "489|561\n",
    "508|623\n",
    "530|625\n",
    "523|649\n",
    "513|644\n",
    "491|561\n",
    "485|600\n",
    "491|611\n",
    "510|630\n",
    "490|601\n",
    "492|592\n",
    "447|586"
   ]
  },
  {
   "cell_type": "code",
   "execution_count": 2,
   "metadata": {},
   "outputs": [
    {
     "name": "stdout",
     "output_type": "stream",
     "text": [
      "c:\\Users\\klime\\VS Code\\selenium_chrome\\logs\n"
     ]
    }
   ],
   "source": [
    "import logging, os\n",
    "if not os.path.exists('logs'):\n",
    "    os.mkdir('logs')\n",
    "if not os.path.exists('logs\\\\pyu.log'):\n",
    "    open('logs\\\\pyu.log').close()\n",
    "\n",
    "print(os.getcwd() + \"\\\\logs\")\n",
    "    \n",
    "logging.basicConfig(filename=\"logs/log.txt\", level=logging.ERROR)\n",
    "\n",
    "logging.error('no i szlag trafił kaskę ;pp')"
   ]
  },
  {
   "cell_type": "code",
   "execution_count": 1,
   "metadata": {},
   "outputs": [
    {
     "name": "stdout",
     "output_type": "stream",
     "text": [
      "yes\n"
     ]
    }
   ],
   "source": [
    "import os\n",
    "import logging\n",
    "\n",
    "logger = logging.getLogger()\n",
    "logger.setLevel(logging.DEBUG)\n",
    "if os.path.exists(\"logs/debug.txt\"):\n",
    "    print('yes')\n",
    "    debug_handler = logging.FileHandler(\"logs/debug.txt\")\n",
    "    f_format = logging.Formatter(\n",
    "        \"\\n%(levelname)s:%(name)s:%(asctime)s %(message)s\", datefmt=\"%d-%m-%Y %H:%M:%S\"\n",
    "    )\n",
    "    debug_handler.setFormatter(f_format)\n",
    "    debug_handler.setLevel(logging.DEBUG)\n",
    "    logger.addHandler(debug_handler)\n",
    "logger.debug(\"someinfo\")"
   ]
  },
  {
   "cell_type": "markdown",
   "metadata": {},
   "source": [
    "### Change villages name"
   ]
  },
  {
   "cell_type": "code",
   "execution_count": 4,
   "metadata": {},
   "outputs": [],
   "source": [
    "rename_list = driver.find_elements(By.CLASS_NAME, \"rename-icon\")\n",
    "for rename in rename_list:\n",
    "    driver.execute_script('arguments[0].scrollIntoView({\"block\": \"center\"});', rename)\n",
    "    rename.click()\n",
    "for index, village_name in enumerate(driver.find_elements(By.XPATH, '//*[@id=\"combined_table\"]/tbody/tr/td[2]/span/span[2]/input[1]')[1:]):\n",
    "    driver.execute_script('arguments[0].scrollIntoView({\"block\": \"center\"});', village_name)\n",
    "    village_name.clear()\n",
    "    village_name.send_keys(f\"klimekop6 {index+1:03}\")\n",
    "for change_name in driver.find_elements(By.XPATH, '//*[@id=\"combined_table\"]/tbody/tr/td[2]/span/span[2]/input[2]'):\n",
    "    driver.execute_script('arguments[0].scrollIntoView({\"block\": \"center\"});', change_name)\n",
    "    change_name.click()"
   ]
  },
  {
   "cell_type": "code",
   "execution_count": 124,
   "metadata": {},
   "outputs": [],
   "source": [
    "from lxml import html\n",
    "\n",
    "current_village_id = int(\n",
    "    driver.execute_script(\"return window.game_data.village.id\")\n",
    ")\n",
    "url = driver.current_url\n",
    "url = url[: url.rfind(\"/\")]\n",
    "player_profile_url = (\n",
    "    url + f\"/game.php?village={current_village_id}&screen=info_player\"\n",
    ")\n",
    "html_response = driver.execute_script(\n",
    "    f\"\"\"\n",
    "    var request = new XMLHttpRequest();\n",
    "    request.open(\"GET\", \"{player_profile_url}\", false);\n",
    "    request.send(null);   \n",
    "    return request.responseText;\"\"\"\n",
    ")\n",
    "doc = html.fromstring(html_response)\n",
    "doc = doc.xpath('//table[@id=\"villages_list\"]/tbody/tr')\n",
    "if len(doc) > 100:\n",
    "    player_id = driver.execute_script('return game_data.player.id')\n",
    "    get_remain_villages_url = f\"{player_profile_url}&ajax=fetch_villages&player_id={player_id}\"\n",
    "    html_response = driver.execute_script(\n",
    "        f\"\"\"\n",
    "        var request = new XMLHttpRequest();\n",
    "        request.open(\"GET\", \"{get_remain_villages_url}\", false);\n",
    "        request.send(null);   \n",
    "        return request.responseText;\"\"\"\n",
    "    )\n",
    "    add_to_doc = html.fromstring(json.loads(html_response)[\"villages\"])\n",
    "    doc.pop()\n",
    "    doc.extend(add_to_doc)\n",
    "    \n",
    "for row in doc:\n",
    "    village_id = row.xpath(\"td/table/tr/td/span\")[0].get(\"data-id\")\n",
    "    village_url = (\n",
    "        url + f\"/game.php?village={village_id}&screen=market&mode=exchange\"\n",
    "    )\n",
    "    village_coords = row.xpath(\"td\")[-2].text\n",
    "    "
   ]
  },
  {
   "cell_type": "code",
   "execution_count": 22,
   "metadata": {},
   "outputs": [
    {
     "name": "stdout",
     "output_type": "stream",
     "text": [
      "{\"result\":[{\"item_id\":\"30227\",\"type\":\"group_dynamic\",\"group_id\":\"22672\",\"group\":{\"id\":\"22672\",\"player_id\":8689671,\"name\":\"Pe\\u0142ny atak\",\"filters\":[{\"value\":\"offense\"},{\"pop_status\":\"available\",\"operator\":\"<\",\"pop\":1},{\"pop_status\":\"used\",\"operator\":\">\",\"pop\":23999}]},\"name\":\"Pe\\u0142ny atak\",\"link\":\"\\/game.php?village=10611&screen=overview_villages&&group=22672\"},{\"item_id\":\"30228\",\"type\":\"group_dynamic\",\"group_id\":\"22673\",\"group\":{\"id\":\"22673\",\"player_id\":8689671,\"name\":\"Nadchodz\\u0105cy atak\",\"filters\":[{\"value\":1}]},\"name\":\"Nadchodz\\u0105cy atak\",\"link\":\"\\/game.php?village=10611&screen=overview_villages&&group=22673\"},{\"item_id\":\"30229\",\"type\":\"group_dynamic\",\"group_id\":\"22674\",\"group\":{\"id\":\"22674\",\"player_id\":8689671,\"name\":\"Ma szlachcica\",\"filters\":[{\"value\":\"1\"}]},\"name\":\"Ma szlachcica\",\"link\":\"\\/game.php?village=10611&screen=overview_villages&&group=22674\"},{\"item_id\":\"30230\",\"type\":\"group_all\",\"group_id\":\"0\",\"group\":{\"id\":0,\"player_id\":8689671,\"name\":\"wszystkie\"},\"name\":\"wszystkie\",\"link\":\"\\/game.php?village=10611&screen=overview_villages&&group=0\"}],\"village_id\":\"10611\",\"group_id\":\"0\"}\n"
     ]
    }
   ],
   "source": [
    "player_profile_url = (\n",
    "    \"https://pl175.plemiona.pl/game.php?village=10611&screen=groups&mode=overview&ajax=load_group_menu&\"\n",
    ")\n",
    "\n",
    "\n",
    "html_response = driver.execute_script(\n",
    "    f\"\"\"\n",
    "    var request = new XMLHttpRequest();\n",
    "    request.open(\"GET\", \"{player_profile_url}\", false);\n",
    "    request.send(null);   \n",
    "    return request.responseText;\"\"\"\n",
    ")\n",
    "\n",
    "# print(html_response)\n",
    "json.load(html_response)"
   ]
  },
  {
   "cell_type": "code",
   "execution_count": 24,
   "metadata": {},
   "outputs": [],
   "source": [
    "groups = json.loads(html_response)"
   ]
  },
  {
   "cell_type": "code",
   "execution_count": 12,
   "metadata": {},
   "outputs": [],
   "source": [
    "driver.execute_script('javascript:selectVillage(15449, 0)')"
   ]
  },
  {
   "cell_type": "code",
   "execution_count": 7,
   "metadata": {},
   "outputs": [
    {
     "data": {
      "text/plain": [
       "True"
      ]
     },
     "execution_count": 7,
     "metadata": {},
     "output_type": "execute_result"
    }
   ],
   "source": [
    "import os\n",
    "os.path.exists(r\"\\\\Srv-01\\ftp\")"
   ]
  },
  {
   "cell_type": "markdown",
   "metadata": {},
   "source": [
    "### xmltodict"
   ]
  },
  {
   "cell_type": "code",
   "execution_count": 40,
   "metadata": {},
   "outputs": [
    {
     "name": "stdout",
     "output_type": "stream",
     "text": [
      "0.2459867000579834\n"
     ]
    }
   ],
   "source": [
    "import xmltodict\n",
    "a = time.time()\n",
    "response = requests.get(\"https://pl173.plemiona.pl/interface.php?func=get_config\")\n",
    "dict_data = xmltodict.parse(response.content)\n",
    "print(time.time()-a)\n"
   ]
  },
  {
   "cell_type": "markdown",
   "metadata": {},
   "source": [
    "### XMLHttpRequest() using JS"
   ]
  },
  {
   "cell_type": "code",
   "execution_count": 6,
   "metadata": {},
   "outputs": [],
   "source": [
    "current_village_id = int(driver.execute_script('return window.game_data.village.id'))\n",
    "url = driver.current_url\n",
    "url = url[:url.rfind('/')]\n",
    "player_profile_url = url + f'/game.php?village={current_village_id}&screen=info_player'\n",
    "html_response = driver.execute_script(f'''\n",
    "    var request = new XMLHttpRequest();\n",
    "    request.open(\"GET\", \"{player_profile_url}\", false);\n",
    "    request.send(null);   \n",
    "    return request.responseText;''')   # return request.responseText\n",
    "doc = html.fromstring(html_response)\n",
    "doc = doc.xpath('//table[@id=\"villages_list\"]/tbody/tr')"
   ]
  },
  {
   "cell_type": "markdown",
   "metadata": {},
   "source": [
    "### Get villages id on current world saved settings"
   ]
  },
  {
   "cell_type": "code",
   "execution_count": 34,
   "metadata": {},
   "outputs": [],
   "source": [
    "def get_villages_id(settings: dict[str], update: bool=False) -> dict:\n",
    "    \"\"\"Download, process and save in text file for future use.\n",
    "    In the end return all villages in the world with proper id.\n",
    "    \"\"\"    \n",
    "\n",
    "    def update_file() -> None:\n",
    "        \"\"\"Create or update file with villages and their id's\"\"\"\n",
    "\n",
    "        url = f'http://pl{settings[\"world_number\"]}.plemiona.pl/map/village.txt'\n",
    "        response = requests.get(url)\n",
    "        response = response.text\n",
    "        response = response.splitlines()    \n",
    "        villages = {}\n",
    "        for row in response:\n",
    "            id, _, x, y, _, _, _ = row.split(',')\n",
    "            villages[x+'|'+y] = id\n",
    "\n",
    "        try:\n",
    "            world_villages_file = open(f'villages{settings[\"world_number\"]}.txt', 'w')\n",
    "        except:\n",
    "            logging.error(f'There was a problem with villages{settings[\"world_number\"]}.txt')\n",
    "        else:\n",
    "            for village_coords, village_id in villages.items():\n",
    "                world_villages_file.write(f'{village_coords},{village_id}\\n')\n",
    "        finally:\n",
    "            world_villages_file.close()\n",
    "\n",
    "    if update:\n",
    "        update_file()\n",
    "\n",
    "    villages = {}\n",
    "    try:\n",
    "        world_villages_file = open(f'villages{settings[\"world_number\"]}.txt')\n",
    "    except FileNotFoundError:\n",
    "        update_file()\n",
    "        world_villages_file = open(f'villages{settings[\"world_number\"]}.txt')\n",
    "    else:\n",
    "        for row in world_villages_file:\n",
    "            village_coords, village_id = row.split(',')\n",
    "            villages[village_coords] = village_id\n",
    "    finally:\n",
    "        world_villages_file.close()\n",
    "\n",
    "    return villages\n",
    "\n",
    "villages = get_villages_id(settings=settings)"
   ]
  },
  {
   "cell_type": "markdown",
   "metadata": {},
   "source": [
    "### Check folder existence if not exist create it"
   ]
  },
  {
   "cell_type": "code",
   "execution_count": 15,
   "metadata": {},
   "outputs": [
    {
     "name": "stdout",
     "output_type": "stream",
     "text": [
      "0.0009925365447998047\n"
     ]
    }
   ],
   "source": [
    "a = time.time()\n",
    "if not os.path.isdir('settings'):\n",
    "    os.mkdir('settings')\n",
    "print(time.time()-a)"
   ]
  },
  {
   "cell_type": "markdown",
   "metadata": {},
   "source": [
    "### Selenium vs lxml parser speed test"
   ]
  },
  {
   "cell_type": "code",
   "execution_count": 24,
   "metadata": {},
   "outputs": [
    {
     "name": "stdout",
     "output_type": "stream",
     "text": [
      "0.023021459579467773\n",
      "0.009007453918457031\n",
      "16694\n"
     ]
    }
   ],
   "source": [
    "import lxml\n",
    "\n",
    "a = time.time()\n",
    "max([ele.text for ele in driver.find_elements_by_xpath('//*[@id=\"scavenge_screen\"]/div/div[2]/div/div[3]/div/ul/li[4]/span[2]')])\n",
    "print(time.time()-a)\n",
    "\n",
    "a = time.time()\n",
    "doc = lxml.html.fromstring(driver.find_element_by_xpath('//*[@id=\"scavenge_screen\"]/div/div[2]').get_attribute('innerHTML'))\n",
    "doc = doc.xpath('//div/div[3]/div/ul/li[4]/span[2]')\n",
    "max([ele.text for ele in doc])\n",
    "print(time.time()-a)\n",
    "\n",
    "doc = lxml.html.fromstring(driver.find_element_by_xpath('//*[@id=\"scavenge_screen\"]/div/div[2]').get_attribute('innerHTML'))\n",
    "doc = doc.xpath('//div/div[3]/div/ul/li[4]/span[2]')\n",
    "journey_time = [int(_) for _ in max([ele.text for ele in doc]).split(':')]\n",
    "journey_time = journey_time[0] *3600 + journey_time[1] * 60 + journey_time[2]\n",
    "\n",
    "print(journey_time)"
   ]
  },
  {
   "cell_type": "code",
   "execution_count": null,
   "metadata": {},
   "outputs": [],
   "source": [
    "a = time.time()\n",
    "current_village = driver.find_element(By.XPATH, '//*[@id=\"menu_row2\"]/td/b').text\n",
    "coords = re.search(r'\\d{3}\\|\\d{3}', current_village).group()\n",
    "print(time.time()-a)\n",
    "print(coords)\n",
    "\n",
    "a = time.time()\n",
    "current_village = driver.execute_script('return window.game_data.village.coord')\n",
    "print(time.time()-a)\n",
    "print(current_village)"
   ]
  },
  {
   "cell_type": "code",
   "execution_count": 61,
   "metadata": {},
   "outputs": [
    {
     "name": "stdout",
     "output_type": "stream",
     "text": [
      "0.03403115272521973\n",
      "['(0)', '(0)', '(158)', '(0)', '(139)', '(0)', '(0)', '(0)']\n",
      "0.0010013580322265625\n",
      "['(0)', '(0)', '(158)', '(0)', '(139)', '(0)', '(0)', '(0)']\n"
     ]
    }
   ],
   "source": [
    "doc = lxml.html.fromstring(driver.page_source)\n",
    "a = time.time()\n",
    "troops_number = driver.find_element_by_xpath('//*[@id=\"scavenge_screen\"]/div/div[1]/table/tbody/tr[2]').text.splitlines()[:-1]\n",
    "print(time.time()-a)\n",
    "print(troops_number)\n",
    "a = time.time()\n",
    "troops_number = [troop_number.text for troop_number in doc.xpath('//*[@id=\"scavenge_screen\"]/div/div[1]/table/tbody/tr[2]/td/a')][:-1]\n",
    "print(time.time()-a)\n",
    "print(troops_number)\n"
   ]
  },
  {
   "cell_type": "markdown",
   "metadata": {},
   "source": [
    "### Selenium vs JavaScript speed test"
   ]
  },
  {
   "cell_type": "code",
   "execution_count": null,
   "metadata": {},
   "outputs": [],
   "source": [
    "a = time.perf_counter()\n",
    "print(driver.find_elements(By.CSS_SELECTOR, \".antigate_solver\"))\n",
    "print(time.perf_counter()-a)\n",
    "\n",
    "a = time.perf_counter()\n",
    "print(driver.execute_script('return document.querySelector(\".antigate_solver.error\");'))\n",
    "print(time.perf_counter()-a)"
   ]
  },
  {
   "cell_type": "markdown",
   "metadata": {},
   "source": [
    "### id i coordy wiosek gracza"
   ]
  },
  {
   "cell_type": "code",
   "execution_count": 87,
   "metadata": {},
   "outputs": [],
   "source": [
    "WebDriverWait(driver, 10).until(EC.element_to_be_clickable((By.XPATH, '//*[@id=\"menu_row\"]/td[11]/a'))).click()\n",
    "village_number = WebDriverWait(driver, 10).until(EC.element_to_be_clickable((By.XPATH, '//*[@id=\"villages_list\"]/thead/tr/th[1]'))).text\n",
    "village_number = int(village_number[village_number.find('(')+1:-1])\n",
    "if village_number > 100:\n",
    "    element = WebDriverWait(driver, 10).until(EC.element_to_be_clickable((By.XPATH, '//*[@id=\"villages_list\"]/tbody/tr[101]/td/a')))\n",
    "    driver.execute_script('return arguments[0].scrollIntoView(true);', element)\n",
    "    element.click()\n",
    "    WebDriverWait(driver, 10, 0.1).until(EC.element_to_be_clickable((By.XPATH, '//*[@id=\"villages_list\"]/tbody/tr[101]/td[3]')))\n",
    "villages = {'id': [id.get_attribute('data-id') for id in driver.find_elements_by_xpath('//*[@id=\"villages_list\"]/tbody/tr/td[1]/table/tbody/tr/td[1]/span')],\n",
    "            'coords': [coords.text for coords in driver.find_elements_by_xpath('//*[@id=\"villages_list\"]/tbody/tr/td[3]')]}\n"
   ]
  },
  {
   "cell_type": "markdown",
   "metadata": {},
   "source": [
    "### Uniki średnie i duże"
   ]
  },
  {
   "cell_type": "code",
   "execution_count": null,
   "metadata": {},
   "outputs": [],
   "source": [
    "WebDriverWait(driver, 10).until(EC.element_to_be_clickable((By.ID, 'incomings_cell'))).click() # przełącz do strony nadchodzących ataków\n",
    "manage_filters = WebDriverWait(driver, 10).until(EC.element_to_be_clickable((By.XPATH, '//*[@id=\"paged_view_content\"]/a'))) # filtr ataków\n",
    "if driver.find_element_by_xpath('//*[@id=\"paged_view_content\"]/div[2]').get_attribute('style').find('display: none') != -1: # czy włączony\n",
    "    manage_filters.click() # włącz filtr ataków\n",
    "WebDriverWait(driver, 10).until(EC.element_to_be_clickable((By.XPATH, '//*[@id=\"paged_view_content\"]/div[2]/form/table/tbody/tr[2]/td[2]/input'))).clear() # etykieta rozkazu\n",
    "attack_size = input('1 all\\n'\n",
    "                    '2 small\\n'\n",
    "                    '3 medium\\n'\n",
    "                    '4 big')\n",
    "WebDriverWait(driver, 10).until(EC.element_to_be_clickable((By.XPATH, f'//*[@id=\"paged_view_content\"]/div[2]/form/table/tbody/tr[6]/td/label[{attack_size}]/input'))).click() # wielkość idących wojsk\n",
    "WebDriverWait(driver, 10).until(EC.element_to_be_clickable((By.XPATH, '//*[@id=\"paged_view_content\"]/div[2]/form/table/tbody/tr[7]/td/input'))).click() # zapisz i przeładuj\n",
    "WebDriverWait(driver, 10).until(EC.element_to_be_clickable((By.XPATH, '//*[@id=\"paged_view_content\"]/a'))) # sprawdź widoczność przycisku \"zarządzanie filtrami\"\n",
    "try:\n",
    "    driver.find_element_by_id('incomings_table') # czy są ataki spełniające powyższe kryteria\n",
    "except:\n",
    "    pass\n",
    "\n",
    "targets = driver.find_elements_by_xpath('//*[@id=\"incomings_table\"]/tbody/tr/td[2]/a')\n",
    "dates = driver.find_elements_by_xpath('//*[@id=\"incomings_table\"]/tbody/tr/td[6]')\n",
    "\n",
    "date_time = time.gmtime()\n",
    "\n",
    "targets = [target.get_attribute('href') for target in targets]\n",
    "dates = [data.text for data in dates]\n",
    "\n",
    "for index, date in enumerate(dates):\n",
    "    if date.startswith('dzisiaj'):\n",
    "        dates[index] = date.replace('dzisiaj o', f'{date_time.tm_mday}.{date_time.tm_mon :>02}.{date_time.tm_year}')[:-4]\n",
    "    elif date.startswith('jutro o'):\n",
    "        dates[index] = date.replace('jutro o', f'{date_time.tm_mday+1}.{date_time.tm_mon :>02}.{date_time.tm_year}')[:-4]\n",
    "    else:\n",
    "        dates[index] = date.replace('dnia ', '').replace('. o', f'.{date_time.tm_year}')[:-4]\n",
    "\n",
    "dates = [time.mktime(time.strptime(date, '%d.%m.%Y %H:%M:%S')) for date in dates]\n",
    "targets = [target.replace('overview', 'place') for target in targets]\n",
    "\n",
    "while True:\n",
    "    search_for = villages['coords'][villages['id'].index(targets[0][targets[0].find('=')+1:targets[0].find('&')])]\n",
    "    nearest = sorted([[sqrt(pow(int(search_for[:3])-int(village[:3]), 2) + pow(int(search_for[4:])-int(village[4:]), 2)), index] for index, village in enumerate(villages['coords'])])[1][1]\n",
    "    targets[0] += '&target=' + villages['id'][nearest]\n",
    "    while True:        \n",
    "        if time.time() > dates[0] - 5:\n",
    "            driver.get(targets[0])            \n",
    "            WebDriverWait(driver, 10).until(EC.element_to_be_clickable((By.ID, 'selectAllUnits'))).click()\n",
    "            WebDriverWait(driver, 10).until(EC.element_to_be_clickable((By.ID, 'target_support'))).click()\n",
    "            WebDriverWait(driver, 10).until(EC.element_to_be_clickable((By.ID, 'troop_confirm_go'))).click()\n",
    "            send_time = time.time()        \n",
    "            break_attack = WebDriverWait(driver, 10).until(EC.element_to_be_clickable((By.CLASS_NAME, 'command-cancel')))\n",
    "            time.sleep(((dates[0] - send_time) / 2) + 1)\n",
    "            driver.get(break_attack.get_attribute('href'))\n",
    "            del dates[0], targets[0]\n",
    "            break\n"
   ]
  },
  {
   "cell_type": "code",
   "execution_count": 49,
   "metadata": {},
   "outputs": [],
   "source": [
    "# wystawianie offert tylko dla plemienia\n",
    "\n",
    "current_village_link = WebDriverWait(driver, 10).until(EC.element_to_be_clickable((By.XPATH, '//*[@id=\"menu_row2_village\"]/a')))\n",
    "summary_production = current_village_link.get_attribute('href') + '_villages&mode=prod'\n",
    "driver.get(summary_production)\n",
    "\n",
    "villages_resources = {'villages': [], 'resources': [], 'summary': []}\n",
    "villages_resources['villages'] = [village_resources.get_attribute('href').replace('overview', 'market&mode=own_offer') for village_resources in driver.find_elements_by_xpath('//*[@id=\"production_table\"]/tbody/tr/td[2]/span/span/a[1]')]\n",
    "resources = [int(resource.text.replace('.', '')) for resource in driver.find_elements_by_xpath('//*[@id=\"production_table\"]/tbody/tr/td[4]/span')]\n",
    "villages_resources['resources'] = [[resources[index], resources[index+1], resources[index+2]] for index in range(0, len(resources), 3)] \n",
    "\n",
    "for i in range(3):\n",
    "    villages_resources['summary'].extend([sum([resource[i] for resource in villages_resources['resources']])]) \n",
    "offer = villages_resources['summary'].index(max(villages_resources['summary']))                 \n",
    "need = villages_resources['summary'].index(min(villages_resources['summary']))\n",
    "\n",
    "for (village, resource) in zip(villages_resources['villages'], villages_resources['resources']):\n",
    "    if resource[need] < 20000 and resource[offer] > 100000:\n",
    "        driver.get(village)\n",
    "        WebDriverWait(driver, 10).until(EC.element_to_be_clickable((By.XPATH, f'//*[@id=\"res_buy_selection\"]/label[{need+1}]/input'))).click()\n",
    "        WebDriverWait(driver, 10).until(EC.element_to_be_clickable((By.XPATH, f'//*[@id=\"res_sell_selection\"]/label[{offer+1}]/input'))).click()\n",
    "        how_many = WebDriverWait(driver, 10).until(EC.element_to_be_clickable((By.XPATH, '//*[@id=\"own_offer_form\"]/table[3]/tbody/tr[2]/td[2]/input')))\n",
    "        max_to_use = int((resource[offer] - 100000) / 1000) \n",
    "        if max_to_use < int(how_many.get_attribute('value')):\n",
    "            how_many.clear()\n",
    "            how_many.send_keys(str(max_to_use))      \n",
    "        element = WebDriverWait(driver, 10).until(EC.element_to_be_clickable((By.XPATH, '//*[@id=\"own_offer_form\"]/table[3]/tbody/tr[4]/td[2]/label/input')))\n",
    "        driver.execute_script('return arguments[0].scrollIntoView(true);', element)\n",
    "        element.click()\n",
    "        element = WebDriverWait(driver, 10).until(EC.element_to_be_clickable((By.XPATH, '//*[@id=\"submit_offer\"]')))\n",
    "        driver.execute_script('return arguments[0].scrollIntoView(true);', element)\n",
    "        element.click()\n",
    "    else:\n",
    "        continue"
   ]
  },
  {
   "cell_type": "code",
   "execution_count": null,
   "metadata": {},
   "outputs": [],
   "source": [
    "# odsyłanie wybranego wsparcia\n",
    "\n",
    "code = driver.find_element_by_xpath('//*[@id=\"withdraw_selected_units_village_info\"]/table/tbody').get_attribute(\"innerHTML\")\n",
    "temp = code.split('<tr>')[2:-1]\n",
    "omit = 2\n",
    "for index in range(len(temp)):\n",
    "    temp[index] = temp[index].split('<td style')[1:-5]\n",
    "    if temp[index][0].find('has-input') == -1:\n",
    "        continue\n",
    "    del temp[index][4], temp[index][2]\n",
    "    for row, value in zip(range(len(temp[index])), (2, 3, 5, 7)):\n",
    "        temp[index][row] = [value, temp[index][row]]\n",
    "    for row in range(len(temp[index])):\n",
    "        if temp[index][row][0] == omit:\n",
    "            continue\n",
    "        if temp[index][row][1].find('hidden') != -1:\n",
    "            continue\n",
    "        ele = driver.find_element_by_xpath(f'//*[@id=\"withdraw_selected_units_village_info\"]/table/tbody/tr[{index+2}]/td[{temp[index][row][0]}]')\n",
    "        html = temp[index][row][1][temp[index][row][1].find('<'):-5]\n",
    "        html = html[:html.find('value')] + 'value=\"\" ' + html[html.find('min'):]\n",
    "        driver.execute_script(f'''arguments[0].innerHTML = '{html}';''', ele)"
   ]
  },
  {
   "cell_type": "markdown",
   "metadata": {},
   "source": [
    "### Mark villages on map"
   ]
  },
  {
   "cell_type": "code",
   "execution_count": 330,
   "metadata": {},
   "outputs": [],
   "source": [
    "# zaznacz na mapie puste wioski graczy\n",
    "# wymagane posiadanie podwyższony uprawnień w plemieniu\n",
    "\n",
    "villages_to_mark = []\n",
    "url = driver.current_url\n",
    "village_id = url[url.find('=')+1:url.find('&')]\n",
    "url = url[:url.find('?')+1] + 'screen=ally&mode=members_defense&player_id=&village=' + village_id\n",
    "player_name = driver.find_element_by_xpath('//*[@id=\"menu_row\"]/td[11]/table/tbody/tr[1]/td/a').get_attribute(\"innerHTML\")\n",
    "current_player_id = driver.find_element_by_xpath(f'//*[@id=\"ally_content\"]/div/form/select/option[contains(text(), \"{player_name}\")]').get_attribute('value')\n",
    "player_id = [player_id.get_attribute('value') for player_id in driver.find_elements_by_xpath('//*[@id=\"ally_content\"]/div/form/select/option')][1:]\n",
    "del player_id[player_id.index(str(current_player_id))]\n",
    "for id in player_id:\n",
    "    driver.get(url[:url.find('player_id')+10] + id + url[url.rfind('&'):])\n",
    "    if not driver.find_elements_by_xpath('//*[@id=\"ally_content\"]/div/div'): # omija graczy bez wiosek  \n",
    "        continue\n",
    "    village_number = len(driver.find_elements_by_xpath('//*[@id=\"ally_content\"]/div/div/table/tbody/tr/td[1]'))\n",
    "    tmp1 = driver.find_element_by_xpath('//*[@id=\"ally_content\"]/div/div/table/tbody').text\n",
    "    if tmp1.find('?') != -1: # omija graczy którzy nie udostępniają podglądu swoich wojsk\n",
    "        continue\n",
    "    tmp1 = [tmp[tmp.find(' w wiosce ')+10:] for tmp in tmp1.splitlines()[1::2]]\n",
    "    tmp1 = [tmp.split() for tmp in tmp1]\n",
    "    for index in range(len(tmp1)):\n",
    "        tmp1[index].insert(0, index*2+2)\n",
    "    index = 0\n",
    "    while index < len(tmp1):\n",
    "        if sum([int(cell) for cell in tmp1[index][1:]]) > 100:\n",
    "            del tmp1[index]\n",
    "            continue\n",
    "        index += 1\n",
    "    for index in range(len(tmp1)):\n",
    "        tmp1[index][0] = driver.find_element_by_xpath(f'//*[@id=\"ally_content\"]/div/div/table/tbody/tr[{tmp1[index][0]}]/td[1]/a').get_attribute('href')\n",
    "    villages_to_mark.extend([to_mark[0] for to_mark in tmp1])\n",
    "\n",
    "for village_to_mark in villages_to_mark:\n",
    "    driver.get(village_to_mark)\n",
    "    driver.find_element_by_xpath('//*[@id=\"content_value\"]/table/tbody/tr/td[1]/table[2]/tbody/tr[8]').click() # otwiera zarządzanie zaznaczeniami mapy\n",
    "    WebDriverWait(driver, 10, 0.1).until(EC.element_to_be_clickable((By.XPATH, '//*[@id=\"map_color_assignment\"]/form[1]/table/tbody/tr[4]/td/input'))) # czeka na załadowanie kodu HTML\n",
    "    groups = [label_name.text for label_name in driver.find_elements_by_xpath('//*[@id=\"map_group_management\"]/table/tbody/tr/td/label')] # dostępne grupy zaznaczeń na mapie\n",
    "    group_name = 'FARMA' \n",
    "    element = driver.find_element_by_xpath(f'//*[@id=\"map_group_management\"]/table/tbody/tr[{groups.index(group_name)+1}]/td/label/input') # klika wybraną nazwę grupy\n",
    "    driver.execute_script('return arguments[0].scrollIntoView(true);', element)\n",
    "    element.click()\n",
    "    element = driver.find_element_by_xpath('//*[@id=\"map_group_management\"]/table/tbody/tr/td/input[@value=\"Zapisz\"]') # zapisuję wybór\n",
    "    driver.execute_script('return arguments[0].scrollIntoView(true);', element)\n",
    "    element.click()"
   ]
  },
  {
   "cell_type": "markdown",
   "metadata": {},
   "source": [
    "### Creating datatime object from string"
   ]
  },
  {
   "cell_type": "code",
   "execution_count": 157,
   "metadata": {},
   "outputs": [
    {
     "name": "stdout",
     "output_type": "stream",
     "text": [
      "0.00699615478515625\n",
      "0.05200052261352539\n",
      "0.309006929397583\n"
     ]
    }
   ],
   "source": [
    "import time\n",
    "from datetime import datetime\n",
    "from dateutil import parser\n",
    "\n",
    "test = '2019-12-18 15:52:30'\n",
    "a = time.time()\n",
    "for i in range(10000):\n",
    "    datetime(int(test[:4]), int(test[5:7]), int(test[8:10]), int(test[11:13]), int(test[14:16]), int(test[17:19]))\n",
    "print(time.time()-a)\n",
    "\n",
    "a = time.time()\n",
    "for i in range(10000):\n",
    "    datetime.strptime(test, '%Y-%m-%d %H:%M:%S')\n",
    "print(time.time()-a)\n",
    "\n",
    "a = time.time()\n",
    "for i in range(10000):\n",
    "    parser.parse(test)\n",
    "print(time.time()-a)\n",
    "\n"
   ]
  },
  {
   "cell_type": "markdown",
   "metadata": {},
   "source": [
    "### Zbieranie danych z podanych plemion na podstawie ich id"
   ]
  },
  {
   "cell_type": "code",
   "execution_count": null,
   "metadata": {},
   "outputs": [],
   "source": [
    "tribes_id = [186, 575, 99, 2455]\n",
    "all_names = []\n",
    "for tribe_id in tribes_id:\n",
    "    driver.get(f'https://pl173.plemiona.pl/game.php?village=44632&screen=info_ally&id={tribe_id}')\n",
    "    names = driver.find_elements(By.XPATH, '//*[@id=\"content_value\"]/table/tbody/tr/td[1]/table[2]/tbody/tr/td[1]/a')\n",
    "    all_names.extend([name.get_attribute('href') for name in names])"
   ]
  },
  {
   "cell_type": "markdown",
   "metadata": {},
   "source": [
    "### Dodawanie do znajomych"
   ]
  },
  {
   "cell_type": "code",
   "execution_count": 25,
   "metadata": {},
   "outputs": [],
   "source": [
    "import random\n",
    "\n",
    "from urllib.parse import urlparse, parse_qs\n",
    "for player_url in all_names:\n",
    "    player_id = parse_qs(urlparse(player_url).query)\n",
    "    driver.get(f\"https://pl173.plemiona.pl/game.php?village=44632&screen=info_player&id={player_id['id'][0]}\")\n",
    "    add_to_friend = driver.find_elements(By.XPATH, '//*[@id=\"content_value\"]/table/tbody/tr/td[1]/table[2]/tbody/tr[3]/td/a')\n",
    "                                                    \n",
    "    if not add_to_friend:\n",
    "        continue\n",
    "    if 'Dodaj jako przyjaciela' in add_to_friend[0].text:\n",
    "        driver.get(add_to_friend[0].get_attribute('href'))\n",
    "        continue    \n",
    "    add_to_friend = driver.find_elements(By.XPATH, '//*[@id=\"content_value\"]/table/tbody/tr/td[1]/table[2]/tbody/tr[4]/td/a')\n",
    "    if add_to_friend and 'Dodaj jako przyjaciela' in add_to_friend[0].text:\n",
    "        driver.get(add_to_friend[0].get_attribute('href'))\n",
    "    \n"
   ]
  }
 ],
 "metadata": {
  "interpreter": {
   "hash": "17137849ae6ef16417cf1b6aea61de778ead0b3f68de60d202d858668d2c59bb"
  },
  "kernelspec": {
   "display_name": "Python 3.10.0 ('.venv_tribal_wars': venv)",
   "language": "python",
   "name": "python3"
  },
  "language_info": {
   "codemirror_mode": {
    "name": "ipython",
    "version": 3
   },
   "file_extension": ".py",
   "mimetype": "text/x-python",
   "name": "python",
   "nbconvert_exporter": "python",
   "pygments_lexer": "ipython3",
   "version": "3.10.5"
  },
  "orig_nbformat": 4
 },
 "nbformat": 4,
 "nbformat_minor": 2
}
