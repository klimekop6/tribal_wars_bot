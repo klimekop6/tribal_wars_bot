{
 "cells": [
  {
   "cell_type": "code",
   "execution_count": 38,
   "metadata": {},
   "outputs": [],
   "source": [
    "from selenium import webdriver\n",
    "from selenium.webdriver.chrome.service import Service\n",
    "from webdriver_manager.chrome import ChromeDriverManager\n",
    "from selenium.webdriver.support import expected_conditions as EC\n",
    "from selenium.webdriver.common.by import By\n",
    "from selenium.webdriver.support.wait import WebDriverWait\n",
    "from selenium.webdriver.chrome.options import Options\n",
    "from selenium.common import TimeoutException\n",
    "from math import sqrt\n",
    "import time\n",
    "import json\n",
    "import datetime\n",
    "import os\n",
    "from lxml import html\n",
    "from tkinter import *\n",
    "from selenium.webdriver import ActionChains\n",
    "from selenium.webdriver import Keys\n",
    "\n",
    "\n",
    "import re\n",
    "import requests\n",
    "\n",
    "import logging\n",
    "logging.basicConfig(filename='log.txt', level=logging.ERROR)"
   ]
  },
  {
   "cell_type": "code",
   "execution_count": 39,
   "metadata": {},
   "outputs": [],
   "source": [
    "# wczytuje ustawienia aplikacji\n",
    "\n",
    "try:\n",
    "    f = open('settings.json')\n",
    "    settings = json.load(f)\n",
    "except FileNotFoundError:\n",
    "    f = open('settings.json', 'w')\n",
    "    json.dump({}, f)\n",
    "    settings = {}\n",
    "finally:\n",
    "    f.close()\n"
   ]
  },
  {
   "cell_type": "code",
   "execution_count": 40,
   "metadata": {},
   "outputs": [
    {
     "name": "stdout",
     "output_type": "stream",
     "text": [
      "\n"
     ]
    },
    {
     "name": "stderr",
     "output_type": "stream",
     "text": [
      "[WDM] - ====== WebDriver manager ======\n"
     ]
    },
    {
     "name": "stdout",
     "output_type": "stream",
     "text": [
      "2022-08-15 20:48:47,540 INFO ====== WebDriver manager ======\n"
     ]
    },
    {
     "name": "stderr",
     "output_type": "stream",
     "text": [
      "[WDM] - Current google-chrome version is 104.0.5112\n"
     ]
    },
    {
     "name": "stdout",
     "output_type": "stream",
     "text": [
      "2022-08-15 20:48:47,542 INFO Current google-chrome version is 104.0.5112\n"
     ]
    },
    {
     "name": "stderr",
     "output_type": "stream",
     "text": [
      "[WDM] - Get LATEST chromedriver version for 104.0.5112 google-chrome\n"
     ]
    },
    {
     "name": "stdout",
     "output_type": "stream",
     "text": [
      "2022-08-15 20:48:47,543 INFO Get LATEST chromedriver version for 104.0.5112 google-chrome\n"
     ]
    },
    {
     "name": "stderr",
     "output_type": "stream",
     "text": [
      "[WDM] - Driver [C:\\Users\\klime\\.wdm\\drivers\\chromedriver\\win32\\104.0.5112.79\\chromedriver.exe] found in cache\n"
     ]
    },
    {
     "name": "stdout",
     "output_type": "stream",
     "text": [
      "2022-08-15 20:48:47,748 INFO Driver [C:\\Users\\klime\\.wdm\\drivers\\chromedriver\\win32\\104.0.5112.79\\chromedriver.exe] found in cache\n"
     ]
    }
   ],
   "source": [
    "# uruchom przeglądarkę z odpowiednim profilem\n",
    "\n",
    "chrome_options = Options()\n",
    "chrome_options.add_argument('user-data-dir=' + settings['path'])\n",
    "# chrome_options.add_argument('user-data-dir=C:\\\\Users\\\\klime\\\\AppData\\\\Local\\\\Google\\\\Chrome\\\\User Data\\\\TribalWars')\n",
    "chrome_options.add_argument('start-maximized')\n",
    "chrome_options.add_extension(extension='captcha_callback_hooker.crx')\n",
    "chrome_options.add_experimental_option(\"useAutomationExtension\", False)\n",
    "chrome_options.add_experimental_option(\"excludeSwitches\", [\"enable-automation\", \"disable-popup-blocking\"])\n",
    "try:    \n",
    "    driver = webdriver.Chrome(service=Service(ChromeDriverManager(cache_valid_range=31).install()), options=chrome_options)\n",
    "except BaseException as base:\n",
    "    print(base)\n",
    "# hcaptcha_callback = \"\"\"window.myInterval = setInterval(() => {\n",
    "#     if (window.hcaptcha) {\n",
    "#         console.log('hcaptcha available, lets redefine render method')\n",
    "#         // if hcaptcha object is defined, we save the original render method into window.originalRender\n",
    "#         window.originalRender = hcaptcha.render\n",
    "#         // then we redefine hcaptcha.render method with our function\n",
    "#         window.hcaptcha.render = (container, params) => {\n",
    "#             console.log(container)\n",
    "#             console.log(params)\n",
    "#             // storing hcaptcha callback globally\n",
    "#             window.hcaptchaCallback = params.callback \n",
    "#             // returning the original render method call\n",
    "#             return window.originalRender(container, params)\n",
    "#         }\n",
    "#         clearInterval(window.myInterval)\n",
    "#     } else {\n",
    "#         console.log('hcaptcha not available yet')\n",
    "#     }\n",
    "# }, 100)\"\"\"\n",
    "# driver.execute_cdp_cmd('Page.addScriptToEvaluateOnNewDocument', {'source': hcaptcha_callback})\n",
    "driver.set_page_load_timeout(5)"
   ]
  },
  {
   "cell_type": "markdown",
   "metadata": {},
   "source": [
    "### Zabawy z hcaptcha"
   ]
  },
  {
   "cell_type": "code",
   "execution_count": 44,
   "metadata": {},
   "outputs": [],
   "source": [
    "if driver.execute_script('return document.querySelector(\".h-captcha\");'):\n",
    "\n",
    "    def antigate_solver_status_check() -> bool:\n",
    "        # Captcha not in page return True\n",
    "        if not driver.execute_script(\n",
    "            'return document.querySelector(\".antigate_solver\");'\n",
    "        ):\n",
    "            return True\n",
    "        # Captcha solved return True\n",
    "        if driver.execute_script(\n",
    "            'return document.querySelector(\".antigate_solver.solved\");'\n",
    "        ):\n",
    "            return True\n",
    "        # Captcha error refresh page and return False\n",
    "        if driver.execute_script(\n",
    "            'return document.querySelector(\".antigate_solver.error\");'\n",
    "        ):\n",
    "            driver.refresh()\n",
    "        return False\n",
    "\n",
    "    # Start h_captcha solving process\n",
    "    driver.execute_script(\n",
    "        \"\"\"window.postMessage(\n",
    "            { \n",
    "                receiver: 'antiCaptchaPlugin',\n",
    "                type: 'solveHcaptcha',\n",
    "                containerSelector: '.h-captcha'  \n",
    "            },\n",
    "            window.location.href\n",
    "        );\"\"\"\n",
    "    )\n",
    "    time.sleep(3)\n",
    "    # Start captcha status checking\n",
    "    WebDriverWait(driver, 120, 0.25).until(lambda _: antigate_solver_status_check())\n",
    "    print(\"solved\")"
   ]
  },
  {
   "cell_type": "code",
   "execution_count": null,
   "metadata": {},
   "outputs": [],
   "source": [
    "WebDriverWait(driver, 3, 0.05).until(EC.presence_of_element_located((By.CSS_SELECTOR, \"iframe[title='widget containing checkbox for hCaptcha security challenge']\")))"
   ]
  },
  {
   "cell_type": "code",
   "execution_count": 37,
   "metadata": {},
   "outputs": [
    {
     "name": "stdout",
     "output_type": "stream",
     "text": [
      "0.014216299998224713\n",
      "0.05344690000129049\n"
     ]
    }
   ],
   "source": [
    "# driver.refresh()\n",
    "search_for_captcha = 'return document.querySelector(\".h-captcha, .captcha\")'\n",
    "if driver.execute_script(search_for_captcha):\n",
    "    get_captcha_selector = \"\"\"if (document.querySelector('.h-captcha')) {return '.h-captcha'}\n",
    "        else if (document.querySelector('.captcha')) {return '.captcha'}\n",
    "        else {return}\n",
    "        \"\"\"\n",
    "    captcha_selector = driver.execute_script(get_captcha_selector)\n",
    "    iframe_width = driver.execute_script(f\"return document.querySelector('{captcha_selector} iframe').clientWidth\")\n",
    "    driver.execute_script(\n",
    "        f\"\"\"const captcha_container = document.querySelectorAll(\"{captcha_selector} *:last-child\")[0];\n",
    "        const div_to_add = \"<div id='kspec' style='width: {iframe_width};'>Solving captcha please wait..</div>\"\n",
    "        captcha_container.insertAdjacentHTML(\"afterend\", div_to_add);\"\"\"\n",
    "    )\n",
    "    a = time.perf_counter()\n",
    "    WebDriverWait(driver, 3, 0.1).until(EC.frame_to_be_available_and_switch_to_it((By.CSS_SELECTOR, f\"{captcha_selector} iframe\")))\n",
    "    print(time.perf_counter()-a)\n",
    "    a = time.perf_counter()\n",
    "    WebDriverWait(driver, 3, 0.1).until(EC.element_to_be_clickable((By.CSS_SELECTOR, \"div[id=checkbox]\"))).click()\n",
    "    print(time.perf_counter()-a)\n",
    "    driver.switch_to.default_content()\n",
    "    time.sleep(3)\n",
    "    driver.execute_script(\"document.querySelector('#kspec').remove();\")"
   ]
  },
  {
   "cell_type": "code",
   "execution_count": 40,
   "metadata": {},
   "outputs": [
    {
     "name": "stdout",
     "output_type": "stream",
     "text": [
      "{'spear': 0, 'sword': 0, 'axe': '382', 'archer': 0, 'spy': 1, 'light': '125', 'marcher': 0, 'heavy': 0, 'ram': 0, 'catapult': 0, 'knight': 0, 'snob': 0, 'militia': 0}\n"
     ]
    }
   ],
   "source": [
    "import ast\n",
    "ele = driver.find_element(By.XPATH, '//*[@id=\"village_19929\"]/td[11]/a')\n",
    "test = ast.literal_eval(ele.get_attribute('data-units-forecast'))\n",
    "print(test)"
   ]
  },
  {
   "cell_type": "code",
   "execution_count": 38,
   "metadata": {},
   "outputs": [
    {
     "name": "stdout",
     "output_type": "stream",
     "text": [
      "{'axe': 382, 'spy': 5, 'light': 125}\n"
     ]
    }
   ],
   "source": [
    "# class Troops\n",
    "template = \"C\"\n",
    "template_troops = {\"C\": {}}\n",
    "\n",
    "units_home = driver.find_element(By.CSS_SELECTOR, '#units_home tbody').get_attribute(\"innerHTML\")\n",
    "units_home = html.fromstring(units_home)\n",
    "units_checkboxes = units_home.xpath(\"tr[1]/th\")\n",
    "units_amount = units_home.xpath(\"tr[2]/td\")\n",
    "\n",
    "for unit_amount in units_amount[1:]: \n",
    "    if not int(unit_amount.text_content()):\n",
    "        continue\n",
    "    template_troops[template][unit_amount.xpath(\"@id\")[0]] = int(unit_amount.text_content())\n",
    "\n",
    "print(template_troops[template])\n",
    "\n",
    "for unit_checkbox, unit_amount in zip(units_checkboxes, units_amount):\n",
    "\n",
    "    if \"checked\" in unit_checkbox.xpath(\"input/@checked\"):\n",
    "        if int(unit_amount.text_content()) > 0:\n",
    "            break\n",
    "# else:\n",
    "#     break\n",
    "\n",
    "# for\n",
    "# driver.find_element(By.XPATH, '//*[@id=\"village_20792\"]/td[10]/a').click()"
   ]
  },
  {
   "cell_type": "code",
   "execution_count": 42,
   "metadata": {},
   "outputs": [
    {
     "ename": "AttributeError",
     "evalue": "'bool' object has no attribute 'get_attribute'",
     "output_type": "error",
     "traceback": [
      "\u001b[1;31m---------------------------------------------------------------------------\u001b[0m",
      "\u001b[1;31mAttributeError\u001b[0m                            Traceback (most recent call last)",
      "\u001b[1;32m~\\AppData\\Local\\Temp/ipykernel_4240/4294480001.py\u001b[0m in \u001b[0;36m<module>\u001b[1;34m\u001b[0m\n\u001b[0;32m     14\u001b[0m             ), \"src\"\n\u001b[0;32m     15\u001b[0m         )\n\u001b[1;32m---> 16\u001b[1;33m     ).get_attribute(\"src\"),\n\u001b[0m\u001b[0;32m     17\u001b[0m ).group(1)\n\u001b[0;32m     18\u001b[0m \u001b[1;33m\u001b[0m\u001b[0m\n",
      "\u001b[1;31mAttributeError\u001b[0m: 'bool' object has no attribute 'get_attribute'"
     ]
    }
   ],
   "source": [
    "from anticaptchaofficial.hcaptchaproxyless import *\n",
    "\n",
    "solver = hCaptchaProxyless()\n",
    "solver.set_verbose(1)\n",
    "solver.set_key(\"***REMOVED***\")\n",
    "solver.set_website_url(driver.current_url[:driver.current_url.rfind(\"/\")])\n",
    "site_key = re.search(\n",
    "    r\"&sitekey=(.*?)&\",\n",
    "    WebDriverWait(driver, 3, 0.05).until(\n",
    "        EC.presence_of_element_located(\n",
    "            (\n",
    "                By.CSS_SELECTOR,\n",
    "                \"iframe[title='widget containing checkbox for hCaptcha security challenge']\",\n",
    "            )\n",
    "        )\n",
    "    ).get_attribute(\"src\"),\n",
    ").group(1)\n",
    "solver.set_website_key(site_key)\n",
    "\n",
    "# tell API that Hcaptcha is invisible\n",
    "#solver.set_is_invisible(1)\n",
    "\n",
    "g_response = solver.solve_and_return_solution()\n",
    "if g_response != 0:\n",
    "    print (f\"g-response: {g_response}\")\n",
    "else:\n",
    "    print (f\"task finished with error {solver.error_code}\")"
   ]
  },
  {
   "cell_type": "code",
   "execution_count": 127,
   "metadata": {},
   "outputs": [],
   "source": [
    "get_captcha_selector = \"\"\"if (document.querySelector('.h-captcha')) {return '.h-captcha'}\n",
    "    else if (document.querySelector('.captcha')) {return '.captcha'}\n",
    "    else {return}\n",
    "    \"\"\"\n",
    "captcha_selector = driver.execute_script(get_captcha_selector)\n",
    "driver.switch_to.frame(\n",
    "                driver.execute_script(\n",
    "                    f\"return document.querySelector('{captcha_selector} iframe')\"\n",
    "                )\n",
    "            )\n",
    "driver.execute_script(\"document.querySelector('div[id=checkbox]').click();\")\n",
    "driver.switch_to.default_content()\n",
    "\n",
    "driver.switch_to.frame(driver.execute_script(\"\"\"return document.querySelector('iframe[title=\"Main content of the hCaptcha challenge\"]')\"\"\"))\n",
    "# driver.execute_script('document.querySelector(\"#language-selector\").click();')\n",
    "select_english = \"\"\"\n",
    "    document.querySelector(\"#language-selector\").click();\n",
    "    const languages = document.querySelectorAll(\"#options-list .option div\");\n",
    "    for (let i = 0; i < languages.length; i++) {\n",
    "        if (languages[i].textContent == \"English\") {\n",
    "            document.querySelector(\"#options-list\").style.transform = `translateY(-${i*35}px)`; \n",
    "            return languages[i];\n",
    "        }        \n",
    "    }\n",
    "\"\"\"\n",
    "driver.execute_script(select_english).click()\n",
    "driver.switch_to.default_content()\n"
   ]
  },
  {
   "cell_type": "code",
   "execution_count": 7,
   "metadata": {},
   "outputs": [
    {
     "name": "stdout",
     "output_type": "stream",
     "text": [
      "0. \n",
      "pl\n",
      "leaving ;-)\n",
      "1. \n",
      "pl\n",
      "Need to use more sufisticated solvers\n",
      "2. \n",
      "pl\n",
      "Need to use more sufisticated solvers\n",
      "3. \n",
      "pl\n",
      "Need to use more sufisticated solvers\n",
      "4. \n",
      "pl\n",
      "leaving ;-)\n",
      "5. \n",
      "pl\n",
      "leaving ;-)\n",
      "6. \n",
      "pl\n",
      "Need to use more sufisticated solvers\n",
      "7. \n",
      "pl\n",
      "leaving ;-)\n",
      "8. \n",
      "pl\n",
      "leaving ;-)\n",
      "9. \n",
      "pl\n",
      "leaving ;-)\n",
      "Correct 6/10\n"
     ]
    }
   ],
   "source": [
    "import base64\n",
    "import random\n",
    "import threading\n",
    "\n",
    "import requests\n",
    "\n",
    "def solve_captcha() -> None:\n",
    "\n",
    "    get_captcha_selector = \"\"\"if (document.querySelector('.h-captcha')) {return '.h-captcha'}\n",
    "        else if (document.querySelector('.captcha')) {return '.captcha'}\n",
    "        else {return}\n",
    "        \"\"\"\n",
    "    captcha_selector = driver.execute_script(get_captcha_selector)\n",
    "\n",
    "    # Swtich to chaptcha iframe\n",
    "    driver.switch_to.frame(\n",
    "                    driver.execute_script(\n",
    "                        f\"return document.querySelector('{captcha_selector} iframe')\"\n",
    "                    )\n",
    "                )\n",
    "    # Captcha checkbox click\n",
    "    driver.execute_script(\"document.querySelector('div[id=checkbox]').click();\")\n",
    "    driver.switch_to.default_content()\n",
    "\n",
    "    # Swtich to challenge iframe\n",
    "    driver.switch_to.frame(driver.execute_script(\"\"\"return document.querySelector('iframe[title=\"Main content of the hCaptcha challenge\"]')\"\"\"))\n",
    "    \n",
    "    # No\n",
    "    condition = 'if(!document.querySelector(\"body.no-selection\").hasAttribute(\"aria-hidden\")) {return true;}'\n",
    "    try:\n",
    "        WebDriverWait(driver, 3, 0.1).until(lambda _: driver.execute_script(condition))\n",
    "    except TimeoutException:\n",
    "        pass\n",
    "\n",
    "    captcha_language = driver.execute_script(\"return document.querySelector('html').getAttribute('lang');\")\n",
    "    print(captcha_language)\n",
    "\n",
    "    # Change language to eng\n",
    "    if 'en' not in captcha_language:\n",
    "        driver.execute_script('document.querySelector(\"#language-selector\").click();')\n",
    "        options_list = WebDriverWait(driver, 1, 0.1).until(\n",
    "            EC.element_to_be_clickable(driver.execute_script('return document.querySelector(\".language-selector\");'))\n",
    "        )\n",
    "        time.sleep(1)\n",
    "        ActionChains(driver).send_keys_to_element(options_list, \"eng\", Keys.SPACE, Keys.ENTER).perform()\n",
    "\n",
    "        try:\n",
    "            check_html_lang = \"return document.querySelector('html').getAttribute('lang');\" \n",
    "            WebDriverWait(driver, 2, 0.1).until(lambda _: True if 'en' in driver.execute_script(check_html_lang) else False)\n",
    "        except TimeoutException:\n",
    "            print('idk why..')\n",
    "            ActionChains(driver).send_keys(Keys.ESCAPE).perform()\n",
    "            driver.execute_script('document.querySelector(\"#language-selector\").click();')\n",
    "            options_list = WebDriverWait(driver, 1, 0.1).until(EC.element_to_be_clickable(driver.execute_script('return document.querySelector(\".language-selector\");')))\n",
    "            time.sleep(1)\n",
    "            ActionChains(driver).send_keys_to_element(options_list, \"eng\", Keys.SPACE, Keys.ENTER).perform()\n",
    "            WebDriverWait(driver, 2, 0.1).until(lambda _: True if 'en' in driver.execute_script(check_html_lang) else False)\n",
    "    \n",
    "    # Download and encode images to base64\n",
    "    def get_as_base64(images: list, index: int, url: str):\n",
    "        images.append(None)\n",
    "        images[index] = base64.b64encode(requests.get(url).content)\n",
    "\n",
    "    WebDriverWait(driver, 3, 0.05).until(EC.text_to_be_present_in_element_attribute((By.CSS_SELECTOR, \".task-grid .image\"), \"style\", \"url\"))\n",
    "    urls = tuple(re.search(r'url\\(\"(.*?)\"\\)', image.get_attribute(\"style\")).group(1) for image in driver.find_elements(By.CSS_SELECTOR, \".task-grid .image\"))\n",
    "    images = []\n",
    "    threads: list[threading.Thread] = []\n",
    "    for index, url in enumerate(urls):\n",
    "        threads.append(threading.Thread(target=get_as_base64, args=(images, index, url)))\n",
    "        threads[index].start()\n",
    "    for thread in threads:\n",
    "        thread.join(timeout=3)\n",
    "\n",
    "    # Create task\n",
    "    data = {\n",
    "        \"clientKey\": \"***REMOVED***\",\n",
    "        \"task\": {\n",
    "            \"type\": \"HCaptchaClickTask\",\n",
    "            \"ChallengeCaption\": f\"{driver.find_element(By.CSS_SELECTOR, '.prompt-text').text}\",\n",
    "            \"ImageIndex1\": images[0].decode('utf-8'),\n",
    "            \"ImageIndex2\": images[1].decode('utf-8'),\n",
    "            \"ImageIndex3\": images[2].decode('utf-8'),\n",
    "            \"ImageIndex4\": images[3].decode('utf-8'),\n",
    "            \"ImageIndex5\": images[4].decode('utf-8'),\n",
    "            \"ImageIndex6\": images[5].decode('utf-8'),\n",
    "            \"ImageIndex7\": images[6].decode('utf-8'),\n",
    "            \"ImageIndex8\": images[7].decode('utf-8'),\n",
    "            \"ImageIndex9\": images[8].decode('utf-8')\n",
    "        }\n",
    "    }\n",
    "    response = requests.post(\"https://api.anycaptcha.com/createTask\", headers={\"Content-Type\": \"application/json\"}, json=data)\n",
    "\n",
    "    # Get task result\n",
    "    data = {\n",
    "        \"clientKey\": \"***REMOVED***\",\n",
    "        \"taskId\": response.json()['taskId']\n",
    "    }\n",
    "    response = requests.post(\"https://api.anycaptcha.com/getTaskResult\", headers={\"Content-Type\": \"application/json\"}, json=data).json()\n",
    "\n",
    "    while response[\"errorId\"] == 0 and (\"status\" not in response or \"processing\" in response[\"status\"]):\n",
    "        response = requests.post(\"https://api.anycaptcha.com/getTaskResult\", headers={\"Content-Type\": \"application/json\"}, json=data).json()\n",
    "        time.sleep(0.2)\n",
    "\n",
    "    # Handle errors\n",
    "    if response['errorId'] == 61 and 'NotSupportChallenge' in response['errorDescription']:\n",
    "        print(\"Not supported challenge\")\n",
    "        return False\n",
    "\n",
    "    if \"SUCCESS\" in response[\"errorCode\"]:\n",
    "        for select, image in zip(response['solution'].values(), driver.find_elements(By.CSS_SELECTOR, \".task-grid .task-image\")):\n",
    "            if \"CLICK\" in select:\n",
    "                time.sleep(random.uniform(0.035, 0.065))\n",
    "                image.click()  \n",
    "        # Submit captcha\n",
    "        driver.execute_script(\"document.querySelector('.button-submit.button').click();\")\n",
    "        time.sleep(random.uniform(1.5, 1.75))\n",
    "        # Check if solved properly\n",
    "        if driver.execute_script(\n",
    "            \"\"\"\n",
    "            if(document.querySelector(\".no-selection\") && !document.querySelector(\".no-selection\").hasAttribute(\"aria-hidden\")) {\n",
    "                return true;\n",
    "            }\n",
    "            if(!document.querySelector(\".display-error\").getAttribute(\"aria-hidden\")) {\n",
    "                return true;\n",
    "            }\n",
    "            return    \n",
    "            \"\"\"\n",
    "        ):\n",
    "            ActionChains(driver).send_keys(Keys.ESCAPE).perform()\n",
    "            return False\n",
    "        return True\n",
    "    return False\n",
    "\n",
    "correct = 0\n",
    "for _ in range(10):\n",
    "    print(f\"{_}. \")\n",
    "    if solve_captcha():\n",
    "        correct += 1\n",
    "        print('leaving ;-)')\n",
    "    else:\n",
    "        print('Need to use more sufisticated solvers')\n",
    "    driver.switch_to.default_content()\n",
    "    driver.refresh()\n",
    "    time.sleep(1)\n",
    "\n",
    "print(f\"Correct {correct}/10\")\n",
    "driver.switch_to.default_content()\n"
   ]
  },
  {
   "cell_type": "code",
   "execution_count": 379,
   "metadata": {},
   "outputs": [],
   "source": [
    "driver.switch_to.frame(\n",
    "                driver.execute_script(\n",
    "                    f\"return document.querySelector('{captcha_selector} iframe')\"\n",
    "                )\n",
    "            )\n",
    "driver.execute_script(\"document.querySelector('div[id=checkbox]').click();\")\n",
    "driver.switch_to.default_content()\n",
    "\n",
    "driver.switch_to.frame(driver.execute_script(\"\"\"return document.querySelector('iframe[title=\"Main content of the hCaptcha challenge\"]')\"\"\"))\n",
    "driver.execute_script('document.querySelector(\"#language-selector\").click();')\n",
    "options_list = WebDriverWait(driver, 1, 0.1).until(EC.element_to_be_clickable(driver.execute_script('return document.querySelector(\".language-selector\");')))\n",
    "time.sleep(1)\n",
    "ActionChains(driver).send_keys_to_element(options_list, \"eng\", Keys.SPACE, Keys.ENTER).perform()\n",
    "driver.switch_to.default_content()\n"
   ]
  },
  {
   "cell_type": "code",
   "execution_count": null,
   "metadata": {},
   "outputs": [],
   "source": []
  },
  {
   "cell_type": "code",
   "execution_count": 79,
   "metadata": {},
   "outputs": [
    {
     "name": "stdout",
     "output_type": "stream",
     "text": [
      "b'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'\n",
      "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\n",
      "4356521\n"
     ]
    }
   ],
   "source": [
    "import base64\n",
    "import requests\n",
    "\n",
    "\n",
    "def get_as_base64(url):\n",
    "\n",
    "    return base64.b64encode(requests.get(url).content)\n",
    "\n",
    "driver.switch_to.frame(driver.execute_script(\"\"\"return document.querySelector('iframe[title=\"Main content of the hCaptcha challenge\"]')\"\"\"))\n",
    "urls = tuple(re.search(r'url\\(\"(.*?)\"\\)', image.get_attribute(\"style\")).group(1) for image in driver.find_elements(By.CSS_SELECTOR, \".task-grid .image\"))\n",
    "images = tuple(get_as_base64(url) for url in urls)\n",
    "\n",
    "data = {\n",
    "\t\"clientKey\": \"***REMOVED***\",\n",
    "\t\"task\": {\n",
    "\t\t\"type\": \"HCaptchaClickTask\",\n",
    "\t\t\"ChallengeCaption\": f\"{driver.find_element(By.CSS_SELECTOR, '.prompt-text').text}\",\n",
    "\t\t\"ImageIndex1\": images[0].decode('utf-8'),\n",
    "\t\t\"ImageIndex2\": images[1].decode('utf-8'),\n",
    "\t\t\"ImageIndex3\": images[2].decode('utf-8'),\n",
    "\t\t\"ImageIndex4\": images[3].decode('utf-8'),\n",
    "\t\t\"ImageIndex5\": images[4].decode('utf-8'),\n",
    "\t\t\"ImageIndex6\": images[5].decode('utf-8'),\n",
    "\t\t\"ImageIndex7\": images[6].decode('utf-8'),\n",
    "\t\t\"ImageIndex8\": images[7].decode('utf-8'),\n",
    "\t\t\"ImageIndex9\": images[8].decode('utf-8')\n",
    "\t}\n",
    "}\n",
    "response = requests.post(\"https://api.anycaptcha.com/createTask\", headers={\"Content-Type\": \"application/json\"}, json=data)\n",
    "ans = response.json()\n",
    "print(ans['taskId'])\n",
    "\n",
    "# print(get_as_base64(\"https://imgs.hcaptcha.com/NHArh534P41Nl45FretZZ9mTDs9Il90mjdYhqg/2RCbWmYPxknFY9MqBfs1ANxKn8c7WjQoGMiWWVBQXngCGzCO7SvJ+K2IX4kK8rDN8TTKMo0WbA4TTJ6wS48CnabJkJ4Kiuoh5TYJvmbmt/q8rxqEpfMaztUzpsjtoeU1Dj31B2Q==mAzE6ZafVf/3c0ta\"))\n",
    "\n",
    "driver.switch_to.default_content()"
   ]
  },
  {
   "cell_type": "code",
   "execution_count": 80,
   "metadata": {},
   "outputs": [
    {
     "name": "stdout",
     "output_type": "stream",
     "text": [
      "b'{\"errorId\":0,\"errorCode\":\"SUCCESS\",\"status\":\"ready\",\"solution\":{\"ImageResult1\":\"NONE\",\"ImageResult2\":\"NONE\",\"ImageResult3\":\"NONE\",\"ImageResult4\":\"NONE\",\"ImageResult5\":\"CLICK\",\"ImageResult6\":\"NONE\",\"ImageResult7\":\"CLICK\",\"ImageResult8\":\"NONE\",\"ImageResult9\":\"CLICK\"},\"cost\":0.0005,\"ip\":null,\"createTime\":1660332668.7000437,\"endTime\":1660332669.3563111,\"solveCount\":null}'\n"
     ]
    }
   ],
   "source": [
    "data = {\n",
    "\t\"clientKey\": \"***REMOVED***\",\n",
    "\t\"taskId\": ans['taskId']\n",
    "}\n",
    "\n",
    "response = requests.post(\"https://api.anycaptcha.com/getTaskResult\", headers={\"Content-Type\": \"application/json\"}, json=data)\n",
    "print(response.content)"
   ]
  },
  {
   "cell_type": "code",
   "execution_count": 13,
   "metadata": {},
   "outputs": [],
   "source": [
    "driver.execute_script(\"document.getElementById('anycaptchaSolveButton').onclick('..RIZ5BnT-boVJcZYx1vyzoOKvusG-VV7Uf1Zm1hMqf0w');\")"
   ]
  },
  {
   "cell_type": "code",
   "execution_count": 36,
   "metadata": {},
   "outputs": [
    {
     "data": {
      "text/plain": [
       "'.h-captcha'"
      ]
     },
     "execution_count": 36,
     "metadata": {},
     "output_type": "execute_result"
    }
   ],
   "source": [
    "get_captcha_selector = (\n",
    "    \"\"\"if (document.querySelector('.h-captcha')) {return '.h-captcha'}\n",
    "    else if (document.querySelector('.captcha')) {return '.captcha'}\n",
    "    else {return}\n",
    "    \"\"\"\n",
    ")\n",
    "captcha_selector = driver.execute_script(get_captcha_selector)\n",
    "captcha_selector"
   ]
  },
  {
   "cell_type": "code",
   "execution_count": 5,
   "metadata": {},
   "outputs": [],
   "source": [
    "search_for_captcha = 'return document.querySelector(\".h-captcha, .captcha\")'"
   ]
  },
  {
   "cell_type": "code",
   "execution_count": 12,
   "metadata": {},
   "outputs": [],
   "source": [
    "def simple_solve_captcha(captcha_selector: str) -> bool:\n",
    "    driver.switch_to.frame(driver.execute_script(f\"return document.querySelector('{captcha_selector} iframe')\"))\n",
    "    driver.execute_script(\"document.querySelector('div[id=checkbox]').click();\")\n",
    "    driver.switch_to.default_content()\n",
    "    try:\n",
    "        WebDriverWait(driver, 3, 0.1).until(lambda _: False if driver.execute_script(search_for_captcha) else True)\n",
    "        return True\n",
    "    except TimeoutException:\n",
    "        ActionChains(driver).send_keys(Keys.ESCAPE).perform()\n",
    "        return False\n",
    "def hard_solve_captcha(captcha_selector: str) -> None:\n",
    "    driver.execute_script(\n",
    "        f\"\"\"window.postMessage(\n",
    "            {{ \n",
    "                receiver: 'antiCaptchaPlugin',\n",
    "                type: 'solveHcaptcha',\n",
    "                containerSelector: '{captcha_selector}'  \n",
    "            }},\n",
    "            window.location.href\n",
    "        );\"\"\"\n",
    "    )\n",
    "    time.sleep(3)\n",
    "\n",
    "if driver.execute_script(search_for_captcha):\n",
    "    if simple_solve_captcha(captcha_selector):\n",
    "        print('poszło')\n",
    "    else:\n",
    "        hard_solve_captcha(captcha_selector)\n"
   ]
  },
  {
   "cell_type": "code",
   "execution_count": 69,
   "metadata": {},
   "outputs": [],
   "source": [
    "# Checkbox captcha click\n",
    "driver.switch_to.frame(driver.execute_script(f\"return document.querySelector('{captcha_selector} iframe')\"))\n",
    "driver.execute_script(\"document.querySelector('div[id=checkbox]').click();\")\n",
    "driver.switch_to.default_content()"
   ]
  },
  {
   "cell_type": "code",
   "execution_count": null,
   "metadata": {},
   "outputs": [],
   "source": [
    "driver.get_log('browser')"
   ]
  },
  {
   "cell_type": "code",
   "execution_count": 38,
   "metadata": {},
   "outputs": [],
   "source": [
    "solve_hcaptcha = f\"\"\"window.postMessage(\n",
    "    {{ \n",
    "        receiver: 'antiCaptchaPlugin',\n",
    "        type: 'solveHcaptcha',\n",
    "        containerSelector: '{captcha_selector}'  \n",
    "    }},\n",
    "    window.location.href\n",
    ");\"\"\"\n",
    "driver.execute_script(solve_hcaptcha)"
   ]
  },
  {
   "cell_type": "code",
   "execution_count": 37,
   "metadata": {},
   "outputs": [],
   "source": [
    "anti_captcha_listner = \"\"\"window.addEventListener('message', function (event) {\n",
    "    if (typeof event.data.sender === 'undefined' || event.data.sender != 'antiCaptchaPlugin') {\n",
    "        return;\n",
    "    }\n",
    "\n",
    "    // event.data contains all the data that were passed\n",
    "    console.log(event.data);\n",
    "    // {\n",
    "    // \t  sender: \"antiCaptchaPlugin\"\n",
    "    //\t  type: \"solveRecaptcha\"\n",
    "    //\t  status: \"ok\"\n",
    "    //\t  errorId: 0\n",
    "    //\t  errorText: \"\"\n",
    "    //\t  messageText: \"\"\n",
    "    // }\n",
    "});\"\"\"\n",
    "\n",
    "driver.execute_script(anti_captcha_listner)"
   ]
  },
  {
   "cell_type": "code",
   "execution_count": 21,
   "metadata": {},
   "outputs": [
    {
     "ename": "IndexError",
     "evalue": "list index out of range",
     "output_type": "error",
     "traceback": [
      "\u001b[1;31m---------------------------------------------------------------------------\u001b[0m",
      "\u001b[1;31mIndexError\u001b[0m                                Traceback (most recent call last)",
      "\u001b[1;32m~\\AppData\\Local\\Temp/ipykernel_1628/1606856598.py\u001b[0m in \u001b[0;36m<module>\u001b[1;34m\u001b[0m\n\u001b[0;32m     24\u001b[0m \u001b[1;33m\u001b[0m\u001b[0m\n\u001b[0;32m     25\u001b[0m \u001b[1;31m# Aktualnie dostępne jednostki w wiosce\u001b[0m\u001b[1;33m\u001b[0m\u001b[1;33m\u001b[0m\u001b[0m\n\u001b[1;32m---> 26\u001b[1;33m \u001b[0mdoc\u001b[0m \u001b[1;33m=\u001b[0m \u001b[0mdoc\u001b[0m\u001b[1;33m.\u001b[0m\u001b[0mxpath\u001b[0m\u001b[1;33m(\u001b[0m\u001b[1;34m'//*[@id=\"units_home\"]/tbody/tr[2]'\u001b[0m\u001b[1;33m)\u001b[0m\u001b[1;33m[\u001b[0m\u001b[1;36m0\u001b[0m\u001b[1;33m]\u001b[0m\u001b[1;33m\u001b[0m\u001b[1;33m\u001b[0m\u001b[0m\n\u001b[0m\u001b[0;32m     27\u001b[0m available_troops = {\n\u001b[0;32m     28\u001b[0m     \u001b[0mtroop_name\u001b[0m\u001b[1;33m:\u001b[0m \u001b[0mint\u001b[0m\u001b[1;33m(\u001b[0m\u001b[0mdoc\u001b[0m\u001b[1;33m.\u001b[0m\u001b[0mxpath\u001b[0m\u001b[1;33m(\u001b[0m\u001b[1;34mf'td[@id=\"{troop_name}\"]'\u001b[0m\u001b[1;33m)\u001b[0m\u001b[1;33m[\u001b[0m\u001b[1;36m0\u001b[0m\u001b[1;33m]\u001b[0m\u001b[1;33m.\u001b[0m\u001b[0mtext\u001b[0m\u001b[1;33m)\u001b[0m\u001b[1;33m\u001b[0m\u001b[1;33m\u001b[0m\u001b[0m\n",
      "\u001b[1;31mIndexError\u001b[0m: list index out of range"
     ]
    }
   ],
   "source": [
    "import lxml\n",
    "doc = lxml.html.fromstring(\n",
    "    driver.find_element(By.ID, \"content_value\").get_attribute(\"innerHTML\")\n",
    ")\n",
    "template_troops = {\n",
    "    \"A\": doc.xpath(\"div[2]/div/form/table/tbody/tr[2]/td/input\"),\n",
    "    \"B\": doc.xpath(\"div[2]/div/form/table/tbody/tr[4]/td/input\"),\n",
    "}\n",
    "\n",
    "for key in template_troops:\n",
    "    tmp = {}\n",
    "    for row in template_troops[key]:\n",
    "        troop_number = int(row.get(\"value\"))\n",
    "        if troop_number:\n",
    "            troop_name = row.get(\"name\")\n",
    "            troop_name = re.search(r\"[a-z]+\", troop_name).group()\n",
    "            tmp[troop_name] = troop_number\n",
    "    template_troops[key] = tmp\n",
    "\n",
    "# Unikalne nazwy jednostek z szablonów A i B\n",
    "troops_name = set(\n",
    "    _key for key in template_troops for _key in template_troops[key].keys()\n",
    ")\n",
    "\n",
    "# Aktualnie dostępne jednostki w wiosce\n",
    "doc = doc.xpath('//*[@id=\"units_home\"]/tbody/tr[2]')[0]\n",
    "available_troops = {\n",
    "    troop_name: int(doc.xpath(f'td[@id=\"{troop_name}\"]')[0].text)\n",
    "    for troop_name in troops_name\n",
    "}\n",
    "\n",
    "# Pomija wioskę jeśli nie ma z niej nic do wysłania\n",
    "skip = {\"A\": False, \"B\": False}\n",
    "for template in template_troops:\n",
    "    for troop_name, troop_number in template_troops[template].items():\n",
    "        if available_troops[troop_name] - troop_number < 0:\n",
    "            skip[template] = True\n",
    "            break\n",
    "\n",
    "print(template_troops)"
   ]
  },
  {
   "cell_type": "code",
   "execution_count": null,
   "metadata": {},
   "outputs": [
    {
     "name": "stdout",
     "output_type": "stream",
     "text": [
      "0.5224569999991218\n"
     ]
    }
   ],
   "source": [
    "from selenium.webdriver.support.select import Select\n",
    "a = time.perf_counter()\n",
    "# Tu testuj swój kod i mierz czas wykonania!!! :D\n",
    "# If there is no attribute 'style' than check and set proper catapult target\n",
    "send_info = {}\n",
    "send_info[\"catapult_target\"] = \"barracks\"\n",
    "if not driver.execute_script(\n",
    "    \"return document.getElementById('place_confirm_catapult_target').getAttribute('style')\"\n",
    "):\n",
    "    if \"catapult_target\" in send_info and \"catapult_target\" != \"Default\":\n",
    "        Select(\n",
    "            driver.find_element(By.XPATH, \"//select[@name='building']\")\n",
    "        ).select_by_value(send_info[\"catapult_target\"])\n",
    "driver.execute_script(\"document.getElementById('troop_confirm_submit').click()\")\n",
    "\n",
    "print((time.perf_counter()-a))\n"
   ]
  },
  {
   "cell_type": "code",
   "execution_count": null,
   "metadata": {},
   "outputs": [
    {
     "name": "stdout",
     "output_type": "stream",
     "text": [
      "c:\\Users\\klime\\VS Code\\selenium_chrome\\logs\n"
     ]
    }
   ],
   "source": [
    "import logging, os\n",
    "if not os.path.exists('logs'):\n",
    "    os.mkdir('logs')\n",
    "if not os.path.exists('logs\\\\pyu.log'):\n",
    "    open('logs\\\\pyu.log').close()\n",
    "\n",
    "print(os.getcwd() + \"\\\\logs\")\n",
    "    \n",
    "logging.basicConfig(filename=\"logs/log.txt\", level=logging.ERROR)\n",
    "\n",
    "logging.error('no i szlag trafił kaskę ;pp')"
   ]
  },
  {
   "cell_type": "code",
   "execution_count": null,
   "metadata": {},
   "outputs": [
    {
     "name": "stdout",
     "output_type": "stream",
     "text": [
      "yes\n"
     ]
    }
   ],
   "source": [
    "import os\n",
    "import logging\n",
    "\n",
    "logger = logging.getLogger()\n",
    "logger.setLevel(logging.DEBUG)\n",
    "if os.path.exists(\"logs/debug.txt\"):\n",
    "    print('yes')\n",
    "    debug_handler = logging.FileHandler(\"logs/debug.txt\")\n",
    "    f_format = logging.Formatter(\n",
    "        \"\\n%(levelname)s:%(name)s:%(asctime)s %(message)s\", datefmt=\"%d-%m-%Y %H:%M:%S\"\n",
    "    )\n",
    "    debug_handler.setFormatter(f_format)\n",
    "    debug_handler.setLevel(logging.DEBUG)\n",
    "    logger.addHandler(debug_handler)\n",
    "logger.debug(\"someinfo\")"
   ]
  },
  {
   "cell_type": "markdown",
   "metadata": {},
   "source": [
    "### Change villages name"
   ]
  },
  {
   "cell_type": "code",
   "execution_count": null,
   "metadata": {},
   "outputs": [],
   "source": [
    "rename_list = driver.find_elements(By.CLASS_NAME, \"rename-icon\")\n",
    "for rename in rename_list:\n",
    "    driver.execute_script('arguments[0].click()', rename)\n",
    "for index, (village_name, change_name) in enumerate(\n",
    "    zip(\n",
    "        driver.find_elements(By.XPATH, '//*[@id=\"combined_table\"]/tbody/tr/td[2]/span/span[2]/input[1]'),\n",
    "        driver.find_elements(By.XPATH, '//*[@id=\"combined_table\"]/tbody/tr/td[2]/span/span[2]/input[2]')\n",
    "    )):\n",
    "    driver.execute_script('arguments[0].scrollIntoView({\"block\": \"center\"});', village_name)\n",
    "    village_name.clear()\n",
    "    village_name.send_keys(f\"klimekop6 {index+1:03}\")\n",
    "    change_name.click()"
   ]
  },
  {
   "cell_type": "markdown",
   "metadata": {},
   "source": [
    "### Get player villages id"
   ]
  },
  {
   "cell_type": "code",
   "execution_count": null,
   "metadata": {},
   "outputs": [],
   "source": [
    "from lxml import html\n",
    "\n",
    "current_village_id = int(\n",
    "    driver.execute_script(\"return window.game_data.village.id\")\n",
    ")\n",
    "url = driver.current_url\n",
    "url = url[: url.rfind(\"/\")]\n",
    "player_profile_url = (\n",
    "    url + f\"/game.php?village={current_village_id}&screen=info_player\"\n",
    ")\n",
    "html_response = driver.execute_script(\n",
    "    f\"\"\"\n",
    "    var request = new XMLHttpRequest();\n",
    "    request.open(\"GET\", \"{player_profile_url}\", false);\n",
    "    request.send(null);   \n",
    "    return request.responseText;\"\"\"\n",
    ")\n",
    "doc = html.fromstring(html_response)\n",
    "doc = doc.xpath('//table[@id=\"villages_list\"]/tbody/tr')\n",
    "if len(doc) > 100:\n",
    "    player_id = driver.execute_script('return game_data.player.id')\n",
    "    get_remain_villages_url = f\"{player_profile_url}&ajax=fetch_villages&player_id={player_id}\"\n",
    "    html_response = driver.execute_script(\n",
    "        f\"\"\"\n",
    "        var request = new XMLHttpRequest();\n",
    "        request.open(\"GET\", \"{get_remain_villages_url}\", false);\n",
    "        request.send(null);   \n",
    "        return request.responseText;\"\"\"\n",
    "    )\n",
    "    add_to_doc = html.fromstring(json.loads(html_response)[\"villages\"])\n",
    "    doc.pop()\n",
    "    doc.extend(add_to_doc)\n",
    "    \n",
    "for row in doc:\n",
    "    village_id = row.xpath(\"td/table/tr/td/span\")[0].get(\"data-id\")\n",
    "    village_url = (\n",
    "        url + f\"/game.php?village={village_id}&screen=market&mode=exchange\"\n",
    "    )\n",
    "    village_coords = row.xpath(\"td\")[-2].text\n",
    "    "
   ]
  },
  {
   "cell_type": "code",
   "execution_count": null,
   "metadata": {},
   "outputs": [],
   "source": [
    "player_profile_url = (\n",
    "    \"https://pl175.plemiona.pl/game.php?village=10611&screen=groups&mode=overview&ajax=load_group_menu&\"\n",
    ")\n",
    "\n",
    "\n",
    "html_response = driver.execute_script(\n",
    "    f\"\"\"\n",
    "    var request = new XMLHttpRequest();\n",
    "    request.open(\"GET\", \"{player_profile_url}\", false);\n",
    "    request.send(null);   \n",
    "    return request.responseText;\"\"\"\n",
    ")\n",
    "\n",
    "# print(html_response)\n",
    "json.load(html_response)"
   ]
  },
  {
   "cell_type": "markdown",
   "metadata": {},
   "source": [
    "### Get villages info"
   ]
  },
  {
   "cell_type": "code",
   "execution_count": null,
   "metadata": {},
   "outputs": [],
   "source": [
    "headers = {\n",
    "\"User-Agent\":\n",
    "    driver.execute_script('return navigator.userAgent')\n",
    "}\n",
    "s = requests.session()\n",
    "s.headers.update(headers)\n",
    "\n",
    "for cookie in driver.get_cookies():\n",
    "    c = {cookie['name']: cookie['value']}\n",
    "    s.cookies.update(c)\n",
    "\n",
    "response = s.get(\"https://sms-api.ddns.net\")\n",
    "# response.text\n"
   ]
  },
  {
   "cell_type": "code",
   "execution_count": null,
   "metadata": {},
   "outputs": [],
   "source": [
    "player_production_url = \"https://pl173.plemiona.pl/game.php?village=28317&screen=overview_villages&mode=prod&group=0&page=-1&\"\n",
    "html_response = driver.execute_script(\n",
    "    f\"\"\"\n",
    "    var request = new XMLHttpRequest();\n",
    "    request.open(\"GET\", \"{player_production_url}\", false);\n",
    "    request.send(null);   \n",
    "    return request.responseText;\"\"\"\n",
    ")\n",
    "doc = html.fromstring(html_response)"
   ]
  },
  {
   "cell_type": "code",
   "execution_count": null,
   "metadata": {},
   "outputs": [
    {
     "name": "stdout",
     "output_type": "stream",
     "text": [
      "0.7030506000010064\n"
     ]
    }
   ],
   "source": [
    "a = time.perf_counter()\n",
    "player_production_url = \"https://pl173.plemiona.pl/game.php?village=28317&screen=overview_villages&mode=prod&group=0&page=-1&\"\n",
    "html_response = driver.execute_script(\n",
    "    f\"\"\"\n",
    "    var request = new XMLHttpRequest();\n",
    "    request.open(\"GET\", \"{player_production_url}\", false);\n",
    "    request.send(null);   \n",
    "    return request.responseText;\"\"\"\n",
    ")\n",
    "doc = html.fromstring(html_response)\n",
    "production = doc.get_element_by_id(\"production_table\")\n",
    "url = driver.current_url\n",
    "url = url[: url.rfind(\"/\")]\n",
    "villages = {}\n",
    "for village_data in production[1:]:\n",
    "    village_id = village_data.xpath(\"td[2]/span\")[0].get(\"data-id\")\n",
    "    village_market_url = f\"{url}/game.php?village={village_id}&screen=market&mode=exchange\"\n",
    "    village_coords = village_data.xpath(\"td[2]/span/span/a/span\")[0].text\n",
    "    village_coords = re.findall(r\"\\d{3}\\|\\d{3}\", village_coords)[-1]\n",
    "    continent = f\"k{village_coords[4]}{village_coords[0]}\"\n",
    "    if continent not in villages:\n",
    "        villages[continent] = []\n",
    "    village_resource = {}\n",
    "    for resource_name, resource_amount in zip((\"wood\", \"stone\", \"iron\"), village_data.xpath(\"td[4]/span\")):\n",
    "        village_resource[resource_name] = int(resource_amount.text_content().replace(\".\", \"\"))\n",
    "    market_merchant = village_data.xpath(\"td[6]\")[0].text_content().split(\"/\")\n",
    "    market_merchant = {\"available\": int(market_merchant[0]), \"max\": int(market_merchant[1])}\n",
    "    villages[continent].append(\n",
    "        {\"village_coords\": village_coords, \n",
    "        \"village_resource\": village_resource, \n",
    "        \"village_url\": village_market_url,\n",
    "        \"market_merchant\": market_merchant}\n",
    "    )\n",
    "for villages_by_continent in villages.values():\n",
    "    villages_by_continent.sort(reverse=True, key=lambda v: sum(v[\"village_resource\"].values())+v[\"market_merchant\"][\"available\"]*2000)\n",
    "print(time.perf_counter()-a)"
   ]
  },
  {
   "cell_type": "code",
   "execution_count": null,
   "metadata": {},
   "outputs": [],
   "source": [
    "s = requests.session()\n",
    "\n",
    "for cookie in driver.get_cookies():\n",
    "    c = {cookie['name']: cookie['value']}\n",
    "    s.cookies.update(c)\n",
    "\n",
    "response = s.get(player_production_url)"
   ]
  },
  {
   "cell_type": "code",
   "execution_count": null,
   "metadata": {},
   "outputs": [],
   "source": [
    "driver.execute_script('javascript:selectVillage(15449, 0)')"
   ]
  },
  {
   "cell_type": "markdown",
   "metadata": {},
   "source": [
    "### Automate application deployment"
   ]
  },
  {
   "cell_type": "code",
   "execution_count": null,
   "metadata": {},
   "outputs": [],
   "source": [
    "import pathlib\n",
    "import shutil\n",
    "import subprocess\n",
    "\n",
    "APP_VERSION = \"0.8.9\"\n",
    "\n",
    "pyupdater_path = pathlib.Path(r\".venv_tribal_wars\\Scripts\\pyupdater\")\n",
    "# Build app using pyupdater and win.spec file\n",
    "subprocess.run(\n",
    "    [pyupdater_path, \"build\", f\"--app-version={APP_VERSION}\", \"win.spec\"],\n",
    ")\n",
    "# Created and sign package file to update app\n",
    "subprocess.run([pyupdater_path, \"pkg\", \"--process\", \"--sign\"])\n",
    "\n",
    "# Create paths to all needed files\n",
    "keys = pathlib.Path(r\"pyu-data\\deploy\\keys.gz\")\n",
    "versions = pathlib.Path(r\"pyu-data\\deploy\\versions.gz\")\n",
    "app_pkg = max(\n",
    "    pathlib.Path(r\"pyu-data\\deploy\").glob(\"*.zip\"),\n",
    "    key=lambda file: file.stat().st_ctime,\n",
    ")\n",
    "update_pkg = max(\n",
    "    pathlib.Path(r\"pyu-data\\deploy\").glob(\"*stable*\"),\n",
    "    key=lambda file: file.stat().st_ctime,\n",
    ")\n",
    "\n",
    "# Copy files from local storage to ftp server\n",
    "shutil.copyfile(keys, pathlib.Path(rf\"\\\\Srv-01\\ftp\\{keys.name}\"))\n",
    "shutil.copyfile(versions, pathlib.Path(rf\"\\\\Srv-01\\ftp\\{versions.name}\"))\n",
    "shutil.copyfile(app_pkg, pathlib.Path(rf\"\\\\Srv-01\\ftp\\{app_pkg.name}\"))\n",
    "shutil.copyfile(update_pkg, pathlib.Path(rf\"\\\\Srv-01\\ftp\\{update_pkg.name}\"))\n"
   ]
  },
  {
   "cell_type": "markdown",
   "metadata": {},
   "source": [
    "### Clear logs during update process"
   ]
  },
  {
   "cell_type": "code",
   "execution_count": null,
   "metadata": {},
   "outputs": [],
   "source": [
    "import threading\n",
    "from pathlib import Path\n",
    "def clear_logs() -> None:\n",
    "    for file in os.listdir(\"logs\"):\n",
    "        if file.endswith(\".png\"):\n",
    "            Path(rf'logs/{file}').unlink(missing_ok=True)\n",
    "    if Path('logs').exists():\n",
    "        open(Path('logs', 'log.txt'), \"w\").close()\n",
    "threading.Thread(target=clear_logs).start()"
   ]
  },
  {
   "cell_type": "markdown",
   "metadata": {},
   "source": [
    "### xmltodict"
   ]
  },
  {
   "cell_type": "code",
   "execution_count": null,
   "metadata": {},
   "outputs": [
    {
     "name": "stdout",
     "output_type": "stream",
     "text": [
      "0.2459867000579834\n"
     ]
    }
   ],
   "source": [
    "import xmltodict\n",
    "a = time.time()\n",
    "response = requests.get(\"https://pl173.plemiona.pl/interface.php?func=get_config\")\n",
    "dict_data = xmltodict.parse(response.content)\n",
    "print(time.time()-a)\n"
   ]
  },
  {
   "cell_type": "markdown",
   "metadata": {},
   "source": [
    "### XMLHttpRequest() using JS"
   ]
  },
  {
   "cell_type": "code",
   "execution_count": null,
   "metadata": {},
   "outputs": [],
   "source": [
    "current_village_id = int(driver.execute_script('return window.game_data.village.id'))\n",
    "url = driver.current_url\n",
    "url = url[:url.rfind('/')]\n",
    "player_profile_url = url + f'/game.php?village={current_village_id}&screen=info_player'\n",
    "html_response = driver.execute_script(f'''\n",
    "    var request = new XMLHttpRequest();\n",
    "    request.open(\"GET\", \"{player_profile_url}\", false);\n",
    "    request.send(null);   \n",
    "    return request.responseText;''')   # return request.responseText\n",
    "doc = html.fromstring(html_response)\n",
    "doc = doc.xpath('//table[@id=\"villages_list\"]/tbody/tr')"
   ]
  },
  {
   "cell_type": "markdown",
   "metadata": {},
   "source": [
    "### Get villages id on current world saved settings"
   ]
  },
  {
   "cell_type": "code",
   "execution_count": null,
   "metadata": {},
   "outputs": [],
   "source": [
    "def get_villages_id(settings: dict[str], update: bool=False) -> dict[str, str]:\n",
    "    \"\"\"Download, process and save in text file for future use.\n",
    "    In the end return all villages in the world with proper id.\n",
    "    \"\"\"    \n",
    "\n",
    "    def update_file() -> None:\n",
    "        \"\"\"Create or update file with villages and their id's\"\"\"\n",
    "\n",
    "        url = f'http://pl{settings[\"world_number\"]}.plemiona.pl/map/village.txt'\n",
    "        response = requests.get(url)\n",
    "        response = response.text\n",
    "        response = response.splitlines()    \n",
    "        villages = {}\n",
    "        for row in response:\n",
    "            id, _, x, y, _, _, _ = row.split(',')\n",
    "            villages[x+'|'+y] = id\n",
    "\n",
    "        try:\n",
    "            world_villages_file = open(f'villages{settings[\"world_number\"]}.txt', 'w')\n",
    "        except:\n",
    "            logging.error(f'There was a problem with villages{settings[\"world_number\"]}.txt')\n",
    "        else:\n",
    "            for village_coords, village_id in villages.items():\n",
    "                world_villages_file.write(f'{village_coords},{village_id}\\n')\n",
    "        finally:\n",
    "            world_villages_file.close()\n",
    "\n",
    "    if update:\n",
    "        update_file()\n",
    "\n",
    "    villages = {}\n",
    "    try:\n",
    "        world_villages_file = open(f'villages{settings[\"world_number\"]}.txt')\n",
    "    except FileNotFoundError:\n",
    "        update_file()\n",
    "        world_villages_file = open(f'villages{settings[\"world_number\"]}.txt')\n",
    "    else:\n",
    "        for row in world_villages_file:\n",
    "            village_coords, village_id = row.split(',')\n",
    "            villages[village_coords] = village_id\n",
    "    finally:\n",
    "        world_villages_file.close()\n",
    "\n",
    "    return villages\n",
    "\n",
    "villages = get_villages_id(settings=settings)"
   ]
  },
  {
   "cell_type": "markdown",
   "metadata": {},
   "source": [
    "### Check folder existence if not exist create it"
   ]
  },
  {
   "cell_type": "code",
   "execution_count": null,
   "metadata": {},
   "outputs": [
    {
     "name": "stdout",
     "output_type": "stream",
     "text": [
      "0.0009925365447998047\n"
     ]
    }
   ],
   "source": [
    "a = time.time()\n",
    "if not os.path.isdir('settings'):\n",
    "    os.mkdir('settings')\n",
    "print(time.time()-a)"
   ]
  },
  {
   "cell_type": "markdown",
   "metadata": {},
   "source": [
    "### Selenium vs lxml parser speed test"
   ]
  },
  {
   "cell_type": "code",
   "execution_count": null,
   "metadata": {},
   "outputs": [
    {
     "name": "stdout",
     "output_type": "stream",
     "text": [
      "0.023021459579467773\n",
      "0.009007453918457031\n",
      "16694\n"
     ]
    }
   ],
   "source": [
    "import lxml\n",
    "\n",
    "a = time.time()\n",
    "max([ele.text for ele in driver.find_elements_by_xpath('//*[@id=\"scavenge_screen\"]/div/div[2]/div/div[3]/div/ul/li[4]/span[2]')])\n",
    "print(time.time()-a)\n",
    "\n",
    "a = time.time()\n",
    "doc = lxml.html.fromstring(driver.find_element_by_xpath('//*[@id=\"scavenge_screen\"]/div/div[2]').get_attribute('innerHTML'))\n",
    "doc = doc.xpath('//div/div[3]/div/ul/li[4]/span[2]')\n",
    "max([ele.text for ele in doc])\n",
    "print(time.time()-a)\n",
    "\n",
    "doc = lxml.html.fromstring(driver.find_element_by_xpath('//*[@id=\"scavenge_screen\"]/div/div[2]').get_attribute('innerHTML'))\n",
    "doc = doc.xpath('//div/div[3]/div/ul/li[4]/span[2]')\n",
    "journey_time = [int(_) for _ in max([ele.text for ele in doc]).split(':')]\n",
    "journey_time = journey_time[0] *3600 + journey_time[1] * 60 + journey_time[2]\n",
    "\n",
    "print(journey_time)"
   ]
  },
  {
   "cell_type": "code",
   "execution_count": null,
   "metadata": {},
   "outputs": [],
   "source": [
    "a = time.time()\n",
    "current_village = driver.find_element(By.XPATH, '//*[@id=\"menu_row2\"]/td/b').text\n",
    "coords = re.search(r'\\d{3}\\|\\d{3}', current_village).group()\n",
    "print(time.time()-a)\n",
    "print(coords)\n",
    "\n",
    "a = time.time()\n",
    "current_village = driver.execute_script('return window.game_data.village.coord')\n",
    "print(time.time()-a)\n",
    "print(current_village)"
   ]
  },
  {
   "cell_type": "code",
   "execution_count": null,
   "metadata": {},
   "outputs": [
    {
     "name": "stdout",
     "output_type": "stream",
     "text": [
      "0.03403115272521973\n",
      "['(0)', '(0)', '(158)', '(0)', '(139)', '(0)', '(0)', '(0)']\n",
      "0.0010013580322265625\n",
      "['(0)', '(0)', '(158)', '(0)', '(139)', '(0)', '(0)', '(0)']\n"
     ]
    }
   ],
   "source": [
    "doc = lxml.html.fromstring(driver.page_source)\n",
    "a = time.time()\n",
    "troops_number = driver.find_element_by_xpath('//*[@id=\"scavenge_screen\"]/div/div[1]/table/tbody/tr[2]').text.splitlines()[:-1]\n",
    "print(time.time()-a)\n",
    "print(troops_number)\n",
    "a = time.time()\n",
    "troops_number = [troop_number.text for troop_number in doc.xpath('//*[@id=\"scavenge_screen\"]/div/div[1]/table/tbody/tr[2]/td/a')][:-1]\n",
    "print(time.time()-a)\n",
    "print(troops_number)\n"
   ]
  },
  {
   "cell_type": "markdown",
   "metadata": {},
   "source": [
    "### Selenium vs JavaScript speed test"
   ]
  },
  {
   "cell_type": "code",
   "execution_count": null,
   "metadata": {},
   "outputs": [],
   "source": [
    "a = time.perf_counter()\n",
    "print(driver.find_elements(By.CSS_SELECTOR, \".antigate_solver\"))\n",
    "print(time.perf_counter()-a)\n",
    "\n",
    "a = time.perf_counter()\n",
    "print(driver.execute_script('return document.querySelector(\".antigate_solver.error\");'))\n",
    "print(time.perf_counter()-a)"
   ]
  },
  {
   "cell_type": "markdown",
   "metadata": {},
   "source": [
    "### id i coordy wiosek gracza"
   ]
  },
  {
   "cell_type": "code",
   "execution_count": null,
   "metadata": {},
   "outputs": [],
   "source": [
    "WebDriverWait(driver, 10).until(EC.element_to_be_clickable((By.XPATH, '//*[@id=\"menu_row\"]/td[11]/a'))).click()\n",
    "village_number = WebDriverWait(driver, 10).until(EC.element_to_be_clickable((By.XPATH, '//*[@id=\"villages_list\"]/thead/tr/th[1]'))).text\n",
    "village_number = int(village_number[village_number.find('(')+1:-1])\n",
    "if village_number > 100:\n",
    "    element = WebDriverWait(driver, 10).until(EC.element_to_be_clickable((By.XPATH, '//*[@id=\"villages_list\"]/tbody/tr[101]/td/a')))\n",
    "    driver.execute_script('return arguments[0].scrollIntoView(true);', element)\n",
    "    element.click()\n",
    "    WebDriverWait(driver, 10, 0.1).until(EC.element_to_be_clickable((By.XPATH, '//*[@id=\"villages_list\"]/tbody/tr[101]/td[3]')))\n",
    "villages = {'id': [id.get_attribute('data-id') for id in driver.find_elements_by_xpath('//*[@id=\"villages_list\"]/tbody/tr/td[1]/table/tbody/tr/td[1]/span')],\n",
    "            'coords': [coords.text for coords in driver.find_elements_by_xpath('//*[@id=\"villages_list\"]/tbody/tr/td[3]')]}\n"
   ]
  },
  {
   "cell_type": "markdown",
   "metadata": {},
   "source": [
    "### Uniki średnie i duże"
   ]
  },
  {
   "cell_type": "code",
   "execution_count": null,
   "metadata": {},
   "outputs": [],
   "source": [
    "WebDriverWait(driver, 10).until(EC.element_to_be_clickable((By.ID, 'incomings_cell'))).click() # przełącz do strony nadchodzących ataków\n",
    "manage_filters = WebDriverWait(driver, 10).until(EC.element_to_be_clickable((By.XPATH, '//*[@id=\"paged_view_content\"]/a'))) # filtr ataków\n",
    "if driver.find_element_by_xpath('//*[@id=\"paged_view_content\"]/div[2]').get_attribute('style').find('display: none') != -1: # czy włączony\n",
    "    manage_filters.click() # włącz filtr ataków\n",
    "WebDriverWait(driver, 10).until(EC.element_to_be_clickable((By.XPATH, '//*[@id=\"paged_view_content\"]/div[2]/form/table/tbody/tr[2]/td[2]/input'))).clear() # etykieta rozkazu\n",
    "attack_size = input('1 all\\n'\n",
    "                    '2 small\\n'\n",
    "                    '3 medium\\n'\n",
    "                    '4 big')\n",
    "WebDriverWait(driver, 10).until(EC.element_to_be_clickable((By.XPATH, f'//*[@id=\"paged_view_content\"]/div[2]/form/table/tbody/tr[6]/td/label[{attack_size}]/input'))).click() # wielkość idących wojsk\n",
    "WebDriverWait(driver, 10).until(EC.element_to_be_clickable((By.XPATH, '//*[@id=\"paged_view_content\"]/div[2]/form/table/tbody/tr[7]/td/input'))).click() # zapisz i przeładuj\n",
    "WebDriverWait(driver, 10).until(EC.element_to_be_clickable((By.XPATH, '//*[@id=\"paged_view_content\"]/a'))) # sprawdź widoczność przycisku \"zarządzanie filtrami\"\n",
    "try:\n",
    "    driver.find_element_by_id('incomings_table') # czy są ataki spełniające powyższe kryteria\n",
    "except:\n",
    "    pass\n",
    "\n",
    "targets = driver.find_elements_by_xpath('//*[@id=\"incomings_table\"]/tbody/tr/td[2]/a')\n",
    "dates = driver.find_elements_by_xpath('//*[@id=\"incomings_table\"]/tbody/tr/td[6]')\n",
    "\n",
    "date_time = time.gmtime()\n",
    "\n",
    "targets = [target.get_attribute('href') for target in targets]\n",
    "dates = [data.text for data in dates]\n",
    "\n",
    "for index, date in enumerate(dates):\n",
    "    if date.startswith('dzisiaj'):\n",
    "        dates[index] = date.replace('dzisiaj o', f'{date_time.tm_mday}.{date_time.tm_mon :>02}.{date_time.tm_year}')[:-4]\n",
    "    elif date.startswith('jutro o'):\n",
    "        dates[index] = date.replace('jutro o', f'{date_time.tm_mday+1}.{date_time.tm_mon :>02}.{date_time.tm_year}')[:-4]\n",
    "    else:\n",
    "        dates[index] = date.replace('dnia ', '').replace('. o', f'.{date_time.tm_year}')[:-4]\n",
    "\n",
    "dates = [time.mktime(time.strptime(date, '%d.%m.%Y %H:%M:%S')) for date in dates]\n",
    "targets = [target.replace('overview', 'place') for target in targets]\n",
    "\n",
    "while True:\n",
    "    search_for = villages['coords'][villages['id'].index(targets[0][targets[0].find('=')+1:targets[0].find('&')])]\n",
    "    nearest = sorted([[sqrt(pow(int(search_for[:3])-int(village[:3]), 2) + pow(int(search_for[4:])-int(village[4:]), 2)), index] for index, village in enumerate(villages['coords'])])[1][1]\n",
    "    targets[0] += '&target=' + villages['id'][nearest]\n",
    "    while True:        \n",
    "        if time.time() > dates[0] - 5:\n",
    "            driver.get(targets[0])            \n",
    "            WebDriverWait(driver, 10).until(EC.element_to_be_clickable((By.ID, 'selectAllUnits'))).click()\n",
    "            WebDriverWait(driver, 10).until(EC.element_to_be_clickable((By.ID, 'target_support'))).click()\n",
    "            WebDriverWait(driver, 10).until(EC.element_to_be_clickable((By.ID, 'troop_confirm_go'))).click()\n",
    "            send_time = time.time()        \n",
    "            break_attack = WebDriverWait(driver, 10).until(EC.element_to_be_clickable((By.CLASS_NAME, 'command-cancel')))\n",
    "            time.sleep(((dates[0] - send_time) / 2) + 1)\n",
    "            driver.get(break_attack.get_attribute('href'))\n",
    "            del dates[0], targets[0]\n",
    "            break\n"
   ]
  },
  {
   "cell_type": "code",
   "execution_count": null,
   "metadata": {},
   "outputs": [],
   "source": [
    "# wystawianie offert tylko dla plemienia\n",
    "\n",
    "current_village_link = WebDriverWait(driver, 10).until(EC.element_to_be_clickable((By.XPATH, '//*[@id=\"menu_row2_village\"]/a')))\n",
    "summary_production = current_village_link.get_attribute('href') + '_villages&mode=prod'\n",
    "driver.get(summary_production)\n",
    "\n",
    "villages_resources = {'villages': [], 'resources': [], 'summary': []}\n",
    "villages_resources['villages'] = [village_resources.get_attribute('href').replace('overview', 'market&mode=own_offer') for village_resources in driver.find_elements_by_xpath('//*[@id=\"production_table\"]/tbody/tr/td[2]/span/span/a[1]')]\n",
    "resources = [int(resource.text.replace('.', '')) for resource in driver.find_elements_by_xpath('//*[@id=\"production_table\"]/tbody/tr/td[4]/span')]\n",
    "villages_resources['resources'] = [[resources[index], resources[index+1], resources[index+2]] for index in range(0, len(resources), 3)] \n",
    "\n",
    "for i in range(3):\n",
    "    villages_resources['summary'].extend([sum([resource[i] for resource in villages_resources['resources']])]) \n",
    "offer = villages_resources['summary'].index(max(villages_resources['summary']))                 \n",
    "need = villages_resources['summary'].index(min(villages_resources['summary']))\n",
    "\n",
    "for (village, resource) in zip(villages_resources['villages'], villages_resources['resources']):\n",
    "    if resource[need] < 20000 and resource[offer] > 100000:\n",
    "        driver.get(village)\n",
    "        WebDriverWait(driver, 10).until(EC.element_to_be_clickable((By.XPATH, f'//*[@id=\"res_buy_selection\"]/label[{need+1}]/input'))).click()\n",
    "        WebDriverWait(driver, 10).until(EC.element_to_be_clickable((By.XPATH, f'//*[@id=\"res_sell_selection\"]/label[{offer+1}]/input'))).click()\n",
    "        how_many = WebDriverWait(driver, 10).until(EC.element_to_be_clickable((By.XPATH, '//*[@id=\"own_offer_form\"]/table[3]/tbody/tr[2]/td[2]/input')))\n",
    "        max_to_use = int((resource[offer] - 100000) / 1000) \n",
    "        if max_to_use < int(how_many.get_attribute('value')):\n",
    "            how_many.clear()\n",
    "            how_many.send_keys(str(max_to_use))      \n",
    "        element = WebDriverWait(driver, 10).until(EC.element_to_be_clickable((By.XPATH, '//*[@id=\"own_offer_form\"]/table[3]/tbody/tr[4]/td[2]/label/input')))\n",
    "        driver.execute_script('return arguments[0].scrollIntoView(true);', element)\n",
    "        element.click()\n",
    "        element = WebDriverWait(driver, 10).until(EC.element_to_be_clickable((By.XPATH, '//*[@id=\"submit_offer\"]')))\n",
    "        driver.execute_script('return arguments[0].scrollIntoView(true);', element)\n",
    "        element.click()\n",
    "    else:\n",
    "        continue"
   ]
  },
  {
   "cell_type": "code",
   "execution_count": null,
   "metadata": {},
   "outputs": [],
   "source": [
    "# odsyłanie wybranego wsparcia\n",
    "\n",
    "code = driver.find_element_by_xpath('//*[@id=\"withdraw_selected_units_village_info\"]/table/tbody').get_attribute(\"innerHTML\")\n",
    "temp = code.split('<tr>')[2:-1]\n",
    "omit = 2\n",
    "for index in range(len(temp)):\n",
    "    temp[index] = temp[index].split('<td style')[1:-5]\n",
    "    if temp[index][0].find('has-input') == -1:\n",
    "        continue\n",
    "    del temp[index][4], temp[index][2]\n",
    "    for row, value in zip(range(len(temp[index])), (2, 3, 5, 7)):\n",
    "        temp[index][row] = [value, temp[index][row]]\n",
    "    for row in range(len(temp[index])):\n",
    "        if temp[index][row][0] == omit:\n",
    "            continue\n",
    "        if temp[index][row][1].find('hidden') != -1:\n",
    "            continue\n",
    "        ele = driver.find_element_by_xpath(f'//*[@id=\"withdraw_selected_units_village_info\"]/table/tbody/tr[{index+2}]/td[{temp[index][row][0]}]')\n",
    "        html = temp[index][row][1][temp[index][row][1].find('<'):-5]\n",
    "        html = html[:html.find('value')] + 'value=\"\" ' + html[html.find('min'):]\n",
    "        driver.execute_script(f'''arguments[0].innerHTML = '{html}';''', ele)"
   ]
  },
  {
   "cell_type": "markdown",
   "metadata": {},
   "source": [
    "### Creating datatime object from string"
   ]
  },
  {
   "cell_type": "code",
   "execution_count": null,
   "metadata": {},
   "outputs": [
    {
     "name": "stdout",
     "output_type": "stream",
     "text": [
      "0.01199793815612793\n",
      "0.010999679565429688\n",
      "0.05900096893310547\n",
      "0.060007572174072266\n",
      "1576680750.25\n",
      "1576680750.25\n",
      "1576680750.25\n",
      "1576680750.0\n"
     ]
    }
   ],
   "source": [
    "import time\n",
    "from datetime import datetime\n",
    "from dateutil import parser\n",
    "\n",
    "def date_to_sec(date: str) -> float:\n",
    "    return datetime(int(test[:4]), int(test[5:7]), int(test[8:10]), int(test[11:13]), int(test[14:16]), int(test[17:19]), int(test[-3:])*1000).timestamp()\n",
    "\n",
    "test = '2019-12-18 15:52:30:250'\n",
    "\n",
    "a = time.time()\n",
    "for i in range(10000):\n",
    "    datetime(int(test[:4]), int(test[5:7]), int(test[8:10]), int(test[11:13]), int(test[14:16]), int(test[17:19]), int(test[-3:])*1000).timestamp()\n",
    "print(time.time()-a)\n",
    "\n",
    "a = time.time()\n",
    "for i in range(10000):\n",
    "    date_to_sec(test)\n",
    "print(time.time()-a)\n",
    "\n",
    "a = time.time()\n",
    "for i in range(10000):\n",
    "    datetime.strptime(test, '%Y-%m-%d %H:%M:%S:%f').timestamp()\n",
    "print(time.time()-a)\n",
    "\n",
    "a = time.time()\n",
    "for i in range(10000):\n",
    "    time.mktime(\n",
    "        time.strptime(test, \"%Y-%m-%d %H:%M:%S:%f\")\n",
    "    )\n",
    "print(time.time()-a)\n",
    "\n",
    "print(datetime(int(test[:4]), int(test[5:7]), int(test[8:10]), int(test[11:13]), int(test[14:16]), int(test[17:19]), int(test[-3:])*1000).timestamp())\n",
    "print(date_to_sec(test))\n",
    "print(datetime.strptime(test, '%Y-%m-%d %H:%M:%S:%f').timestamp())\n",
    "print(time.mktime(time.strptime(test, \"%Y-%m-%d %H:%M:%S:%f\")))\n",
    "\n"
   ]
  },
  {
   "cell_type": "code",
   "execution_count": null,
   "metadata": {},
   "outputs": [
    {
     "name": "stdout",
     "output_type": "stream",
     "text": [
      "1576680750.0\n",
      "2019-12-18 14:52:30:\n"
     ]
    },
    {
     "ename": "AttributeError",
     "evalue": "'datetime.datetime' object has no attribute 'tm_hour'",
     "output_type": "error",
     "traceback": [
      "\u001b[1;31m---------------------------------------------------------------------------\u001b[0m",
      "\u001b[1;31mAttributeError\u001b[0m                            Traceback (most recent call last)",
      "\u001b[1;32m~\\AppData\\Local\\Temp/ipykernel_12760/414064373.py\u001b[0m in \u001b[0;36m<module>\u001b[1;34m\u001b[0m\n\u001b[0;32m      7\u001b[0m \u001b[0mstart\u001b[0m \u001b[1;33m=\u001b[0m \u001b[0mdatetime\u001b[0m\u001b[1;33m.\u001b[0m\u001b[0mstrptime\u001b[0m\u001b[1;33m(\u001b[0m\u001b[0mtest\u001b[0m\u001b[1;33m,\u001b[0m \u001b[1;34m'%Y-%m-%d %H:%M:%S:%f'\u001b[0m\u001b[1;33m)\u001b[0m\u001b[1;33m\u001b[0m\u001b[1;33m\u001b[0m\u001b[0m\n\u001b[0;32m      8\u001b[0m \u001b[0mend\u001b[0m \u001b[1;33m=\u001b[0m \u001b[0mdatetime\u001b[0m\u001b[1;33m.\u001b[0m\u001b[0mstrptime\u001b[0m\u001b[1;33m(\u001b[0m\u001b[0mtest\u001b[0m\u001b[1;33m,\u001b[0m \u001b[1;34m'%Y-%m-%d %H:%M:%S:%f'\u001b[0m\u001b[1;33m)\u001b[0m\u001b[1;33m\u001b[0m\u001b[1;33m\u001b[0m\u001b[0m\n\u001b[1;32m----> 9\u001b[1;33m \u001b[1;32mif\u001b[0m \u001b[0mstart\u001b[0m\u001b[1;33m.\u001b[0m\u001b[0mtm_hour\u001b[0m \u001b[1;33m!=\u001b[0m \u001b[0mend\u001b[0m\u001b[1;33m.\u001b[0m\u001b[0mtm_hour\u001b[0m \u001b[1;32mor\u001b[0m \u001b[0mstart\u001b[0m\u001b[1;33m.\u001b[0m\u001b[0mtm_mday\u001b[0m \u001b[1;33m!=\u001b[0m \u001b[0mend\u001b[0m\u001b[1;33m.\u001b[0m\u001b[0mtm_mday\u001b[0m\u001b[1;33m:\u001b[0m\u001b[1;33m\u001b[0m\u001b[1;33m\u001b[0m\u001b[0m\n\u001b[0m\u001b[0;32m     10\u001b[0m     \u001b[0mprint\u001b[0m\u001b[1;33m(\u001b[0m\u001b[1;34m'yes'\u001b[0m\u001b[1;33m)\u001b[0m\u001b[1;33m\u001b[0m\u001b[1;33m\u001b[0m\u001b[0m\n\u001b[0;32m     11\u001b[0m \u001b[1;33m\u001b[0m\u001b[0m\n",
      "\u001b[1;31mAttributeError\u001b[0m: 'datetime.datetime' object has no attribute 'tm_hour'"
     ]
    }
   ],
   "source": [
    "from datetime import datetime\n",
    "\n",
    "start_time = '2019-12-18 15:52:30:250'\n",
    "end_time = '2019-12-19 12:52:30:250'\n",
    "print(time.mktime(time.strptime(test, \"%Y-%m-%d %H:%M:%S:%f\")))\n",
    "print(time.strftime(\"%Y-%m-%d %H:%M:%S:\", time.gmtime(1576680750.25)))\n",
    "start = datetime.strptime(test, '%Y-%m-%d %H:%M:%S:%f')\n",
    "end = datetime.strptime(test, '%Y-%m-%d %H:%M:%S:%f')\n",
    "if start.tm_hour != end.tm_hour or start.tm_mday != end.tm_mday:\n",
    "    print('yes')\n",
    "\n",
    "settings[\"world_config\"][\"start_hour\"]\n",
    "settings[\"world_config\"][\"end_hour\"]"
   ]
  },
  {
   "cell_type": "markdown",
   "metadata": {},
   "source": [
    "### Zbieranie danych z podanych plemion na podstawie ich id"
   ]
  },
  {
   "cell_type": "code",
   "execution_count": null,
   "metadata": {},
   "outputs": [],
   "source": [
    "tribes_id = [186, 575, 99, 2455]\n",
    "all_names = []\n",
    "for tribe_id in tribes_id:\n",
    "    driver.get(f'https://pl173.plemiona.pl/game.php?village=44632&screen=info_ally&id={tribe_id}')\n",
    "    names = driver.find_elements(By.XPATH, '//*[@id=\"content_value\"]/table/tbody/tr/td[1]/table[2]/tbody/tr/td[1]/a')\n",
    "    all_names.extend([name.get_attribute('href') for name in names])"
   ]
  },
  {
   "cell_type": "markdown",
   "metadata": {},
   "source": [
    "### Dodawanie do znajomych"
   ]
  },
  {
   "cell_type": "code",
   "execution_count": null,
   "metadata": {},
   "outputs": [],
   "source": [
    "import random\n",
    "\n",
    "from urllib.parse import urlparse, parse_qs\n",
    "for player_url in all_names:\n",
    "    player_id = parse_qs(urlparse(player_url).query)\n",
    "    driver.get(f\"https://pl173.plemiona.pl/game.php?village=44632&screen=info_player&id={player_id['id'][0]}\")\n",
    "    add_to_friend = driver.find_elements(By.XPATH, '//*[@id=\"content_value\"]/table/tbody/tr/td[1]/table[2]/tbody/tr[3]/td/a')\n",
    "                                                    \n",
    "    if not add_to_friend:\n",
    "        continue\n",
    "    if 'Dodaj jako przyjaciela' in add_to_friend[0].text:\n",
    "        driver.get(add_to_friend[0].get_attribute('href'))\n",
    "        continue    \n",
    "    add_to_friend = driver.find_elements(By.XPATH, '//*[@id=\"content_value\"]/table/tbody/tr/td[1]/table[2]/tbody/tr[4]/td/a')\n",
    "    if add_to_friend and 'Dodaj jako przyjaciela' in add_to_friend[0].text:\n",
    "        driver.get(add_to_friend[0].get_attribute('href'))\n",
    "    \n"
   ]
  },
  {
   "cell_type": "markdown",
   "metadata": {},
   "source": [
    "### Przydatne śmieci"
   ]
  },
  {
   "cell_type": "code",
   "execution_count": null,
   "metadata": {},
   "outputs": [],
   "source": [
    "def style_info(style: ttk.Style, style_name: str) -> None:\n",
    "    \"\"\"Print all style options and its current config\"\"\"\n",
    "\n",
    "    for _ in (\"border\", \"focus\", \"padding\", \"label\"):\n",
    "        print(\"\\n========================================\")\n",
    "        print(_)\n",
    "        print(\"========================================\\n\")\n",
    "        for state in (\n",
    "            \"active\",\n",
    "            \"disabled\",\n",
    "            \"focus\",\n",
    "            \"pressed\",\n",
    "            # \"selected\",\n",
    "            # \"background\",\n",
    "            # \"readonly\",\n",
    "            \"alternate\",\n",
    "            \"invalid\",\n",
    "        ):\n",
    "            print(\"----------------------------------------\")\n",
    "            print(state)\n",
    "            print(\"----------------------------------------\\n\")\n",
    "            for key in style.element_options(f\"{style_name}.{_}\"):\n",
    "                if not style.lookup(f\"{style_name}\", f\"{key}\", state=[f\"{state}\"]):\n",
    "                    continue\n",
    "                print(f\"{key}, {state}\")\n",
    "                print(style.lookup(f\"{style_name}\", f\"{key}\", state=[f\"{state}\"]))\n",
    "                print(\"----------------------\")\n",
    "\n",
    "    print(style.layout(f\"{style_name}\"))"
   ]
  }
 ],
 "metadata": {
  "interpreter": {
   "hash": "17137849ae6ef16417cf1b6aea61de778ead0b3f68de60d202d858668d2c59bb"
  },
  "kernelspec": {
   "display_name": "Python 3.10.0 ('.venv_tribal_wars': venv)",
   "language": "python",
   "name": "python3"
  },
  "language_info": {
   "codemirror_mode": {
    "name": "ipython",
    "version": 3
   },
   "file_extension": ".py",
   "mimetype": "text/x-python",
   "name": "python",
   "nbconvert_exporter": "python",
   "pygments_lexer": "ipython3",
   "version": "3.10.5"
  },
  "orig_nbformat": 4
 },
 "nbformat": 4,
 "nbformat_minor": 2
}
