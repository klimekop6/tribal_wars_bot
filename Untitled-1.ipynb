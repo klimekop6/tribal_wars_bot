{
 "cells": [
  {
   "cell_type": "code",
   "execution_count": 1,
   "metadata": {},
   "outputs": [],
   "source": [
    "from selenium import webdriver\n",
    "from selenium.webdriver.common.keys import Keys\n",
    "from selenium.webdriver.chrome.service import Service\n",
    "from webdriver_manager.chrome import ChromeDriverManager\n",
    "from selenium.webdriver.common.action_chains import ActionChains\n",
    "from selenium.webdriver.support import expected_conditions as EC\n",
    "from selenium.webdriver.common.by import By\n",
    "from selenium.webdriver.support.wait import WebDriverWait\n",
    "from selenium.webdriver.chrome.options import Options\n",
    "from selenium.webdriver.support.ui import Select\n",
    "from math import sqrt\n",
    "import time\n",
    "import json\n",
    "import datetime\n",
    "import os\n",
    "import threading\n",
    "from lxml import html\n",
    "from tkinter import *\n",
    "\n",
    "\n",
    "import re\n",
    "import requests\n",
    "\n",
    "import logging\n",
    "logging.basicConfig(filename='log.txt', level=logging.ERROR)\n",
    "\n",
    "from python_anticaptcha import AnticaptchaClient, HCaptchaTaskProxyless\n",
    "from database_connection import DataBaseConnection"
   ]
  },
  {
   "cell_type": "code",
   "execution_count": 22,
   "metadata": {},
   "outputs": [
    {
     "name": "stdout",
     "output_type": "stream",
     "text": [
      "pl\n",
      "173\n"
     ]
    }
   ],
   "source": [
    "settings_file_name = 'pl173'\n",
    "print(re.search(r\"\\D*\", settings_file_name).group())\n",
    "print(re.search(r'\\d+', settings_file_name).group())"
   ]
  },
  {
   "cell_type": "code",
   "execution_count": 23,
   "metadata": {},
   "outputs": [],
   "source": [
    "# wczytuje ustawienia aplikacji\n",
    "\n",
    "try:\n",
    "    f = open('settings.json')\n",
    "    settings = json.load(f)\n",
    "except FileNotFoundError:\n",
    "    f = open('settings.json', 'w')\n",
    "    json.dump({}, f)\n",
    "    settings = {}\n",
    "finally:\n",
    "    f.close()\n"
   ]
  },
  {
   "cell_type": "code",
   "execution_count": 24,
   "metadata": {},
   "outputs": [
    {
     "name": "stderr",
     "output_type": "stream",
     "text": [
      "\n",
      "\n",
      "====== WebDriver manager ======\n",
      "Current google-chrome version is 98.0.4758\n",
      "Get LATEST chromedriver version for 98.0.4758 google-chrome\n",
      "Driver [C:\\Users\\klime\\.wdm\\drivers\\chromedriver\\win32\\98.0.4758.102\\chromedriver.exe] found in cache\n"
     ]
    }
   ],
   "source": [
    "# uruchom przeglądarkę z odpowiednim profilem\n",
    "\n",
    "chrome_options = Options()\n",
    "chrome_options.add_argument('user-data-dir=' + settings['path'])\n",
    "chrome_options.add_extension(extension='0.60_0.crx')\n",
    "chrome_options.add_experimental_option(\"useAutomationExtension\", False)\n",
    "chrome_options.add_experimental_option(\"excludeSwitches\", [\"enable-automation\"])\n",
    "try:    \n",
    "    driver = webdriver.Chrome(service=Service(ChromeDriverManager(cache_valid_range=31).install()), options=chrome_options)\n",
    "except BaseException as base:\n",
    "    print(base)\n",
    "driver.set_page_load_timeout(5)\n",
    "driver.maximize_window()\n",
    "try:\n",
    "    driver.get('https://www.plemiona.pl/page/play/pl173')\n",
    "except:\n",
    "    driver.get('https://www.plemiona.pl/page/play/pl173')\n",
    "    pass\n",
    "\n",
    "# if f'pl{settings[\"world\"]}.plemiona.pl' not in driver.current_url:\n",
    "\n",
    "#     username = WebDriverWait(driver, 10).until(EC.element_to_be_clickable((By.ID, 'user')))\n",
    "#     password = WebDriverWait(driver, 10).until(EC.element_to_be_clickable((By.ID, 'password')))\n",
    "\n",
    "#     username.send_keys(Keys.CONTROL+'a')\n",
    "#     username.send_keys(Keys.DELETE)\n",
    "#     password.send_keys(Keys.CONTROL+'a')\n",
    "#     password.send_keys(Keys.DELETE)\n",
    "#     username.send_keys('klimekop6')\n",
    "#     password.send_keys('u56708')\n",
    "\n",
    "#     WebDriverWait(driver, 10).until(EC.element_to_be_clickable((By.CLASS_NAME, 'btn-login'))).click()\n",
    "#     WebDriverWait(driver, 10).until(EC.element_to_be_clickable((By.XPATH, f'//span[text()=\"Świat {settings[\"world\"]}\"]'))).click()"
   ]
  },
  {
   "cell_type": "code",
   "execution_count": 28,
   "metadata": {},
   "outputs": [
    {
     "name": "stdout",
     "output_type": "stream",
     "text": [
      "57\n"
     ]
    }
   ],
   "source": [
    "top_bar_height = driver.find_element(By.XPATH, '//*[@id=\"ds_body\"]/div[1]').size['height']\n",
    "incomings = driver.find_element(By.XPATH, '//*[@id=\"scavenge_screen\"]/div/div[1]/table/tbody/tr[2]/td[1]/input')\n",
    "driver.execute_script('return arguments[0].scrollIntoView(false);', incomings)\n",
    "\n"
   ]
  },
  {
   "cell_type": "code",
   "execution_count": null,
   "metadata": {},
   "outputs": [],
   "source": [
    "footer_height = driver.element_find(By.ID, 'footer').size['height']\n",
    "driver.execute_script('return arguments[0].scrollIntoView(false);', incomings)"
   ]
  },
  {
   "cell_type": "code",
   "execution_count": 7,
   "metadata": {},
   "outputs": [],
   "source": [
    "incomings = driver.find_element(By.XPATH, '//*[@id=\"scavenge_screen\"]/div/div[1]/table/tbody/tr[2]/td[1]/input')\n",
    "driver.execute_script('return arguments[0].scrollIntoView({block: \"center\"});', incomings)\n",
    "driver.execute_script('scrollBy(0, -100);')\n"
   ]
  },
  {
   "cell_type": "code",
   "execution_count": 16,
   "metadata": {},
   "outputs": [
    {
     "name": "stdout",
     "output_type": "stream",
     "text": [
      "1642800138.462707\n",
      "1644660999.2157505\n",
      "1860860.7530434132\n"
     ]
    }
   ],
   "source": [
    "import os\n",
    "import time\n",
    "import datetime\n",
    "\n",
    "file_name = f'villages173.txt'\n",
    "creation_date = os.path.getmtime(file_name)  # datetime.datetime.fromtimestamp(os.path.getmtime(file_name), tz=datetime.timezone.utc)\n",
    "print(creation_date)\n",
    "print(time.time())\n",
    "print((time.time()-creation_date))"
   ]
  },
  {
   "cell_type": "code",
   "execution_count": 30,
   "metadata": {},
   "outputs": [],
   "source": [
    "from getmac import get_mac_address as gma\n",
    "print(gma())"
   ]
  },
  {
   "cell_type": "code",
   "execution_count": 18,
   "metadata": {},
   "outputs": [],
   "source": [
    "incomings = driver.find_element(By.XPATH, '//*[@id=\"scavenge_screen\"]/div/div[1]/table/tbody/tr[2]/td[1]/input')\n",
    "driver.execute_script('return arguments[0].scrollIntoView(true);', incomings)\n",
    "driver.execute_script('scrollBy(0, -60);')"
   ]
  },
  {
   "cell_type": "code",
   "execution_count": 4,
   "metadata": {},
   "outputs": [],
   "source": [
    "send_info = {'snob_amount': 3}\n",
    "for _ in range(send_info['snob_amount']):\n",
    "    driver.find_element(By.XPATH, '//*[@id=\"troop_confirm_train\"]').click()"
   ]
  },
  {
   "cell_type": "code",
   "execution_count": 6,
   "metadata": {},
   "outputs": [],
   "source": [
    "send_info['first_snob_army_size'] = 70\n",
    "input_field = driver.find_element(By.ID, 'unit_input_axe')\n",
    "troop_number = int(input_field.get_attribute('data-all-count'))\n",
    "troop_number = round(troop_number/100*int(send_info['first_snob_army_size']))\n",
    "input_field.send_keys(troop_number)"
   ]
  },
  {
   "cell_type": "code",
   "execution_count": 13,
   "metadata": {},
   "outputs": [
    {
     "data": {
      "text/plain": [
       "[]"
      ]
     },
     "execution_count": 13,
     "metadata": {},
     "output_type": "execute_result"
    }
   ],
   "source": [
    "driver.find_elements(By.ID, 'unit_input_axe1')"
   ]
  },
  {
   "cell_type": "code",
   "execution_count": 33,
   "metadata": {},
   "outputs": [
    {
     "ename": "AttributeError",
     "evalue": "'lxml.etree._Element' object has no attribute 'getroot'",
     "output_type": "error",
     "traceback": [
      "\u001b[1;31m---------------------------------------------------------------------------\u001b[0m",
      "\u001b[1;31mAttributeError\u001b[0m                            Traceback (most recent call last)",
      "\u001b[1;32m~\\AppData\\Local\\Temp/ipykernel_7548/29540725.py\u001b[0m in \u001b[0;36m<module>\u001b[1;34m\u001b[0m\n\u001b[0;32m      2\u001b[0m \u001b[0mresponse\u001b[0m \u001b[1;33m=\u001b[0m \u001b[0mrequests\u001b[0m\u001b[1;33m.\u001b[0m\u001b[0mget\u001b[0m\u001b[1;33m(\u001b[0m\u001b[1;34m\"https://pl173.plemiona.pl/interface.php?func=get_config\"\u001b[0m\u001b[1;33m)\u001b[0m\u001b[1;33m\u001b[0m\u001b[1;33m\u001b[0m\u001b[0m\n\u001b[0;32m      3\u001b[0m \u001b[0mtree\u001b[0m \u001b[1;33m=\u001b[0m \u001b[0metree\u001b[0m\u001b[1;33m.\u001b[0m\u001b[0mfromstring\u001b[0m\u001b[1;33m(\u001b[0m\u001b[0mresponse\u001b[0m\u001b[1;33m.\u001b[0m\u001b[0mcontent\u001b[0m\u001b[1;33m)\u001b[0m\u001b[1;33m\u001b[0m\u001b[1;33m\u001b[0m\u001b[0m\n\u001b[1;32m----> 4\u001b[1;33m \u001b[0mprint\u001b[0m\u001b[1;33m(\u001b[0m\u001b[0mtree\u001b[0m\u001b[1;33m.\u001b[0m\u001b[0mgetroot\u001b[0m\u001b[1;33m(\u001b[0m\u001b[1;33m)\u001b[0m\u001b[1;33m)\u001b[0m\u001b[1;33m\u001b[0m\u001b[1;33m\u001b[0m\u001b[0m\n\u001b[0m",
      "\u001b[1;31mAttributeError\u001b[0m: 'lxml.etree._Element' object has no attribute 'getroot'"
     ]
    }
   ],
   "source": [
    "from lxml import etree\n",
    "response = requests.get(\"https://pl173.plemiona.pl/interface.php?func=get_config\")\n",
    "tree = etree.fromstring(response.content)\n",
    "print(tree)"
   ]
  },
  {
   "cell_type": "code",
   "execution_count": 55,
   "metadata": {},
   "outputs": [
    {
     "name": "stdout",
     "output_type": "stream",
     "text": [
      "axe\n",
      "light\n",
      "marcher\n",
      "ram\n",
      "catapult\n",
      "knight\n",
      "snob\n"
     ]
    }
   ],
   "source": [
    "troops_off = {\n",
    "    'axe': 18,\n",
    "    'light': 10,\n",
    "    'marcher': 10,\n",
    "    'ram': 30,\n",
    "    'catapult': 30,\n",
    "    'knight': 10,\n",
    "    'snob': 35\n",
    "}\n",
    "\n",
    "troops_deff = {\n",
    "    'spear': 18,\n",
    "    'sword': 22,\n",
    "    'archer': 18,\n",
    "    'spy': 9,\n",
    "    'heavy': 11,\n",
    "    'catapult': 30,\n",
    "    'snob': 35\n",
    "}\n",
    "\n",
    "for key in troops_off.keys():\n",
    "    print(key)"
   ]
  },
  {
   "cell_type": "code",
   "execution_count": 40,
   "metadata": {},
   "outputs": [
    {
     "name": "stdout",
     "output_type": "stream",
     "text": [
      "0.2459867000579834\n"
     ]
    }
   ],
   "source": [
    "import xmltodict\n",
    "a = time.time()\n",
    "response = requests.get(\"https://pl173.plemiona.pl/interface.php?func=get_config\")\n",
    "dict_data = xmltodict.parse(response.content)\n",
    "print(time.time()-a)\n"
   ]
  },
  {
   "cell_type": "code",
   "execution_count": 4,
   "metadata": {},
   "outputs": [],
   "source": [
    "a = {\n",
    "    '1': 2,\n",
    "    '2': 3,\n",
    "    '3': 4,\n",
    "    '4': {'0': 5}\n",
    "}\n",
    "\n",
    "b = {\n",
    "    '1': 2,\n",
    "    '2': 3,\n",
    "    '3': 4,\n",
    "    '4': {'0': 6}\n",
    "}\n",
    "\n",
    "if a == b:\n",
    "    print('yes')"
   ]
  },
  {
   "cell_type": "code",
   "execution_count": 22,
   "metadata": {},
   "outputs": [
    {
     "name": "stdout",
     "output_type": "stream",
     "text": [
      "0.6118423938751221\n"
     ]
    }
   ],
   "source": [
    "driver.set_page_load_timeout(10)\n",
    "ele = driver.find_element(By.ID, 'troop_confirm_submit')\n",
    "a = time.time()\n",
    "driver.set_page_load_timeout(0.2)\n",
    "try:\n",
    "    # ele.click()\n",
    "    driver.execute_async_script(\"arguments[0].click();\", ele)\n",
    "except:\n",
    "    pass\n",
    "# driver.execute_script(\"arguments[0].click();\", ele)\n",
    "\n",
    "print(time.time()-a)"
   ]
  },
  {
   "cell_type": "code",
   "execution_count": 87,
   "metadata": {},
   "outputs": [
    {
     "name": "stdout",
     "output_type": "stream",
     "text": [
      "504780\n",
      "[0, 1]\n"
     ]
    }
   ],
   "source": [
    "import random\n",
    "a = time.localtime()\n",
    "time.strftime('%d.%m.%Y %H:%M:%S1235', a)\n",
    "\n",
    "print(f'{round(random.random()*100000):0<6}')\n",
    "\n",
    "tab = [0, 1]\n",
    "a = tab.copy()\n",
    "a[0] = 5\n",
    "print(tab)"
   ]
  },
  {
   "cell_type": "code",
   "execution_count": 27,
   "metadata": {},
   "outputs": [
    {
     "name": "stdout",
     "output_type": "stream",
     "text": [
      "Message: no such element: Unable to locate element: {\"method\":\"xpath\",\"selector\":\"//*[@id=\"village_15219\"]/td[9]/a\"}\n",
      "  (Session info: chrome=97.0.4692.71)\n",
      "\n"
     ]
    }
   ],
   "source": [
    "try:\n",
    "    driver.find_element(By.XPATH, '//*[@id=\"village_15219\"]/td[9]/a').click()\n",
    "except BaseException as error:\n",
    "    error = str(error)\n",
    "    print(error[:error.find('Stacktrace')])"
   ]
  },
  {
   "cell_type": "code",
   "execution_count": 46,
   "metadata": {},
   "outputs": [
    {
     "name": "stdout",
     "output_type": "stream",
     "text": [
      "0.011010408401489258\n",
      "0.0010006427764892578\n"
     ]
    }
   ],
   "source": [
    "def click_without_wait():\n",
    "    try:\n",
    "        send_button.click()\n",
    "    except:\n",
    "        pass\n",
    "\n",
    "a = time.time()\n",
    "send_button = driver.find_element(By.ID, 'troop_confirm_submit')\n",
    "print(time.time()-a)\n",
    "a = time.time()\n",
    "threading.Thread(target=click_without_wait, name='main_function', daemon=True).start()\n",
    "print(time.time()-a)\n"
   ]
  },
  {
   "cell_type": "code",
   "execution_count": 61,
   "metadata": {},
   "outputs": [
    {
     "name": "stdout",
     "output_type": "stream",
     "text": [
      "0.388\n",
      "0.01\n"
     ]
    }
   ],
   "source": [
    "arrival_time = re.search(r'\\d{2}:\\d{2}:\\d{2}', '23.12.2021 23:18:14:388').group()\n",
    "temp = '23.12.2021 23:18:14:388'\n",
    "print(int(temp[-3:])/1000)\n",
    "ms = int('23.12.2021 23:18:14:010'[-3:])\n",
    "if ms < 10:\n",
    "    sec = 0\n",
    "else:\n",
    "    sec = ms / 1000 \n",
    "if sec:\n",
    "    time.sleep(sec)\n",
    "    print(sec)"
   ]
  },
  {
   "cell_type": "code",
   "execution_count": 11,
   "metadata": {},
   "outputs": [
    {
     "name": "stdout",
     "output_type": "stream",
     "text": [
      "[(1, ''), 2, 2]\n",
      "[(1, ''), 2]\n",
      "0\n",
      "[(1, ''), 2]\n"
     ]
    }
   ],
   "source": [
    "temp = [(1, ''), 2, 2]\n",
    "a, b = temp[0], temp[1]\n",
    "print(temp)\n",
    "del temp[1]\n",
    "print(temp)\n",
    "print(temp.index(a))\n",
    "print(temp)"
   ]
  },
  {
   "cell_type": "code",
   "execution_count": 43,
   "metadata": {},
   "outputs": [],
   "source": [
    "troops_off = {\n",
    "    'axe': 18,\n",
    "    'light': 10,\n",
    "    'marcher': 10,\n",
    "    'ram': 30,\n",
    "    'catapult': 30,\n",
    "}\n",
    "slowest_troop_speed = troops_off['catapult']\n",
    "for troop_name, troop_speed in troops_off.items():\n",
    "    if troop_speed > slowest_troop_speed:\n",
    "        del troops_off[troop_name]\n",
    "\n",
    "driver.find_element(By.ID, 'selectAllUnits').click()\n",
    "\n",
    "doc = html.fromstring(driver.find_element(By.XPATH, '//*[@id=\"command-data-form\"]/table/tbody/tr').get_attribute('innerHTML'))\n",
    "for col in doc:\n",
    "    col = col.xpath('table/tbody/tr/td')\n",
    "    for troop in col:\n",
    "        if troop.get('class') == 'nowrap unit-input-faded':\n",
    "            continue\n",
    "        troop_name = troop.xpath('a')[1].get('data-unit')\n",
    "        if troop_name not in troops_off:\n",
    "            troop_button_id = troop.xpath('a')[1].get('id')\n",
    "            driver.find_element(By.ID, troop_button_id).click()"
   ]
  },
  {
   "cell_type": "code",
   "execution_count": null,
   "metadata": {},
   "outputs": [],
   "source": [
    "\n",
    "doc = html.fromstring(driver.find_element(By.XPATH, '//*[@id=\"command-data-form\"]/table/tbody/tr').get_attribute('innerHTML'))\n",
    "for col in doc:\n",
    "    col = col.xpath('')\n",
    "available_troops = {}\n",
    "troops_off = {\n",
    "    'axe': 18,\n",
    "    'light': 10,\n",
    "    'marcher': 10,\n",
    "    'ram': 30,\n",
    "    'catapult': 30,\n",
    "}\n",
    "slowest_troop_speed = troops_off['catapult']\n",
    "driver.find_element(By.ID, 'selectAllUnits').click()\n",
    "for troop_name, troop_speed in troops_off.items():\n",
    "    if troop_speed > slowest_troop_speed:\n",
    "        continue\n",
    "    troop_input = driver.find_element(By.XPATH, f'//*[@id=\"unit_input_{troop_name}\"]')\n",
    "    troop_input.send\n",
    "\n"
   ]
  },
  {
   "cell_type": "code",
   "execution_count": 129,
   "metadata": {},
   "outputs": [
    {
     "name": "stdout",
     "output_type": "stream",
     "text": [
      "1.1667492389678955\n",
      "{'46': [{'village_url': 'https://pl173.plemiona.pl/game.php?village=15449&screen=market&mode=exchange', 'village_coords': '604|434'}, {'village_url': 'https://pl173.plemiona.pl/game.php?village=16451&screen=market&mode=exchange', 'village_coords': '606|433'}, {'village_url': 'https://pl173.plemiona.pl/game.php?village=11526&screen=market&mode=exchange', 'village_coords': '605|433'}, {'village_url': 'https://pl173.plemiona.pl/game.php?village=15163&screen=market&mode=exchange', 'village_coords': '603|438'}, {'village_url': 'https://pl173.plemiona.pl/game.php?village=15220&screen=market&mode=exchange', 'village_coords': '606|435'}, {'village_url': 'https://pl173.plemiona.pl/game.php?village=28854&screen=market&mode=exchange', 'village_coords': '602|433'}, {'village_url': 'https://pl173.plemiona.pl/game.php?village=16429&screen=market&mode=exchange', 'village_coords': '612|433'}, {'village_url': 'https://pl173.plemiona.pl/game.php?village=15219&screen=market&mode=exchange', 'village_coords': '605|432'}, {'village_url': 'https://pl173.plemiona.pl/game.php?village=11820&screen=market&mode=exchange', 'village_coords': '604|431'}, {'village_url': 'https://pl173.plemiona.pl/game.php?village=16382&screen=market&mode=exchange', 'village_coords': '609|439'}]}\n"
     ]
    }
   ],
   "source": [
    "# Premium exchange addon to speedup\n",
    "a = time.time()\n",
    "\n",
    "villages_number = int(driver.execute_script('return window.game_data.player.villages'))\n",
    "if villages_number > 3:\n",
    "    current_village_id = int(driver.execute_script('return window.game_data.village.id'))\n",
    "    url = driver.current_url\n",
    "    url = url[:url.rfind('/')]\n",
    "    player_profile_url = url + f'/game.php?village={current_village_id}&screen=info_player'\n",
    "    driver.get(player_profile_url)\n",
    "    doc = driver.find_element(By.XPATH, '//*[@id=\"villages_list\"]/tbody').get_attribute('innerHTML')\n",
    "    doc = html.fromstring(doc)\n",
    "    villages = {}\n",
    "    for row in doc:\n",
    "        village_id = row.xpath('td/table/tbody/tr/td/span')[0].get('data-id')\n",
    "        village_url = url + f'/game.php?village={village_id}&screen=market&mode=exchange'\n",
    "        village_coords = row.xpath('td')[1].text\n",
    "        x, y = village_coords.split('|')\n",
    "        continent = y[0] + x[0]\n",
    "        if continent not in villages:\n",
    "            villages[continent] = []\n",
    "        villages[continent].append({'village_url': village_url, 'village_coords': village_coords})\n",
    "\n",
    "print(time.time()-a)\n",
    "print(villages)\n",
    "\n",
    "for continent, village_list in villages.items():\n",
    "    for village in village_list:\n",
    "        village_url, village_coords = village\n",
    "        print(village_url, village_coords)\n",
    "        \n",
    "    "
   ]
  },
  {
   "cell_type": "code",
   "execution_count": 17,
   "metadata": {},
   "outputs": [
    {
     "name": "stdout",
     "output_type": "stream",
     "text": [
      "0.02101898193359375\n",
      "604|434\n",
      "0.0030031204223632812\n",
      "604|434\n"
     ]
    }
   ],
   "source": [
    "a = time.time()\n",
    "current_village = driver.find_element(By.XPATH, '//*[@id=\"menu_row2\"]/td/b').text\n",
    "coords = re.search(r'\\d{3}\\|\\d{3}', current_village).group()\n",
    "print(time.time()-a)\n",
    "print(coords)\n",
    "\n",
    "a = time.time()\n",
    "current_village = driver.execute_script('return window.game_data.village.coord')\n",
    "print(time.time()-a)\n",
    "print(current_village)"
   ]
  },
  {
   "cell_type": "code",
   "execution_count": 30,
   "metadata": {},
   "outputs": [
    {
     "name": "stdout",
     "output_type": "stream",
     "text": [
      "https://pl173.plemiona.pl/game.php?village=15449&screen=market&mode=exchange 604|434\n",
      "https://pl173.plemiona.pl/game.php?village=16451&screen=market&mode=exchange 606|433\n",
      "https://pl173.plemiona.pl/game.php?village=11526&screen=market&mode=exchange 605|433\n",
      "https://pl173.plemiona.pl/game.php?village=15163&screen=market&mode=exchange 603|438\n",
      "https://pl173.plemiona.pl/game.php?village=15220&screen=market&mode=exchange 606|435\n",
      "https://pl173.plemiona.pl/game.php?village=28854&screen=market&mode=exchange 602|433\n",
      "https://pl173.plemiona.pl/game.php?village=16429&screen=market&mode=exchange 612|433\n",
      "https://pl173.plemiona.pl/game.php?village=15219&screen=market&mode=exchange 605|432\n",
      "https://pl173.plemiona.pl/game.php?village=11820&screen=market&mode=exchange 604|431\n",
      "https://pl173.plemiona.pl/game.php?village=16382&screen=market&mode=exchange 609|439\n"
     ]
    }
   ],
   "source": [
    "\n",
    "villages_number = int(driver.execute_script('return window.game_data.player.villages'))\n",
    "if villages_number > 1:\n",
    "    current_village_id = int(driver.execute_script('return window.game_data.village.id'))\n",
    "    url = driver.current_url\n",
    "    url = url[:url.rfind('/')]\n",
    "    player_profile_url = url + f'/game.php?village={current_village_id}&screen=info_player'\n",
    "    html_response = driver.execute_script(f'''\n",
    "        var request = new XMLHttpRequest();\n",
    "        request.open(\"GET\", \"{player_profile_url}\", false);\n",
    "        request.send(null);   \n",
    "        return request.responseText;''')   # return request.responseText\n",
    "    doc = html.fromstring(html_response)\n",
    "    doc = doc.xpath('//table[@id=\"villages_list\"]/tbody/tr')\n",
    "    villages = {}\n",
    "    for row in doc:\n",
    "        village_id = row.xpath('td/table/tr/td/span')[0].get('data-id')\n",
    "        village_url = url + f'/game.php?village={village_id}&screen=market&mode=exchange'\n",
    "        village_coords = row.xpath('td')[-2].text\n",
    "        x, y = village_coords.split('|')\n",
    "        continent = y[0] + x[0]\n",
    "        if continent not in villages:\n",
    "            villages[continent] = []\n",
    "        villages[continent].append({'village_url': village_url, 'village_coords': village_coords})\n",
    "\n",
    "\n",
    "for continent, village_list in villages.items():\n",
    "    for village in village_list:\n",
    "        village_url, village_coords = village.values()\n",
    "        print(village_url, village_coords)"
   ]
  },
  {
   "cell_type": "code",
   "execution_count": 1,
   "metadata": {},
   "outputs": [
    {
     "name": "stdout",
     "output_type": "stream",
     "text": [
      "yes\n"
     ]
    }
   ],
   "source": [
    "lista = ['1', '2', '3']\n",
    "if '1' in lista:\n",
    "    print('yes')"
   ]
  },
  {
   "cell_type": "code",
   "execution_count": 6,
   "metadata": {},
   "outputs": [],
   "source": [
    "current_village_id = int(driver.execute_script('return window.game_data.village.id'))\n",
    "url = driver.current_url\n",
    "url = url[:url.rfind('/')]\n",
    "player_profile_url = url + f'/game.php?village={current_village_id}&screen=info_player'\n",
    "html_response = driver.execute_script(f'''\n",
    "    var request = new XMLHttpRequest();\n",
    "    request.open(\"GET\", \"{player_profile_url}\", false);\n",
    "    request.send(null);   \n",
    "    return request.responseText;''')   # return request.responseText\n",
    "doc = html.fromstring(html_response)\n",
    "doc = doc.xpath('//table[@id=\"villages_list\"]/tbody/tr')"
   ]
  },
  {
   "cell_type": "code",
   "execution_count": 29,
   "metadata": {},
   "outputs": [
    {
     "name": "stdout",
     "output_type": "stream",
     "text": [
      "b'<tr>\\n        <td>\\n            <!-- tables rool -->\\n            <table width=\"100%\">\\n                <tr>\\n                    <td style=\"padding:0;\">\\n                        <span class=\"village_anchor\" data-id=\"15449\" data-player=\"8689671\">\\n                        <a href=\"/game.php?village=15449&amp;screen=info_village&amp;id=15449\">klimekop6 001</a></span>\\n                    </td>\\n                    <td style=\"padding:0;\"><img src=\"https://dspl.innogamescdn.com/asset/6f4647d7/graphic/map/reserved_player.png\" id=\"reservation_15449\" style=\"display: none; float:right;\" title=\"\" alt=\"\" class=\"tooltip\"></td>\\n                </tr>\\n            </table>\\n        </td>\\n\\n        \\n        <td>604|434</td>\\n        <td>8<span class=\"grey\">.</span>339</td>\\n    </tr>\\n\\t'\n",
      "b'<span class=\"village_anchor\" data-id=\"15449\" data-player=\"8689671\">\\n                        <a href=\"/game.php?village=15449&amp;screen=info_village&amp;id=15449\">klimekop6 001</a></span>\\n                    '\n",
      "15449\n",
      "b'<span class=\"grey\">.</span>339'\n",
      "b'<td>\\n            <!-- tables rool -->\\n            <table width=\"100%\">\\n                <tr>\\n                    <td style=\"padding:0;\">\\n                        <span class=\"village_anchor\" data-id=\"15449\" data-player=\"8689671\">\\n                        <a href=\"/game.php?village=15449&amp;screen=info_village&amp;id=15449\">klimekop6 001</a></span>\\n                    </td>\\n                    <td style=\"padding:0;\"><img src=\"https://dspl.innogamescdn.com/asset/6f4647d7/graphic/map/reserved_player.png\" id=\"reservation_15449\" style=\"display: none; float:right;\" title=\"\" alt=\"\" class=\"tooltip\"></td>\\n                </tr>\\n            </table>\\n        </td>\\n\\n        \\n        '\n"
     ]
    }
   ],
   "source": [
    "print(html.tostring(doc[0]))\n",
    "print(html.tostring(doc[0].xpath('td/table/tr/td/span')[0]))\n",
    "print(doc[0].xpath('td/table/tr/td/span')[0].get('data-id'))\n",
    "doc1 = doc[0].xpath('//tr/td/table/tbody/tr/td/span')[0]\n",
    "print(html.tostring(doc1))\n",
    "doc2 = doc[0].xpath('td')[0]\n",
    "print(html.tostring(doc2))\n"
   ]
  },
  {
   "cell_type": "code",
   "execution_count": 27,
   "metadata": {},
   "outputs": [
    {
     "name": "stdout",
     "output_type": "stream",
     "text": [
      "/game.php?village=15449&screen=info_village&id=15449\n",
      "604|434\n",
      "/game.php?village=15449&screen=info_village&id=16451\n",
      "606|433\n",
      "/game.php?village=15449&screen=info_village&id=11526\n",
      "605|433\n",
      "/game.php?village=15449&screen=info_village&id=15163\n",
      "603|438\n",
      "/game.php?village=15449&screen=info_village&id=15220\n",
      "606|435\n",
      "/game.php?village=15449&screen=info_village&id=28854\n",
      "602|433\n",
      "/game.php?village=15449&screen=info_village&id=16429\n",
      "612|433\n",
      "/game.php?village=15449&screen=info_village&id=15219\n",
      "605|432\n",
      "/game.php?village=15449&screen=info_village&id=11820\n",
      "604|431\n",
      "/game.php?village=15449&screen=info_village&id=16382\n",
      "609|439\n",
      "<Element div at 0x2a54e621d00>\n"
     ]
    }
   ],
   "source": [
    "    doc = driver.find_element(By.XPATH, '//*[@id=\"villages_list\"]/tbody').get_attribute('innerHTML')\n",
    "    doc = html.fromstring(doc)\n",
    "    villages = []\n",
    "    for row in doc:\n",
    "        village_id = row.xpath('td/table/tbody/tr/td/span')[0].get('data-id')\n",
    "        village_url = url + f'/game.php?village={village_id}&screen=market&mode=exchange'\n",
    "        x, y = row.xpath('td')[1].text.split('|')\n",
    "        continent = y[0] + x[0]\n",
    "    print(doc)"
   ]
  },
  {
   "cell_type": "code",
   "execution_count": 8,
   "metadata": {},
   "outputs": [
    {
     "name": "stdout",
     "output_type": "stream",
     "text": [
      "True\n",
      "10\n",
      "3\n",
      "0.01101064682006836\n"
     ]
    }
   ],
   "source": [
    "a = time.time()\n",
    "print(driver.execute_script('return window.game_data.features.Premium.active'))\n",
    "\n",
    "print(driver.execute_script('return window.game_data.player.villages'))\n",
    "\n",
    "print(driver.execute_script('return Math.floor(window.game_data.village.points*1/100)'))\n",
    "\n",
    "\n",
    "print(time.time()-a)"
   ]
  },
  {
   "cell_type": "code",
   "execution_count": 17,
   "metadata": {},
   "outputs": [
    {
     "name": "stdout",
     "output_type": "stream",
     "text": [
      "True\n"
     ]
    }
   ],
   "source": [
    "\n",
    "print(driver.execute_script('return window.game_data.features.Premium.active'))\n"
   ]
  },
  {
   "cell_type": "code",
   "execution_count": 9,
   "metadata": {},
   "outputs": [
    {
     "name": "stdout",
     "output_type": "stream",
     "text": [
      "Others\n",
      "\n"
     ]
    }
   ],
   "source": [
    "try:\n",
    "    test = []\n",
    "    if not len(test):\n",
    "        raise\n",
    "    print(test[0])\n",
    "except IndexError as ie:\n",
    "    print('IndexError\\n', ie)\n",
    "except:\n",
    "    print('Others\\n')"
   ]
  },
  {
   "cell_type": "code",
   "execution_count": 6,
   "metadata": {},
   "outputs": [],
   "source": [
    "if 'intro' in driver.current_url:  # Jeśli na stronie startowej zaraz po zalogowaniu\n",
    "    url = driver.find_element_by_xpath('//*[@id=\"menu_row2_village\"]/a')\n",
    "    url = url.get_attribute('href')\n",
    "    url = url[:url.find('&screen=')+8] + 'market&mode=exchange'\n",
    "    driver.get(url)"
   ]
  },
  {
   "cell_type": "code",
   "execution_count": 40,
   "metadata": {},
   "outputs": [],
   "source": [
    "if any(word in 'ccde' for word in ('a', 'b')):\n",
    "    print('yes')"
   ]
  },
  {
   "cell_type": "code",
   "execution_count": 42,
   "metadata": {},
   "outputs": [
    {
     "name": "stderr",
     "output_type": "stream",
     "text": [
      "C:\\Users\\klime\\AppData\\Local\\Temp/ipykernel_6872/2584556225.py:3: DeprecationWarning: find_element_by_* commands are deprecated. Please use find_element() instead\n",
      "  url = driver.find_element_by_xpath('//*[@id=\"menu_row2_village\"]/a')\n"
     ]
    }
   ],
   "source": [
    "url = driver.current_url\n",
    "if 'intro' in url or 'php?screen' in url:  # Jeśli na stronie startowej zaraz po zalogowaniu\n",
    "    url = driver.find_element_by_xpath('//*[@id=\"menu_row2_village\"]/a')\n",
    "    url = url.get_attribute('href')\n",
    "    url = url[:url.find('&screen=')+8] + 'market&mode=exchange'\n",
    "    driver.get(url)"
   ]
  },
  {
   "cell_type": "code",
   "execution_count": 5,
   "metadata": {},
   "outputs": [
    {
     "name": "stderr",
     "output_type": "stream",
     "text": [
      "C:\\Users\\klime\\AppData\\Local\\Temp/ipykernel_8928/1288037276.py:9: DeprecationWarning: find_element_by_* commands are deprecated. Please use find_element() instead\n",
      "  driver.find_element_by_xpath('//*[@id=\"coin_mint_fill_max\"]').click()\n",
      "C:\\Users\\klime\\AppData\\Local\\Temp/ipykernel_8928/1288037276.py:10: DeprecationWarning: find_element_by_* commands are deprecated. Please use find_element() instead\n",
      "  driver.find_element_by_xpath('//*[@id=\"content_value\"]/table[2]/tbody/tr/td[2]/table[4]/tbody/tr[10]/td[2]/form/input[2]').click()\n"
     ]
    }
   ],
   "source": [
    "while True:\n",
    "    try:\n",
    "        driver.get('https://www.plemiona.pl/page/play/pl169')\n",
    "        driver.get('https://pl169.plemiona.pl/game.php?village=9107&screen=snob')        \n",
    "    except:\n",
    "        time.sleep(30)\n",
    "    else:\n",
    "        try:\n",
    "            driver.find_element_by_xpath('//*[@id=\"coin_mint_fill_max\"]').click()\n",
    "            driver.find_element_by_xpath('//*[@id=\"content_value\"]/table[2]/tbody/tr/td[2]/table[4]/tbody/tr[10]/td[2]/form/input[2]').click()\n",
    "        except:\n",
    "            pass\n",
    "        time.sleep(300)\n",
    "\n"
   ]
  },
  {
   "cell_type": "code",
   "execution_count": 44,
   "metadata": {},
   "outputs": [
    {
     "name": "stdout",
     "output_type": "stream",
     "text": [
      "0.0\n"
     ]
    }
   ],
   "source": [
    "sends_from = '338|480 341|481'\n",
    "sends_to = '341|481 338|480'\n",
    "a = time.time()\n",
    "print(time.time()-a)\n"
   ]
  },
  {
   "cell_type": "code",
   "execution_count": 52,
   "metadata": {},
   "outputs": [
    {
     "name": "stdout",
     "output_type": "stream",
     "text": [
      "416|351\n"
     ]
    }
   ],
   "source": [
    "coords = driver.find_element_by_xpath('//*[@id=\"menu_row2\"]/td/b').text\n",
    "coords = re.search(r'\\d{3}\\|\\d{3}', coords).group()\n",
    "print(coords)"
   ]
  },
  {
   "cell_type": "code",
   "execution_count": 46,
   "metadata": {},
   "outputs": [
    {
     "name": "stdout",
     "output_type": "stream",
     "text": [
      "[{'send_from_village_id': '29309\\n', 'send_to_village_id': '27408\\n', 'arrival_time': 500, 'send_time': -5192.099788303083}, {'send_from_village_id': '27408\\n', 'send_to_village_id': '29309\\n', 'arrival_time': 500, 'send_time': -5192.099788303083}]\n"
     ]
    }
   ],
   "source": [
    "def send_troops() -> None:\n",
    "    \"\"\"Send troops at given time.\n",
    "    It can be attack or help.\n",
    "    You can also use it for fakes.\n",
    "    \"\"\"\n",
    "\n",
    "    villages = get_villages_id(settings=settings)\n",
    "\n",
    "    send_info_list = []  # When, from where, attack or help, amount of troops etc.\n",
    "    for send_from, send_to in zip(sends_from.split(), sends_to.split()):        \n",
    "        send_info = {}\n",
    "        send_info['command'] = 'attack'  # Is it attack or help\n",
    "        send_info['send_from_village_id'] = villages[send_from]  # It returns village ID\n",
    "        send_info['send_to_village_id'] = villages[send_to]  # It returns village ID\n",
    "        send_info['arrival_time'] = 500        \n",
    "        distance = sqrt(\n",
    "            pow(int(send_from[:3])-int(send_to[:3]), 2) \n",
    "            + pow(int(send_from[4:])-int(send_to[4:]), 2)\n",
    "            )\n",
    "        army_speed = 30 * 60\n",
    "        send_info['send_time'] = send_info['arrival_time'] - (distance * army_speed)\n",
    "\n",
    "        send_info_list.append(send_info)\n",
    "\n",
    "    print(send_info_list)    \n",
    "\n",
    "send_troops()"
   ]
  },
  {
   "cell_type": "code",
   "execution_count": 34,
   "metadata": {},
   "outputs": [],
   "source": [
    "def get_villages_id(settings: dict[str], update: bool=False) -> dict:\n",
    "    \"\"\"Download, process and save in text file for future use.\n",
    "    In the end return all villages in the world with proper id.\n",
    "    \"\"\"    \n",
    "\n",
    "    def update_file() -> None:\n",
    "        \"\"\"Create or update file with villages and their id's\"\"\"\n",
    "\n",
    "        url = f'http://pl{settings[\"world_number\"]}.plemiona.pl/map/village.txt'\n",
    "        response = requests.get(url)\n",
    "        response = response.text\n",
    "        response = response.splitlines()    \n",
    "        villages = {}\n",
    "        for row in response:\n",
    "            id, _, x, y, _, _, _ = row.split(',')\n",
    "            villages[x+'|'+y] = id\n",
    "\n",
    "        try:\n",
    "            world_villages_file = open(f'villages{settings[\"world_number\"]}.txt', 'w')\n",
    "        except:\n",
    "            logging.error(f'There was a problem with villages{settings[\"world_number\"]}.txt')\n",
    "        else:\n",
    "            for village_coords, village_id in villages.items():\n",
    "                world_villages_file.write(f'{village_coords},{village_id}\\n')\n",
    "        finally:\n",
    "            world_villages_file.close()\n",
    "\n",
    "    if update:\n",
    "        update_file()\n",
    "\n",
    "    villages = {}\n",
    "    try:\n",
    "        world_villages_file = open(f'villages{settings[\"world_number\"]}.txt')\n",
    "    except FileNotFoundError:\n",
    "        update_file()\n",
    "        world_villages_file = open(f'villages{settings[\"world_number\"]}.txt')\n",
    "    else:\n",
    "        for row in world_villages_file:\n",
    "            village_coords, village_id = row.split(',')\n",
    "            villages[village_coords] = village_id\n",
    "    finally:\n",
    "        world_villages_file.close()\n",
    "\n",
    "    return villages\n",
    "\n",
    "villages = get_villages_id(settings=settings)"
   ]
  },
  {
   "cell_type": "code",
   "execution_count": 37,
   "metadata": {},
   "outputs": [],
   "source": [
    "from math import ceil\n",
    "\n",
    "def premium_exchange():\n",
    "    if 'intro' in driver.current_url:  # Jeśli na stronie startowej zaraz po zalogowaniu\n",
    "        url = driver.find_element_by_xpath('//*[@id=\"menu_row2_village\"]/a')\n",
    "        url = url.get_attribute('href')\n",
    "        url = url[:url.find('&screen=')+8] + 'market&mode=exchange'\n",
    "        driver.get(url)\n",
    "    else:\n",
    "        url = driver.current_url\n",
    "        url = url[:url.find('&screen=')+8] + 'market&mode=exchange'\n",
    "        driver.get(url)\n",
    "\n",
    "    starting_village = driver.find_element_by_xpath('//*[@id=\"menu_row2\"]/td/b').text\n",
    "\n",
    "    while True:\n",
    "        resources_doc = html.fromstring(driver.find_element_by_xpath('//*[@id=\"header_info\"]/tbody/tr/td[4]/table/tbody/tr[1]/td/table/tbody/tr').get_attribute('innerHTML'))\n",
    "        resources_name = ('wood', 'stone', 'iron')\n",
    "        resources_available = {}\n",
    "        for resource in resources_name:\n",
    "            resources_available[resource] = int(resources_doc.get_element_by_id(resource).text)\n",
    "\n",
    "        exchange_doc = html.fromstring(driver.find_element_by_xpath('//*[@id=\"premium_exchange_form\"]/table/tbody').get_attribute('innerHTML'))\n",
    "        exchange_resources = {resource_name: {'current_resource_rate': 0, 'max_exchange_resource_can_receive': 0} for resource_name in resources_name}\n",
    "        for resource in resources_name:\n",
    "            resource_capacity = exchange_doc.get_element_by_id(f'premium_exchange_capacity_{resource}').text\n",
    "            resource_stock = exchange_doc.get_element_by_id(f'premium_exchange_stock_{resource}').text\n",
    "            exchange_resources[resource]['max_exchange_resource_can_receive'] = int(resource_capacity) - int(resource_stock)\n",
    "            resource_rate = int(driver.find_element_by_xpath(f'//*[@id=\"premium_exchange_rate_{resource}\"]/div[1]').text)\n",
    "            exchange_resources[resource]['current_resource_rate'] = int(resource_rate)\n",
    "        if all(not exchange_resources[resource_name]['max_exchange_resource_can_receive'] for resource_name in exchange_resources):\n",
    "            return\n",
    "        SUM_EXCHANGE_RATE = sum(resource['current_resource_rate'] for resource in exchange_resources.values())    \n",
    "        \n",
    "        market_history_file = open('market_history.txt', 'a')\n",
    "        market_history_file.write(f'{time.strftime(\"%d.%m.%Y %H:%M:%S\", time.localtime())} ')\n",
    "        market_history_file.writelines(f'{resource_name} {value[\"current_resource_rate\"]} ' for resource_name, value in exchange_resources.items())            \n",
    "        market_history_file.write('\\n')\n",
    "        market_history_file.close()\n",
    "\n",
    "        STARTING_TRANSPORT_CAPACITY = int(driver.find_element_by_xpath('//*[@id=\"market_merchant_max_transport\"]').text)\n",
    "        transport_capacity = STARTING_TRANSPORT_CAPACITY\n",
    "        if not transport_capacity:\n",
    "            if driver.find_elements_by_xpath('//*[@id=\"village_switch_left\"]'):\n",
    "                driver.find_element_by_id('ds_body').send_keys('d')\n",
    "                if starting_village == driver.find_element_by_xpath('//*[@id=\"menu_row2\"]/td/b').text:\n",
    "                    return\n",
    "                continue\n",
    "            else:\n",
    "                return\n",
    "        \n",
    "        exchange_resources = dict(sorted(exchange_resources.items(), key=lambda item: item[1]['current_resource_rate']))\n",
    "\n",
    "        min_exchange_rate = min(resource['current_resource_rate'] for resource in exchange_resources.values())\n",
    "        max_exchange_rate = max(resource['current_resource_rate'] for resource in exchange_resources.values())\n",
    "        for resource_name in exchange_resources:\n",
    "            max_resource_to_sell = exchange_resources[resource_name]['max_exchange_resource_can_receive']\n",
    "            exchange_rate = exchange_resources[resource_name]['current_resource_rate']\n",
    "\n",
    "            if max_resource_to_sell and transport_capacity>=1000:\n",
    "                if max_resource_to_sell > resources_available[resource_name]:\n",
    "                    if transport_capacity > resources_available[resource_name]:\n",
    "                        resource_to_sell = resources_available[resource_name]\n",
    "                    else:\n",
    "                        resource_to_sell = transport_capacity\n",
    "                else:\n",
    "                    if transport_capacity > resources_available[resource_name]:\n",
    "                        resource_to_sell = max_resource_to_sell\n",
    "                    else:\n",
    "                        resource_to_sell = transport_capacity\n",
    "\n",
    "                current_exchange_rate = int(driver.find_element_by_xpath(f'//*[@id=\"premium_exchange_rate_{resource_name}\"]/div[1]').text)       \n",
    "                if current_exchange_rate > 700:  # Pomiń jeśli kurs jest powyżej\n",
    "                    continue\n",
    "\n",
    "                if exchange_rate == min_exchange_rate:\n",
    "                    if resource_to_sell > round(max_exchange_rate/SUM_EXCHANGE_RATE*STARTING_TRANSPORT_CAPACITY):\n",
    "                        resource_to_sell = round(max_exchange_rate/SUM_EXCHANGE_RATE*STARTING_TRANSPORT_CAPACITY)\n",
    "                elif exchange_rate == max_exchange_rate:\n",
    "                    if resource_to_sell > round(min_exchange_rate/SUM_EXCHANGE_RATE*STARTING_TRANSPORT_CAPACITY):                    \n",
    "                        resource_to_sell = round(min_exchange_rate/SUM_EXCHANGE_RATE*STARTING_TRANSPORT_CAPACITY)\n",
    "                else:\n",
    "                    if resource_to_sell > round(exchange_rate/SUM_EXCHANGE_RATE*STARTING_TRANSPORT_CAPACITY):\n",
    "                        resource_to_sell = round(exchange_rate/SUM_EXCHANGE_RATE*STARTING_TRANSPORT_CAPACITY)\n",
    "                resource_to_sell -= current_exchange_rate\n",
    "\n",
    "                input = driver.find_element_by_xpath(f'//*[@id=\"premium_exchange_sell_{resource_name}\"]/div[1]/input')\n",
    "                input.send_keys(f'{resource_to_sell}')\n",
    "                input.send_keys(Keys.ENTER)\n",
    "\n",
    "                resource_sold = WebDriverWait(driver, 5, 0.025).until(EC.element_to_be_clickable((By.XPATH, f'//*[@id=\"confirmation-msg\"]/div/table/tbody/tr[2]/td[2]')))\n",
    "                resource_sold = resource_sold.text\n",
    "                resource_sold = int(re.search(r'\\d+', resource_sold).group())\n",
    "\n",
    "                transport_capacity -= ceil((resource_sold/1000)*1000)\n",
    "\n",
    "                WebDriverWait(driver, 5, 0.025).until(EC.element_to_be_clickable((By.XPATH, f'//*[@id=\"premium_exchange\"]/div/div/div[2]/button[1]'))).click()\n",
    "                time.sleep(4)\n",
    "        \n",
    "        if driver.find_elements_by_xpath('//*[@id=\"village_switch_left\"]'):\n",
    "            driver.find_element_by_id('ds_body').send_keys('d')\n",
    "            if starting_village == driver.find_element_by_xpath('//*[@id=\"menu_row2\"]/td/b').text:\n",
    "                return\n",
    "        else:\n",
    "            return\n",
    "\n",
    "premium_exchange()\n",
    "\n"
   ]
  },
  {
   "cell_type": "code",
   "execution_count": 34,
   "metadata": {},
   "outputs": [
    {
     "name": "stdout",
     "output_type": "stream",
     "text": [
      "670\n"
     ]
    }
   ],
   "source": [
    "resource_to_sell = WebDriverWait(driver, 5, 0.025).until(EC.element_to_be_clickable((By.XPATH, f'//*[@id=\"confirmation-msg\"]/div/table/tbody/tr[2]/td[2]')))\n",
    "resource_to_sell = resource_to_sell.text\n",
    "resource_to_sell = re.search(r'\\d+', resource_to_sell).group()\n",
    "print(resource_to_sell)"
   ]
  },
  {
   "cell_type": "code",
   "execution_count": 50,
   "metadata": {},
   "outputs": [
    {
     "name": "stdout",
     "output_type": "stream",
     "text": [
      "0.010007619857788086\n",
      "0.009007453918457031\n"
     ]
    }
   ],
   "source": [
    "a = time.time()\n",
    "driver.page_source\n",
    "print(time.time()-a)\n",
    "\n",
    "a = time.time()\n",
    "driver.find_element_by_xpath('//*[@id=\"header_info\"]/tbody/tr/td[4]/table/tbody/tr[1]/td/table/tbody/tr')\n",
    "driver.find_element_by_xpath('//*[@id=\"premium_exchange_form\"]/table')\n",
    "print(time.time()-a)\n",
    "\n"
   ]
  },
  {
   "cell_type": "code",
   "execution_count": null,
   "metadata": {},
   "outputs": [],
   "source": [
    "doc = html.fromstring(driver.page_source)\n",
    "doc = doc.xpath('//div/div[3]/div/ul/li[4]/span[2]')\n",
    "\n",
    "for ele in doc:\n",
    "    print(ele.text)\n",
    "    WebDriverWait(driver, 2, 0.025).until(EC.element_to_be_clickable((By.XPATH, f'//*[@id=\"scavenge_screen\"]/div/div[2]/div[{2}]/div[3]/div/ul/li[4]/span[@class=\"return-countdown\"]')))\n",
    "    print('some text')"
   ]
  },
  {
   "cell_type": "code",
   "execution_count": 5,
   "metadata": {},
   "outputs": [
    {
     "name": "stderr",
     "output_type": "stream",
     "text": [
      "\n",
      "\n",
      "====== WebDriver manager ======\n",
      "Current google-chrome version is 97.0.4692\n",
      "Get LATEST chromedriver version for 97.0.4692 google-chrome\n",
      "Driver [C:\\Users\\klime\\.wdm\\drivers\\chromedriver\\win32\\97.0.4692.71\\chromedriver.exe] found in cache\n",
      "C:\\Users\\klime\\AppData\\Local\\Temp/ipykernel_12580/73735522.py:5: DeprecationWarning: find_element_by_* commands are deprecated. Please use find_element() instead\n",
      "  path = driver.find_element_by_xpath('//*[@id=\"profile_path\"]').text\n"
     ]
    }
   ],
   "source": [
    "# zapisz aktualną ścierzkę profilu przeglądarki -> chrome://version\n",
    "\n",
    "driver = webdriver.Chrome(service=Service(ChromeDriverManager(cache_valid_range=31).install()))\n",
    "driver.get('chrome://version')\n",
    "path = driver.find_element_by_xpath('//*[@id=\"profile_path\"]').text\n",
    "path = path[:path.find('Temp\\\\')] + 'Google\\\\Chrome\\\\User Data'\n",
    "settings['path'] = path\n",
    "\n",
    "with open('settings.json', 'w') as settings_json_file:\n",
    "    json.dump(settings, settings_json_file)"
   ]
  },
  {
   "cell_type": "code",
   "execution_count": 15,
   "metadata": {},
   "outputs": [
    {
     "name": "stdout",
     "output_type": "stream",
     "text": [
      "0.0009925365447998047\n"
     ]
    }
   ],
   "source": [
    "a = time.time()\n",
    "if not os.path.isdir('settings'):\n",
    "    os.mkdir('settings')\n",
    "print(time.time()-a)"
   ]
  },
  {
   "cell_type": "code",
   "execution_count": 3,
   "metadata": {},
   "outputs": [],
   "source": [
    "driver = webdriver.Chrome('chromedriver.exe')\n",
    "driver.get('chrome://version')\n",
    "path = driver.find_element_by_xpath('//*[@id=\"profile_path\"]').text\n",
    "driver.quit()\n",
    "path = path[:path.find('Temp\\\\')] + 'Google\\\\Chrome\\\\User Data'"
   ]
  },
  {
   "cell_type": "code",
   "execution_count": 10,
   "metadata": {},
   "outputs": [
    {
     "name": "stdout",
     "output_type": "stream",
     "text": [
      "1. dzisiaj o 22:28:21:532\n",
      "2. dzisiaj o 22:29:42:040\n",
      "3. dzisiaj o 22:29:46:429\n",
      "4. dzisiaj o 22:30:13:873\n",
      "5. dzisiaj o 22:30:20:788\n",
      "6. dzisiaj o 22:33:28:958\n",
      "7. dzisiaj o 22:33:47:730\n",
      "8. dzisiaj o 22:35:45:289\n",
      "9. dzisiaj o 22:36:42:783\n",
      "10. dzisiaj o 22:45:44:214\n",
      "11. dzisiaj o 22:46:06:208\n",
      "12. dzisiaj o 22:49:14:873\n",
      "13. dzisiaj o 22:50:03:402\n",
      "14. dzisiaj o 22:51:14:447\n",
      "15. dzisiaj o 22:53:53:553\n",
      "16. jutro o 08:00:13:744\n",
      "17. jutro o 08:01:29:185\n",
      "18. jutro o 08:03:24:051\n",
      "19. jutro o 08:03:33:506\n",
      "20. jutro o 08:03:47:559\n",
      "21. jutro o 08:03:50:765\n",
      "22. jutro o 08:04:42:889\n",
      "23. jutro o 08:07:43:724\n",
      "24. jutro o 08:07:51:578\n",
      "25. jutro o 08:10:20:500\n",
      "\n"
     ]
    }
   ],
   "source": [
    "number_of_attacks = driver.find_element_by_xpath('//*[@id=\"incomings_table\"]/tbody/tr[1]/th[1]').text\n",
    "number_of_attacks = re.search(r'\\d+', number_of_attacks).group()\n",
    "number_of_attacks\n",
    "\n",
    "reach_time_list = [reach_time.text for reach_time in driver.find_elements_by_xpath('//*[@id=\"incomings_table\"]/tbody/tr/td[6]')]\n",
    "print(''.join(f'{index+1}. {_}\\n' for index, _ in enumerate(reach_time_list)))\n",
    "\n",
    "# check_time = time.strftime(\"%H:%M:%S %d.%m.%Y\", time.localtime())\n",
    "# for label in driver.find_elements_by_xpath('//*[@id=\"incomings_table\"]/tbody/tr/td[1]/span/span/a[2]'):\n",
    "#     driver.execute_script('return arguments[0].scrollIntoView(true);', label)    \n",
    "#     label.click()\n",
    "\n",
    "# for label_input in driver.find_elements_by_xpath('//*[@id=\"incomings_table\"]/tbody/tr/td[1]/span/span[2]/input[1]'):\n",
    "#     label_input.clear()\n",
    "#     label_input.send_keys(f'szlachta notified {check_time}')\n",
    "#     label_input.send_keys(Keys.ENTER)\n"
   ]
  },
  {
   "cell_type": "code",
   "execution_count": 11,
   "metadata": {},
   "outputs": [],
   "source": [
    "doc = html.fromstring(driver.find_element_by_xpath('//*[@id=\"scavenge_screen\"]/div/div[2]').get_attribute('innerHTML'))\n",
    "doc = doc.xpath('//div/div[3]/div/ul/li[4]/span[2]')\n",
    "\n",
    "for ele in doc:\n",
    "    print(ele.text)\n",
    "    WebDriverWait(driver, 2, 0.025).until(EC.element_to_be_clickable((By.XPATH, f'//*[@id=\"scavenge_screen\"]/div/div[2]/div[{2}]/div[3]/div/ul/li[4]/span[@class=\"return-countdown\"]')))\n",
    "    print('some text')\n"
   ]
  },
  {
   "cell_type": "code",
   "execution_count": 17,
   "metadata": {},
   "outputs": [],
   "source": [
    "def load_settings(file_path: str='settings.json') -> dict:\n",
    "    try:\n",
    "        f = open(file_path)\n",
    "        settings = json.load(f)\n",
    "    except FileNotFoundError:\n",
    "        f = open('settings.json', 'w')\n",
    "        settings = {'first_lunch': True}\n",
    "        settings[\"gathering_troops\"] = {\"spear\": {\"use\": False, \"left_in_village\": 0},\n",
    "                                        \"sword\": {\"use\": False, \"left_in_village\": 0}, \n",
    "                                        \"axe\": {\"use\": False, \"left_in_village\": 0}, \n",
    "                                        \"archer\": {\"use\": False, \"left_in_village\": 0}, \n",
    "                                        \"light\": {\"use\": False, \"left_in_village\": 0}, \n",
    "                                        \"marcher\": {\"use\": False, \"left_in_village\": 0}, \n",
    "                                        \"heavy\": {\"use\": False, \"left_in_village\": 0}, \n",
    "                                        \"knight\": {\"use\": False, \"left_in_village\": 0}}\n",
    "        json.dump(settings, f)\n",
    "    finally:\n",
    "        f.close()            \n",
    "        return settings"
   ]
  },
  {
   "cell_type": "code",
   "execution_count": 21,
   "metadata": {},
   "outputs": [
    {
     "name": "stdout",
     "output_type": "stream",
     "text": [
      "169\n",
      "171\n",
      "{'logged': True, 'first_lunch': False, 'last_opened_daily_bonus': '26.10.2021', 'A': {'active': '0', 'wall_ignore': '0', 'min_wall': '0', 'max_wall': '0', 'max_attacks': '1', 'attacks_number': '0'}, 'B': {'active': '0', 'wall_ignore': '0', 'min_wall': '1', 'max_wall': '1', 'max_attacks': '1', 'attacks_number': '0'}, 'C': {'active': '0', 'wall_ignore': '0', 'min_wall': '0', 'max_wall': '0', 'max_attacks': '0', 'attacks_number': '0'}, 'world': '171', 'auto_farm': '0', 'path': 'C:\\\\Users\\\\klime\\\\AppData\\\\Local\\\\Google\\\\Chrome\\\\User Data', 'user_name': '123', 'user_password': 'u56708', 'group': None, 'groups': ['Pełny atak', 'Nadchodzący atak', 'Ma szlachcica', 'wszystkie', 'MONETY'], 'farm_group': 'MONETY', 'farm_sleep_time': '15', 'gathering': {'active': '1', 'stop_if_incoming_attacks': '1'}, 'gathering_troops': {'spear': {'use': '1', 'left_in_village': '0'}, 'sword': {'use': '1', 'left_in_village': '0'}, 'axe': {'use': '1', 'left_in_village': '0'}, 'archer': {'use': '1', 'left_in_village': '0'}, 'light': {'use': '1', 'left_in_village': '300'}, 'marcher': {'use': '1', 'left_in_village': '0'}, 'heavy': {'use': '1', 'left_in_village': '0'}, 'knight': {'use': '0', 'left_in_village': '0'}}, 'gathering_group': 'wszystkie', 'gathering_max_resources': '20000'}\n"
     ]
    }
   ],
   "source": [
    "settings_by_worlds = {}\n",
    "for settings_file_name in os.listdir('settings'):\n",
    "    world_number = settings_file_name[:settings_file_name.find('.')]\n",
    "    settings_by_worlds[world_number] = load_settings(f'settings//{settings_file_name}')\n",
    "\n",
    "for settings_by_world in settings_by_worlds:\n",
    "    print(settings_by_world)"
   ]
  },
  {
   "cell_type": "code",
   "execution_count": 3,
   "metadata": {},
   "outputs": [],
   "source": [
    "if settings['last_opened_daily_bonus'] != time.strftime(\"%d.%m.%Y\", time.localtime()):\n",
    "    print('yes')"
   ]
  },
  {
   "cell_type": "code",
   "execution_count": null,
   "metadata": {},
   "outputs": [],
   "source": [
    "def fill_entry_from_settings(entries: dict) -> None:\n",
    "\n",
    "    for key in entries:\n",
    "        if key in settings:\n",
    "            if settings[key]:\n",
    "                if isinstance(settings[key], dict):\n",
    "                    for key_ in settings[key]:\n",
    "                        if settings[key][key_]:\n",
    "                            if isinstance(settings[key][key_], dict):\n",
    "                                for _key_ in settings[key][key_]:\n",
    "                                    if settings[key][key_][_key_]:\n",
    "                                        if isinstance(settings[key][key_][_key_], dict):\n",
    "                                            for __key__ in settings[key][key_][_key_]:\n",
    "                                                if settings[key][key_][_key_][__key__]:\n",
    "                                                    entries[key][key_][_key_][__key__].set(settings[key][key_][_key_][__key__])\n",
    "                                                else:\n",
    "                                                    entries[key][key_][_key_][__key__].set(0)\n",
    "                                        else:\n",
    "                                            entries[key][key_][_key_].set(settings[key][key_][_key_])\n",
    "                                    else:\n",
    "                                        entries[key][key_][_key_].set(0)\n",
    "                            else:                                    \n",
    "                                entries[key][key_].set(settings[key][key_])\n",
    "                        else:\n",
    "                            entries[key][key_].set(0)\n",
    "                else:\n",
    "                    entries[key].set(settings[key])\n",
    "            else:\n",
    "                entries[key].set(0)"
   ]
  },
  {
   "cell_type": "code",
   "execution_count": 83,
   "metadata": {},
   "outputs": [
    {
     "name": "stdout",
     "output_type": "stream",
     "text": [
      "{'A': {'spy': 1, 'light': 4}, 'B': {'spy': 1}}\n",
      "{'spy', 'light'}\n",
      "{'spy': 0, 'light': 0}\n"
     ]
    }
   ],
   "source": [
    "# a = time.time()\n",
    "\n",
    "doc = html.fromstring(driver.find_element_by_id('content_value').get_attribute('innerHTML'))\n",
    "template_troops = {\n",
    "    'A': doc.xpath('div[2]/div/form/table/tbody/tr[2]/td/input'),\n",
    "    'B': doc.xpath('div[2]/div/form/table/tbody/tr[4]/td/input')\n",
    "    }\n",
    "\n",
    "for key in template_troops:\n",
    "    tmp = {}\n",
    "    for row in template_troops[key]:  \n",
    "        troop_number = int(row.get('value'))\n",
    "        if troop_number:                        \n",
    "            troop_name = row.get('name')\n",
    "            troop_name = re.search(r'[a-z]+', troop_name).group()\n",
    "            tmp[troop_name] = troop_number\n",
    "    template_troops[key] = tmp\n",
    "\n",
    "print(template_troops)\n",
    "\n",
    "troops_name = set(_key for key in template_troops for _key in template_troops[key].keys())\n",
    "print(troops_name)\n",
    "\n",
    "doc = doc.xpath('//*[@id=\"units_home\"]/tbody/tr[2]')[0]\n",
    "available_troops = {troop_name: int(doc.xpath(f'td[@id=\"{troop_name}\"]')[0].text) for troop_name in troops_name}\n",
    "print(available_troops)\n",
    "# for troop_name in troops_name:\n",
    "#     available_troops = doc.xpath(f'td[@id={troop_name}]')\n",
    "#     print(available_troops)\n",
    "\n",
    "# print(time.time()-a)\n",
    "\n",
    "# for row in doc.xpath('div[2]/div/form/table/tbody/tr[2]/td')[:-1]:\n",
    "#     print(re.search(r'[a-z]+', row.xpath('input')[0].get('name')).group())"
   ]
  },
  {
   "cell_type": "code",
   "execution_count": 49,
   "metadata": {},
   "outputs": [
    {
     "name": "stdout",
     "output_type": "stream",
     "text": [
      "{'A': {'spy': 1}, 'B': {'spy': 1, 'light': 4}}\n",
      "0.021023273468017578\n"
     ]
    }
   ],
   "source": [
    "a = time.time()\n",
    "template_troops = driver.find_element_by_id('content_value').get_attribute('innerHTML')\n",
    "doc = html.fromstring(template_troops)\n",
    "available_troops = template_troops[template_troops.find('id=\"units_home\"'):].split('<tr>')[2:]\n",
    "template_troops = {\n",
    "    'A': doc.xpath('div[2]/div/form/table/tbody/tr[2]/td/input'),\n",
    "    'B': doc.xpath('div[2]/div/form/table/tbody/tr[4]/td/input')\n",
    "    }\n",
    "\n",
    "for key in template_troops:\n",
    "    tmp = {}\n",
    "    for row in template_troops[key]:  \n",
    "        troop_number = int(row.get('value'))\n",
    "        if troop_number:                        \n",
    "            troop_name = row.get('name')\n",
    "            troop_name = re.search(r'[a-z]+', troop_name).group()\n",
    "            tmp[troop_name] = troop_number\n",
    "    template_troops[key] = tmp\n",
    "\n",
    "print(template_troops)\n",
    "print(time.time()-a)"
   ]
  },
  {
   "cell_type": "code",
   "execution_count": 4,
   "metadata": {},
   "outputs": [],
   "source": [
    "def auto_farm(driver: webdriver, settings: dict[str]) -> None:\n",
    "    \"\"\" automatyczne wysyłanie wojsk w asystencie farmera \"\"\" \n",
    "\n",
    "    # przechodzi do asystenta farmera\n",
    "    WebDriverWait(driver, 10).until(EC.element_to_be_clickable((By.ID, 'manager_icon_farm'))).click()\n",
    "\n",
    "    # sprawdza czy znajduję się w prawidłowej grupie jeśli nie to przechodzi do prawidłowej\n",
    "    driver.find_element_by_id('open_groups').click()\n",
    "    current_group = WebDriverWait(driver, 10, 0.033).until(EC.presence_of_element_located((By.XPATH, '//*[@id=\"group_id\"]/option[@selected=\"selected\"]'))).text\n",
    "\n",
    "    if current_group != settings['farm_group']:\n",
    "        select = Select(driver.find_element_by_id('group_id'))\n",
    "        select.select_by_visible_text(settings['farm_group'])\n",
    "        WebDriverWait(driver, 10, 0.033).until(EC.element_to_be_clickable((By.XPATH, '//*[@id=\"group_table\"]/tbody/tr[1]/td[1]/a'))).click()\n",
    "    driver.find_element_by_id('close_groups').click()\n",
    "    WebDriverWait(driver, 2, 0.033).until(EC.presence_of_element_located((By.XPATH, '//*[@id=\"close_groups\"][@style=\"display: none;\"]')))\n",
    "\n",
    "    # początkowa wioska - format '(439|430) K44'\n",
    "    starting_village = driver.find_element_by_xpath('//*[@id=\"menu_row2\"]/td/b').text\n",
    "\n",
    "    while True:\n",
    "        \n",
    "        # szablon A i B plus aktualnie dostępne jednostki w wiosce\n",
    "        template_troops = driver.find_element_by_id('content_value').get_attribute('innerHTML')\n",
    "        template_troops = template_troops[template_troops.find('<table class=\"vis\"'):template_troops.find('<script type=\"text/javascript\">')]\n",
    "        available_troops = template_troops[template_troops.find('id=\"units_home\"'):].split('<tr>')[2:]\n",
    "        template_troops = {'A': template_troops[:template_troops.find('</tbody>')],'B': template_troops[template_troops.find('farm_icon_b'):template_troops.find('id=\"farm_units\"')]}\n",
    "        template_troops['A'] = template_troops['A'].split('<tr>')[2:]\n",
    "        template_troops['B'] = template_troops['B'].split('<tr>')[1:]\n",
    "        template_troops['A'] = template_troops['A'][0].split('<td')[1:-1]\n",
    "        template_troops['B'] = template_troops['B'][0].split('<td')[1:-1]\n",
    "\n",
    "        for key in template_troops:\n",
    "            tmp = {}\n",
    "            for row in template_troops[key]:\n",
    "                value = int(row[row.find('value=\"')+7:row.rfind('\">')])\n",
    "                if value:\n",
    "                    tmp[row[row.find('name=\"')+6:row.find('size')-2]] = value\n",
    "            template_troops[key] = tmp\n",
    "\n",
    "        for row in available_troops:\n",
    "            available_troops = row.split('<td')[2:]\n",
    "        for index, row in enumerate(available_troops): \n",
    "            available_troops[index] = {'key': row[row.find('id=\"')+4:row.find('\">')], 'value': row[row.find('\">')+2:row.find('</td')]}\n",
    "\n",
    "        tmp = available_troops\n",
    "        available_troops = {}\n",
    "        for row in tmp:\n",
    "            available_troops[row['key']] = int(row['value'])\n",
    "\n",
    "        # pomija wioskę jeśli nie ma z niej nic do wysłania\n",
    "        skip = {'A': False, 'B': False}\n",
    "        for template in template_troops:\n",
    "            for troop_name, troop_number in template_troops[template].items():\n",
    "                if available_troops[troop_name] - troop_number < 0:\n",
    "                    skip[template] = True\n",
    "                    break\n",
    "\n",
    "        if skip['A'] and skip['B']:\n",
    "            ActionChains(driver).send_keys('d').perform()\n",
    "            if starting_village == driver.find_element_by_xpath('//*[@id=\"menu_row2\"]/td/b').text:\n",
    "                break\n",
    "            continue\n",
    "\n",
    "        # lista poziomów murów\n",
    "        walls_level = driver.find_element_by_id('plunder_list').get_attribute('innerHTML').split('<tr')[3:]\n",
    "        for index, row in enumerate(walls_level):\n",
    "            walls_level[index] = row.split('<td')[7:8]\n",
    "        for index, row in enumerate(walls_level):\n",
    "            for ele in row:\n",
    "                walls_level[index] = ele[ele.find('>')+1:ele.find('<')] \n",
    "        walls_level = [ele if ele=='?' else int(ele) for ele in walls_level]\n",
    "        \n",
    "        # lista przycisków do wysyłki szablonów A, B i C\n",
    "        villages_to_farm = {}\n",
    "            \n",
    "        if int(settings['A']['active']): \n",
    "            villages_to_farm['A'] = 9 # szablon A\n",
    "        if int(settings['B']['active']): \n",
    "            villages_to_farm['B'] = 10 # szablon B\n",
    "        if int(settings['C']['active']):     \n",
    "            villages_to_farm['C'] = 11 # szablon C\n",
    "\n",
    "        # wysyłka wojsk w asystencie farmera\n",
    "        start_time = 0\n",
    "        no_units = False        \n",
    "        for index, template in enumerate(villages_to_farm):\n",
    "            \n",
    "            if skip[template]:\n",
    "                continue\n",
    "\n",
    "            # ukrywa chat\n",
    "            chat = driver.find_element_by_xpath('//*[@id=\"chat-wrapper\"]')\n",
    "            driver.execute_script(\"arguments[0].innerHTML = '';\", chat)\n",
    "\n",
    "            villages_to_farm[template] = driver.find_elements_by_xpath(f'//*[@id=\"plunder_list\"]/tbody/tr/td[{villages_to_farm[template]}]/a')\n",
    "            captcha_solved = False\n",
    "            for village, wall_level in zip(villages_to_farm[template], walls_level): \n",
    "                if isinstance(wall_level, str):\n",
    "                    continue        \n",
    "                if (int(settings[template]['min_wall']) <= wall_level <= int(settings[template]['max_wall'])) or int(settings[template]['wall_ignore']):\n",
    "                    for unit, number in template_troops[template].items():\n",
    "                        if available_troops[unit] - number < 0:\n",
    "                            no_units = True\n",
    "                            break\n",
    "                        available_troops[unit] -= number\n",
    "                    if no_units:\n",
    "                        break\n",
    "                    html = driver.page_source\n",
    "                    if html.find('captcha') != -1 and not captcha_solved:\n",
    "                        driver.save_screenshot('before.png')\n",
    "                        time.sleep(30)\n",
    "                        driver.save_screenshot('after.png')\n",
    "                        captcha_solved = True\n",
    "                    while time.time() - start_time < 0.195:\n",
    "                        time.sleep(0.01)\n",
    "                    driver.execute_script('return arguments[0].scrollIntoView(true);', village)\n",
    "                    village.click()\n",
    "                start_time = time.time()\n",
    "            if index < len(villages_to_farm)-1:\n",
    "                no_units = False\n",
    "                driver.refresh()\n",
    "\n",
    "        # przełącz wioskę i sprawdź czy nie jest to wioska startowa\n",
    "        ActionChains(driver).send_keys('d').perform()\n",
    "        if starting_village == driver.find_element_by_xpath('//*[@id=\"menu_row2\"]/td/b').text:\n",
    "            break\n",
    "\n"
   ]
  },
  {
   "cell_type": "code",
   "execution_count": 47,
   "metadata": {},
   "outputs": [],
   "source": [
    "def gathering_resources(driver: webdriver, settings: dict[str], **kwargs) -> list:\n",
    "    \"\"\" wysyła wojska do zbierania surowców \"\"\"\n",
    "\n",
    "    if 'url_to_gathering' not in kwargs:\n",
    "        # tworzy listę docelowo zawierającą słowniki\n",
    "        list_of_dicts = []\n",
    "\n",
    "        # przejście do ekranu zbieractwa na placu\n",
    "        url_scavenego = driver.find_element_by_xpath('//*[@id=\"menu_row2_village\"]/a').get_attribute('href')\n",
    "        url_scavenego = url_scavenego.replace('overview', 'place&mode=scavenge')\n",
    "        driver.get(url_scavenego)\n",
    "\n",
    "        # tworzy listę dozwolonych jednostek do wysyłki podczas pierwszego użycia\n",
    "        if not 'gathering_troops' in settings:\n",
    "            doc = html.fromstring(driver.page_source)\n",
    "            troops_name = doc.xpath('//*[@id=\"scavenge_screen\"]/div/div[1]/table/tbody/tr[2]/td/input')\n",
    "            settings['gathering_troops'] = {}\n",
    "            for troop_name in troops_name:\n",
    "                settings['gathering_troops'][troop_name.get('name')] = {'use': True, 'left_in_village': 0}\n",
    "\n",
    "        # temp od usunięcia po dodatniu wszystkiego w bot_main.py i GUI\n",
    "        settings['gathering_troops']['light']['left_in_village'] = 300\n",
    "\n",
    "        # początkowa wioska\n",
    "        starting_village = driver.find_element_by_xpath('//*[@id=\"menu_row2\"]/td/b').text\n",
    "    else:\n",
    "        driver.get(kwargs['url_to_gathering'])\n",
    "\n",
    "    # core całej funkcji, kończy gdy przejdzie przez wszystkie wioski\n",
    "    while True:\n",
    "\n",
    "        # dostępne wojska\n",
    "        available_troops = {}\n",
    "        doc = html.fromstring(driver.page_source)\n",
    "        troops_name = [troop_name.get('name') for troop_name in doc.xpath('//*[@id=\"scavenge_screen\"]/div/div[1]/table/tbody/tr[2]/td/input')]\n",
    "        troops_number = [troop_number.text for troop_number in doc.xpath('//*[@id=\"scavenge_screen\"]/div/div[1]/table/tbody/tr[2]/td/a')][:-1]\n",
    "\n",
    "        # zapobiega wczytaniu pustego kodu źródłowego - gdy driver.page_source zwróci pusty lub nieaktulny kod HTML\n",
    "        if not troops_name:\n",
    "            for _ in range(10):\n",
    "                time.sleep(0.2)\n",
    "                doc = html.fromstring(driver.page_source)\n",
    "                troops_name = [troop_name.get('name') for troop_name in doc.xpath('//*[@id=\"scavenge_screen\"]/div/div[1]/table/tbody/tr[2]/td/input')]\n",
    "                troops_number = [troop_number.text for troop_number in doc.xpath('//*[@id=\"scavenge_screen\"]/div/div[1]/table/tbody/tr[2]/td/a')][:-1]\n",
    "                if troops_name:\n",
    "                    break\n",
    "\n",
    "        for troop_name, troop_number in zip(troops_name, troops_number):\n",
    "            if settings['gathering_troops'][troop_name]['use']:\n",
    "                available_troops[troop_name] = int(troop_number[1:-1]) - settings['gathering_troops'][troop_name]['left_in_village']\n",
    "\n",
    "        # odblokowane i dostępne poziomy zbieractwa\n",
    "        troops_to_send = {1: {'capacity': 1}, 2: {'capacity': 0.4}, 3: {'capacity': 0.2}, 4: {'capacity': 4/30}}\n",
    "        for number, row in enumerate(doc.xpath('//*[@id=\"scavenge_screen\"]/div/div[2]/div/div[3]/div')):\n",
    "            if row.get('class') != 'inactive-view':\n",
    "                del troops_to_send[number+1]\n",
    "\n",
    "        # ukrywa chat\n",
    "        chat = driver.find_element_by_xpath('//*[@id=\"chat-wrapper\"]')\n",
    "        driver.execute_script(\"arguments[0].innerHTML = '';\", chat)\n",
    "\n",
    "        # obliczenie i wysyłanie wojsk na zbieractwo\n",
    "        sum_capacity = sum(troops_to_send[key]['capacity'] for key in troops_to_send)\n",
    "        units_capacity = {'spear': 25, 'sword': 15, 'axe': 10, 'archer': 10, 'light': 80, 'marcher': 50, 'heavy': 50, 'knight': 100}\n",
    "        reduce_ratio = None\n",
    "        max_resources = settings['gathering_max_resources']\n",
    "        for key in troops_to_send:\n",
    "            for troop_name, troop_number in available_troops.items():\n",
    "                troops_to_send[key][troop_name] = int(troops_to_send[key]['capacity']/sum_capacity*troop_number)\n",
    "            if not reduce_ratio:\n",
    "                sum_troops_capacity = sum([troops_to_send[key][troop_name]*units_capacity[troop_name] if troops_to_send[key][troop_name] > 0 else 0 for troop_name in troops_name]) / 10\n",
    "                print(sum_troops_capacity)\n",
    "                if sum_troops_capacity > max_resources:\n",
    "                    reduce_ratio = max_resources / sum_troops_capacity\n",
    "                else:\n",
    "                    reduce_ratio = 1\n",
    "            for troop_name in troops_name:\n",
    "                if troops_to_send[key][troop_name] > 0:\n",
    "                    _input = WebDriverWait(driver, 3, 0.01).until(EC.element_to_be_clickable((By.XPATH, f'//*[@id=\"scavenge_screen\"]/div/div[1]/table/tbody/tr[2]/td/input[@name=\"{troop_name}\"]')))\n",
    "                    _input.click()\n",
    "                    try:\n",
    "                        _input.is_selected\n",
    "                    except:\n",
    "                        driver.execute_script('return arguments[0].scrollIntoView(true);', _input)\n",
    "                        _input.click()\n",
    "                    _input.clear()\n",
    "                    if reduce_ratio != 1:\n",
    "                        _input.send_keys(round(troops_to_send[key][troop_name]*reduce_ratio))\n",
    "                    else:\n",
    "                        _input.send_keys(troops_to_send[key][troop_name])\n",
    "            army_sum = 0\n",
    "            for troop_name in troops_name:\n",
    "                if troops_to_send[key][troop_name] > 0:\n",
    "                    match troop_name:\n",
    "                        case 'light':\n",
    "                            army_sum += troops_to_send[key]['light'] * 4 * reduce_ratio\n",
    "                        case 'marcher':\n",
    "                            army_sum += troops_to_send[key]['marcher'] * 5 * reduce_ratio                        \n",
    "                        case 'heavy':\n",
    "                            army_sum += troops_to_send[key]['heavy'] * 6 * reduce_ratio\n",
    "                        case _:\n",
    "                            army_sum += troops_to_send[key][troop_name] * reduce_ratio\n",
    "            if army_sum < 10:\n",
    "                break\n",
    "            start = WebDriverWait(driver, 3, 0.01).until(EC.element_to_be_clickable((By.XPATH, f'//*[@id=\"scavenge_screen\"]/div/div[2]/div[{key}]/div[3]/div/div[2]/a[1]')))\n",
    "            driver.execute_script('return arguments[0].scrollIntoView(true);', start)\n",
    "            start.click()\n",
    "            WebDriverWait(driver, 2, 0.025).until(EC.element_to_be_clickable((By.XPATH, f'//*[@id=\"scavenge_screen\"]/div/div[2]/div[{key}]/div[3]/div/ul/li[4]/span[@class=\"return-countdown\"]')))\n",
    "\n",
    "        # tymczasowo w celu zlokalizowania problemu\n",
    "        # if 'url_to_gathering' in kwargs:\n",
    "        # logging.error(f'available_troops {available_troops}\\ntroops_to_send {troops_to_send}')        \n",
    "        \n",
    "        if 'url_to_gathering' in kwargs:\n",
    "\n",
    "            # zwraca docelowy url i czas zakończenia zbieractwa w danej wiosce\n",
    "            doc = html.fromstring(driver.find_element_by_xpath('//*[@id=\"scavenge_screen\"]/div/div[2]').get_attribute('innerHTML'))\n",
    "            doc = doc.xpath('//div/div[3]/div/ul/li[4]/span[2]')\n",
    "            if not [ele.text for ele in doc] and troops_to_send:\n",
    "                for _ in range(10):\n",
    "                    time.sleep(0.2)\n",
    "                    doc = html.fromstring(driver.find_element_by_xpath('//*[@id=\"scavenge_screen\"]/div/div[2]').get_attribute('innerHTML'))\n",
    "                    doc = doc.xpath('//div/div[3]/div/ul/li[4]/span[2]')    \n",
    "                    if [ele.text for ele in doc]:\n",
    "                        break\n",
    "            journey_time = [int(_) for _ in max([ele.text for ele in doc]).split(':')]\n",
    "            journey_time = journey_time[0] * 3600 + journey_time[1] * 60 + journey_time[2]\n",
    "            return [{'url_to_gathering': driver.current_url, 'start_time': time.time()+journey_time, 'func': 'gathering'}]\n",
    "\n",
    "        # tworzy docelowy url i czas zakończenia zbieractwa w danej wiosce\n",
    "        doc = html.fromstring(driver.find_element_by_xpath('//*[@id=\"scavenge_screen\"]/div/div[2]').get_attribute('innerHTML'))\n",
    "        doc = doc.xpath('//div/div[3]/div/ul/li[4]/span[2]')\n",
    "        try:\n",
    "            journey_time = [int(_) for _ in max([ele.text for ele in doc]).split(':')]\n",
    "        except:\n",
    "            # pomija wioski z zablokowanym zbieractwem            \n",
    "            driver.find_element_by_id('ds_body').send_keys('d')\n",
    "            if starting_village == driver.find_element_by_xpath('//*[@id=\"menu_row2\"]/td/b').text:\n",
    "                return list_of_dicts\n",
    "            continue\n",
    "        journey_time = journey_time[0] * 3600 + journey_time[1] * 60 + journey_time[2]\n",
    "        list_of_dicts.append({'url_to_gathering': driver.current_url, 'start_time': time.time()+journey_time, 'func': 'gathering'})\n",
    "\n",
    "        # przełącz wioskę i sprawdź czy nie jest to wioska startowa jeśli tak zwróć listę słowników z czasem i linkiem do poszczególnych wiosek\n",
    "        driver.find_element_by_id('ds_body').send_keys('d')\n",
    "        if starting_village == driver.find_element_by_xpath('//*[@id=\"menu_row2\"]/td/b').text:\n",
    "            return list_of_dicts\n"
   ]
  },
  {
   "cell_type": "code",
   "execution_count": 25,
   "metadata": {},
   "outputs": [
    {
     "name": "stdout",
     "output_type": "stream",
     "text": [
      "0.016015052795410156\n"
     ]
    },
    {
     "data": {
      "text/plain": [
       "'0:19:46'"
      ]
     },
     "execution_count": 25,
     "metadata": {},
     "output_type": "execute_result"
    }
   ],
   "source": [
    "a = time.time()\n",
    "chat = driver.find_element_by_xpath('//*[@id=\"chat-wrapper\"]')\n",
    "driver.execute_script(\"arguments[0].innerHTML = '';\", chat)\n",
    "print(time.time()-a)\n",
    "\n",
    "driver.find_element_by_xpath('//*[@id=\"scavenge_screen\"]/div/div[2]/div[1]/div[3]/div/ul/li[4]/span[@class=\"return-countdown\"]').text"
   ]
  },
  {
   "cell_type": "code",
   "execution_count": 14,
   "metadata": {},
   "outputs": [
    {
     "name": "stdout",
     "output_type": "stream",
     "text": [
      "[['0:43:23', '1:04:59', '1:38:17', '2:09:52'], ['0:57:59', '1:38:17', '2:40:25', '3:39:22'], ['1:11:50', '2:09:52', '3:39:22', '5:04:17'], ['1:25:13', '2:40:25', '4:36:21', '6:26:22'], ['1:38:17', '3:10:11', '5:31:55', '7:46:24'], ['1:51:04', '3:39:22', '6:26:22', '9:04:50'], ['2:03:39', '4:08:04', '7:19:55', '10:21:58'], ['2:16:03', '4:36:21', '8:12:43', '11:38:01'], ['2:28:18', '5:04:17', '9:04:50', '12:53:06'], ['2:40:25', '5:31:55', '9:56:24', '14:07:21'], ['2:52:24', '5:59:16', '10:47:26', '15:20:53'], ['3:04:17', '6:26:22', '11:38:01', '16:33:44'], ['3:16:04', '6:53:15', '12:28:10', '17:45:58'], ['3:27:45', '7:19:55', '13:17:56', '18:57:40'], ['3:39:22', '7:46:24', '14:07:21', '20:08:51'], ['3:50:54', '8:12:43', '14:56:27', '21:19:33'], ['4:02:22', '8:38:51', '15:45:14', '22:29:49'], ['4:13:45', '9:04:50', '16:33:44', '23:39:40'], ['4:25:05', '9:30:41', '17:21:57', '24:49:09'], ['4:36:21', '9:56:24', '18:09:56', '25:58:15']]\n"
     ]
    }
   ],
   "source": [
    "_input = driver.find_element_by_xpath('//*[@id=\"scavenge_screen\"]/div/div[1]/table/tbody/tr[2]/td[1]/input')\n",
    "num = 100\n",
    "results = []\n",
    "for row in range(20):\n",
    "    _input.clear()\n",
    "    _input.send_keys(f'{num}')\n",
    "    num += 100\n",
    "    time.sleep(0.1)\n",
    "    results.append([ele.text for ele in driver.find_elements_by_xpath('//*[@id=\"scavenge_screen\"]/div/div[2]/div/div[3]/div/div[1]/ul/li[4]/span[2]')])\n",
    "    time.sleep(0.1)\n",
    "str_result = ''\n",
    "for row in results:\n",
    "    for _ in row:\n",
    "        temp = [int(i) for i in _.split(':')]\n",
    "        str_result += str(temp[0] * 3600 + temp[1] * 60 + temp[2]) + ','\n",
    "    str_result = str_result[:-1] \n",
    "    str_result += '\\n'\n",
    "f = open('testfile.txt', 'w')\n",
    "f.write(str_result)\n",
    "f.close()\n",
    "print(results)\n"
   ]
  },
  {
   "cell_type": "code",
   "execution_count": 10,
   "metadata": {},
   "outputs": [
    {
     "name": "stdout",
     "output_type": "stream",
     "text": [
      "[['0:43:23', '1:04:59', '1:38:17', '2:09:52'], ['0:57:59', '1:38:17', '2:40:25', '3:39:22'], ['1:11:50', '2:09:52', '3:39:22', '5:04:17'], ['1:25:13', '2:40:25', '4:36:21', '6:26:22'], ['1:38:17', '3:10:11', '5:31:55', '7:46:24'], ['1:51:04', '3:39:22', '6:26:22', '9:04:50'], ['2:03:39', '4:08:04', '7:19:55', '10:21:58'], ['2:16:03', '4:36:21', '8:12:43', '11:38:01'], ['2:28:18', '5:04:17', '9:04:50', '12:53:06'], ['2:40:25', '5:31:55', '9:56:24', '14:07:21'], ['2:52:24', '5:59:16', '10:47:26', '15:20:53'], ['3:04:17', '6:26:22', '11:38:01', '16:33:44'], ['3:16:04', '6:53:15', '12:28:10', '17:45:58'], ['3:27:45', '7:19:55', '13:17:56', '18:57:40'], ['3:39:22', '7:46:24', '14:07:21', '20:08:51'], ['3:50:54', '8:12:43', '14:56:27', '21:19:33'], ['4:02:22', '8:38:51', '15:45:14', '22:29:49'], ['4:13:45', '9:04:50', '16:33:44', '23:39:40'], ['4:25:05', '9:30:41', '17:21:57', '24:49:09'], ['4:36:21', '9:56:24', '18:09:56', '25:58:15']]\n"
     ]
    }
   ],
   "source": []
  },
  {
   "cell_type": "code",
   "execution_count": 41,
   "metadata": {},
   "outputs": [
    {
     "name": "stdout",
     "output_type": "stream",
     "text": [
      "0.008999109268188477\n",
      "0.008007049560546875\n",
      "0.0\n",
      "find\n"
     ]
    }
   ],
   "source": [
    "a = time.time()\n",
    "driver.page_source\n",
    "print(time.time()-a)\n",
    "\n",
    "a = time.time()\n",
    "driver.execute_script(\"return document.documentElement.outerHTML\")\n",
    "print(time.time()-a)\n",
    "\n",
    "a = time.time()\n",
    "time.strftime(\"%d.%m.%Y\", time.localtime())\n",
    "print(time.time()-a)\n",
    "\n",
    "doc = driver.find_element_by_id('popup_box_daily_bonus').get_attribute('innerHTML')\n",
    "if doc.find('icon header premium') != -1:\n",
    "    print('find')\n",
    "# driver.find_element_by_xpath('//*[@id=\"daily_bonus_content\"]/div/div/div/div/div[@class=\"db-chest unlocked\"]/../div[3]/a').click()\n",
    "\n"
   ]
  },
  {
   "cell_type": "code",
   "execution_count": 5,
   "metadata": {},
   "outputs": [],
   "source": [
    "chrome_options = Options()\n",
    "chrome_options.add_argument('--headless')\n",
    "chrome_options.add_argument('--disable-gpu')\n",
    "driver = webdriver.Chrome('chromedriver.exe', options=chrome_options)\n",
    "driver.get('chrome://version')\n",
    "path = driver.find_element_by_xpath('//*[@id=\"profile_path\"]').text\n",
    "driver.quit()\n",
    "path = path[:path.find('Temp\\\\')] + 'Google\\\\Chrome\\\\User Data'\n",
    "settings['path'] = path\n",
    "settings['first_lunch'] = False\n",
    "\n",
    "with open('settings.json', 'w') as settings_json_file:\n",
    "    json.dump(settings, settings_json_file)"
   ]
  },
  {
   "cell_type": "code",
   "execution_count": 49,
   "metadata": {},
   "outputs": [],
   "source": [
    "# zbieractwo na propsie hehe\n",
    "\n",
    "# przejście do ekranu zbieractwa na placu\n",
    "url_scavenego = driver.find_element_by_xpath('//*[@id=\"menu_row2_village\"]/a').get_attribute('href')\n",
    "url_scavenego = url_scavenego.replace('overview', 'place&mode=scavenge')\n",
    "driver.get(url_scavenego)\n",
    "\n",
    "# tworzy listę dozwolonych jednostek do wysyłki\n",
    "if not 'gathering_troops' in settings:\n",
    "    doc = lxml.html.fromstring(driver.page_source)\n",
    "    troops_name = doc.xpath('//*[@id=\"scavenge_screen\"]/div/div[1]/table/tbody/tr[2]/td/input')\n",
    "    settings['gathering_troops'] = {}\n",
    "    for troop_name in troops_name:\n",
    "        settings['gathering_troops'][troop_name.get('name')] = {'use': True, 'left_in_village': 0}\n",
    "\n",
    "settings['gathering_troops']['light']['left_in_village'] = 300\n",
    "\n",
    "# dostępne wojska\n",
    "available_troops = {}\n",
    "doc = lxml.html.fromstring(driver.page_source)\n",
    "troops_name = doc.xpath('//*[@id=\"scavenge_screen\"]/div/div[1]/table/tbody/tr[2]/td/input')\n",
    "troops_number = driver.find_element_by_xpath('//*[@id=\"scavenge_screen\"]/div/div[1]/table/tbody/tr[2]').text.splitlines()[:-1]\n",
    "\n",
    "for troop_name, troop_number in zip(troops_name, troops_number):\n",
    "    troop_name = troop_name.get('name')\n",
    "    if settings['gathering_troops'][troop_name]['use']:\n",
    "        available_troops[troop_name] = int(troop_number[1:-1]) - settings['gathering_troops'][troop_name]['left_in_village']\n",
    "\n",
    "# odblokowane i dostępne poziomy zbieractwa\n",
    "troops_to_send = {1: {'capacity': 1}, 2: {'capacity': 0.4}, 3: {'capacity': 0.2}, 4: {'capacity': 4/30}}\n",
    "for number, row in enumerate(doc.xpath('//*[@id=\"scavenge_screen\"]/div/div[2]/div/div[3]/div')):\n",
    "    if row.get('class') != 'inactive-view':\n",
    "        del troops_to_send[number+1]\n",
    "\n",
    "# obliczenie i wysyłanie wojsk na zbieractwo\n",
    "sum_capacity = sum(troops_to_send[key]['capacity'] for key in troops_to_send)\n",
    "for index, key in enumerate(troops_to_send):\n",
    "    for troop_name, troop_number in available_troops.items():\n",
    "        troops_to_send[key][troop_name] = int(troops_to_send[key]['capacity']/sum_capacity*troop_number)\n",
    "        if troops_to_send[key][troop_name] > 0:\n",
    "            _input = WebDriverWait(driver, 3, 0.01).until(EC.element_to_be_clickable((By.XPATH, f'//*[@id=\"scavenge_screen\"]/div/div[1]/table/tbody/tr[2]/td/input[@name=\"{troop_name}\"]')))\n",
    "            _input.click()\n",
    "            try:\n",
    "                _input.is_selected\n",
    "            except:\n",
    "                driver.execute_script('return arguments[0].scrollIntoView(true);', _input)\n",
    "                _input.click()\n",
    "            _input.clear()\n",
    "            _input.send_keys(troops_to_send[key][troop_name])\n",
    "    start = WebDriverWait(driver, 3, 0.01).until(EC.element_to_be_clickable((By.XPATH, f'//*[@id=\"scavenge_screen\"]/div/div[2]/div[{key}]/div[3]/div/div[2]/a[1]')))\n",
    "    driver.execute_script('return arguments[0].scrollIntoView(true);', start)\n",
    "    start.click()\n",
    "    time.sleep(0.2)\n",
    "\n",
    "# var units_capacity = [25,15,10,10,80,50,50];\n",
    "# var to_send = [0,0,0,0,0,0,0];"
   ]
  },
  {
   "cell_type": "code",
   "execution_count": 24,
   "metadata": {},
   "outputs": [
    {
     "name": "stdout",
     "output_type": "stream",
     "text": [
      "0.023021459579467773\n",
      "0.009007453918457031\n",
      "16694\n"
     ]
    }
   ],
   "source": [
    "a = time.time()\n",
    "max([ele.text for ele in driver.find_elements_by_xpath('//*[@id=\"scavenge_screen\"]/div/div[2]/div/div[3]/div/ul/li[4]/span[2]')])\n",
    "print(time.time()-a)\n",
    "\n",
    "a = time.time()\n",
    "doc = lxml.html.fromstring(driver.find_element_by_xpath('//*[@id=\"scavenge_screen\"]/div/div[2]').get_attribute('innerHTML'))\n",
    "doc = doc.xpath('//div/div[3]/div/ul/li[4]/span[2]')\n",
    "max([ele.text for ele in doc])\n",
    "print(time.time()-a)\n",
    "\n",
    "doc = lxml.html.fromstring(driver.find_element_by_xpath('//*[@id=\"scavenge_screen\"]/div/div[2]').get_attribute('innerHTML'))\n",
    "doc = doc.xpath('//div/div[3]/div/ul/li[4]/span[2]')\n",
    "journey_time = [int(_) for _ in max([ele.text for ele in doc]).split(':')]\n",
    "journey_time = journey_time[0] *3600 + journey_time[1] * 60 + journey_time[2]\n",
    "\n",
    "print(journey_time)"
   ]
  },
  {
   "cell_type": "code",
   "execution_count": 11,
   "metadata": {},
   "outputs": [
    {
     "ename": "ValueError",
     "evalue": "max() arg is an empty sequence",
     "output_type": "error",
     "traceback": [
      "\u001b[1;31m---------------------------------------------------------------------------\u001b[0m",
      "\u001b[1;31mValueError\u001b[0m                                Traceback (most recent call last)",
      "\u001b[1;32m~\\AppData\\Local\\Temp/ipykernel_12488/3849920609.py\u001b[0m in \u001b[0;36m<module>\u001b[1;34m\u001b[0m\n\u001b[0;32m      8\u001b[0m         \u001b[1;32mif\u001b[0m \u001b[1;33m[\u001b[0m\u001b[0mele\u001b[0m\u001b[1;33m.\u001b[0m\u001b[0mtext\u001b[0m \u001b[1;32mfor\u001b[0m \u001b[0mele\u001b[0m \u001b[1;32min\u001b[0m \u001b[0mdoc\u001b[0m\u001b[1;33m]\u001b[0m\u001b[1;33m:\u001b[0m\u001b[1;33m\u001b[0m\u001b[1;33m\u001b[0m\u001b[0m\n\u001b[0;32m      9\u001b[0m             \u001b[1;32mbreak\u001b[0m\u001b[1;33m\u001b[0m\u001b[1;33m\u001b[0m\u001b[0m\n\u001b[1;32m---> 10\u001b[1;33m \u001b[0mjourney_time\u001b[0m \u001b[1;33m=\u001b[0m \u001b[1;33m[\u001b[0m\u001b[0mint\u001b[0m\u001b[1;33m(\u001b[0m\u001b[0m_\u001b[0m\u001b[1;33m)\u001b[0m \u001b[1;32mfor\u001b[0m \u001b[0m_\u001b[0m \u001b[1;32min\u001b[0m \u001b[0mmax\u001b[0m\u001b[1;33m(\u001b[0m\u001b[1;33m[\u001b[0m\u001b[0mele\u001b[0m\u001b[1;33m.\u001b[0m\u001b[0mtext\u001b[0m \u001b[1;32mfor\u001b[0m \u001b[0mele\u001b[0m \u001b[1;32min\u001b[0m \u001b[0mdoc\u001b[0m\u001b[1;33m]\u001b[0m\u001b[1;33m)\u001b[0m\u001b[1;33m.\u001b[0m\u001b[0msplit\u001b[0m\u001b[1;33m(\u001b[0m\u001b[1;34m':'\u001b[0m\u001b[1;33m)\u001b[0m\u001b[1;33m]\u001b[0m\u001b[1;33m\u001b[0m\u001b[1;33m\u001b[0m\u001b[0m\n\u001b[0m\u001b[0;32m     11\u001b[0m \u001b[0mjourney_time\u001b[0m \u001b[1;33m=\u001b[0m \u001b[0mjourney_time\u001b[0m\u001b[1;33m[\u001b[0m\u001b[1;36m0\u001b[0m\u001b[1;33m]\u001b[0m \u001b[1;33m*\u001b[0m \u001b[1;36m3600\u001b[0m \u001b[1;33m+\u001b[0m \u001b[0mjourney_time\u001b[0m\u001b[1;33m[\u001b[0m\u001b[1;36m1\u001b[0m\u001b[1;33m]\u001b[0m \u001b[1;33m*\u001b[0m \u001b[1;36m60\u001b[0m \u001b[1;33m+\u001b[0m \u001b[0mjourney_time\u001b[0m\u001b[1;33m[\u001b[0m\u001b[1;36m2\u001b[0m\u001b[1;33m]\u001b[0m\u001b[1;33m\u001b[0m\u001b[1;33m\u001b[0m\u001b[0m\n\u001b[0;32m     12\u001b[0m \u001b[1;33m\u001b[0m\u001b[0m\n",
      "\u001b[1;31mValueError\u001b[0m: max() arg is an empty sequence"
     ]
    }
   ],
   "source": [
    "doc = lxml.html.fromstring(driver.find_element_by_xpath('//*[@id=\"scavenge_screen\"]/div/div[2]').get_attribute('innerHTML'))\n",
    "doc = doc.xpath('//div/div[3]/div/ul/li[4]/span[2]')\n",
    "if not [ele.text for ele in doc]:\n",
    "    for _ in range(10):\n",
    "        time.sleep(0.2)\n",
    "        doc = lxml.html.fromstring(driver.find_element_by_xpath('//*[@id=\"scavenge_screen\"]/div/div[2]').get_attribute('innerHTML'))\n",
    "        doc = doc.xpath('//div/div[3]/div/ul/li[4]/span[2]')    \n",
    "        if [ele.text for ele in doc]:\n",
    "            break\n",
    "journey_time = [int(_) for _ in max([ele.text for ele in doc]).split(':')]\n",
    "journey_time = journey_time[0] * 3600 + journey_time[1] * 60 + journey_time[2]\n",
    "\n",
    "\n",
    "print(max([ele.text for ele in doc]).split(':'))"
   ]
  },
  {
   "cell_type": "code",
   "execution_count": 38,
   "metadata": {},
   "outputs": [
    {
     "name": "stdout",
     "output_type": "stream",
     "text": [
      "[{'func': 'auto_farm1', 'start_time': 1634730230.5210304}, {'func': 'auto_farm5', 'start_time': 1634730232.0210304}, {'func': 'auto_farm4', 'start_time': 1634730233.5210304}, {'func': 'auto_farm3', 'start_time': 1634730234.5210304}, {'func': 'auto_farm2', 'start_time': 1634730235.5210304}]\n",
      "lorem ipsum\n"
     ]
    }
   ],
   "source": [
    "to_do = []\n",
    "        \n",
    "to_do.append({'func': 'auto_farm1', 'start_time': time.time()})\n",
    "to_do.append({'func': 'auto_farm2', 'start_time': time.time()+5})\n",
    "to_do.append({'func': 'auto_farm3', 'start_time': time.time()+4})\n",
    "to_do.append({'func': 'auto_farm4', 'start_time': time.time()+3})\n",
    "to_do.append({'func': 'auto_farm5', 'start_time': time.time()+1.5})\n",
    "to_do.sort(key=lambda sort_by: sort_by['start_time'])\n",
    "\n",
    "print(to_do)"
   ]
  },
  {
   "cell_type": "code",
   "execution_count": 61,
   "metadata": {},
   "outputs": [
    {
     "name": "stdout",
     "output_type": "stream",
     "text": [
      "0.03403115272521973\n",
      "['(0)', '(0)', '(158)', '(0)', '(139)', '(0)', '(0)', '(0)']\n",
      "0.0010013580322265625\n",
      "['(0)', '(0)', '(158)', '(0)', '(139)', '(0)', '(0)', '(0)']\n"
     ]
    }
   ],
   "source": [
    "doc = lxml.html.fromstring(driver.page_source)\n",
    "a = time.time()\n",
    "troops_number = driver.find_element_by_xpath('//*[@id=\"scavenge_screen\"]/div/div[1]/table/tbody/tr[2]').text.splitlines()[:-1]\n",
    "print(time.time()-a)\n",
    "print(troops_number)\n",
    "a = time.time()\n",
    "troops_number = [troop_number.text for troop_number in doc.xpath('//*[@id=\"scavenge_screen\"]/div/div[1]/table/tbody/tr[2]/td/a')][:-1]\n",
    "print(time.time()-a)\n",
    "print(troops_number)\n"
   ]
  },
  {
   "cell_type": "code",
   "execution_count": 32,
   "metadata": {},
   "outputs": [
    {
     "name": "stdout",
     "output_type": "stream",
     "text": [
      "0.041036367416381836\n"
     ]
    }
   ],
   "source": [
    "a = time.time()\n",
    "captcha_on_page = driver.page_source.find('captcha')\n",
    "if captcha_on_page != -1:\n",
    "    print('shit')\n",
    "print(time.time()-a)"
   ]
  },
  {
   "cell_type": "code",
   "execution_count": 6,
   "metadata": {},
   "outputs": [
    {
     "name": "stdout",
     "output_type": "stream",
     "text": [
      "{'first_lunch': True}\n"
     ]
    }
   ],
   "source": [
    "def load_settings() -> dict:\n",
    "    try:\n",
    "        f = open('settings2.json')\n",
    "        settings = json.load(f)\n",
    "    except FileNotFoundError:\n",
    "        f = open('settings2.json', 'w')\n",
    "        json.dump({'first_lunch': True}, f)\n",
    "        settings = {'first_lunch': True}\n",
    "    finally:\n",
    "        f.close()            \n",
    "        return settings\n",
    "\n",
    "settings2 = load_settings()\n",
    "\n",
    "if settings2['first_lunch']:\n",
    "    print(settings2)"
   ]
  },
  {
   "cell_type": "code",
   "execution_count": 32,
   "metadata": {},
   "outputs": [
    {
     "ename": "KeyboardInterrupt",
     "evalue": "",
     "output_type": "error",
     "traceback": [
      "\u001b[1;31m---------------------------------------------------------------------------\u001b[0m",
      "\u001b[1;31mKeyboardInterrupt\u001b[0m                         Traceback (most recent call last)",
      "\u001b[1;32m~\\AppData\\Local\\Temp/ipykernel_14624/785183856.py\u001b[0m in \u001b[0;36m<module>\u001b[1;34m\u001b[0m\n\u001b[0;32m     40\u001b[0m \u001b[1;33m\u001b[0m\u001b[0m\n\u001b[0;32m     41\u001b[0m \u001b[1;33m\u001b[0m\u001b[0m\n\u001b[1;32m---> 42\u001b[1;33m \u001b[1;32massert\u001b[0m \u001b[0mEXPECTED_RESULT\u001b[0m \u001b[1;32min\u001b[0m \u001b[0mprocess\u001b[0m\u001b[1;33m(\u001b[0m\u001b[1;33m)\u001b[0m\u001b[1;33m\u001b[0m\u001b[1;33m\u001b[0m\u001b[0m\n\u001b[0m",
      "\u001b[1;32m~\\AppData\\Local\\Temp/ipykernel_14624/785183856.py\u001b[0m in \u001b[0;36mprocess\u001b[1;34m()\u001b[0m\n\u001b[0;32m     34\u001b[0m \u001b[1;32mdef\u001b[0m \u001b[0mprocess\u001b[0m\u001b[1;33m(\u001b[0m\u001b[1;33m)\u001b[0m\u001b[1;33m:\u001b[0m\u001b[1;33m\u001b[0m\u001b[1;33m\u001b[0m\u001b[0m\n\u001b[0;32m     35\u001b[0m     \u001b[1;32mglobal\u001b[0m \u001b[0mtoken_test\u001b[0m\u001b[1;33m\u001b[0m\u001b[1;33m\u001b[0m\u001b[0m\n\u001b[1;32m---> 36\u001b[1;33m     \u001b[0mhtml\u001b[0m \u001b[1;33m=\u001b[0m \u001b[0mget_form_html\u001b[0m\u001b[1;33m(\u001b[0m\u001b[1;33m)\u001b[0m\u001b[1;33m\u001b[0m\u001b[1;33m\u001b[0m\u001b[0m\n\u001b[0m\u001b[0;32m     37\u001b[0m     \u001b[0mtoken\u001b[0m \u001b[1;33m=\u001b[0m \u001b[0mget_token\u001b[0m\u001b[1;33m(\u001b[0m\u001b[0mhtml\u001b[0m\u001b[1;33m)\u001b[0m\u001b[1;33m\u001b[0m\u001b[1;33m\u001b[0m\u001b[0m\n\u001b[0;32m     38\u001b[0m     \u001b[0mtoken_test\u001b[0m \u001b[1;33m=\u001b[0m \u001b[0mtoken\u001b[0m\u001b[1;33m\u001b[0m\u001b[1;33m\u001b[0m\u001b[0m\n",
      "\u001b[1;32m~\\AppData\\Local\\Temp/ipykernel_14624/785183856.py\u001b[0m in \u001b[0;36mget_form_html\u001b[1;34m()\u001b[0m\n\u001b[0;32m      9\u001b[0m \u001b[1;33m\u001b[0m\u001b[0m\n\u001b[0;32m     10\u001b[0m \u001b[1;32mdef\u001b[0m \u001b[0mget_form_html\u001b[0m\u001b[1;33m(\u001b[0m\u001b[1;33m)\u001b[0m\u001b[1;33m:\u001b[0m\u001b[1;33m\u001b[0m\u001b[1;33m\u001b[0m\u001b[0m\n\u001b[1;32m---> 11\u001b[1;33m     \u001b[1;32mreturn\u001b[0m \u001b[0mdriver\u001b[0m\u001b[1;33m.\u001b[0m\u001b[0mpage_source\u001b[0m\u001b[1;33m\u001b[0m\u001b[1;33m\u001b[0m\u001b[0m\n\u001b[0m\u001b[0;32m     12\u001b[0m \u001b[1;33m\u001b[0m\u001b[0m\n\u001b[0;32m     13\u001b[0m \u001b[1;33m\u001b[0m\u001b[0m\n",
      "\u001b[1;32mc:\\Users\\klime\\VS Code\\selenium_chrome\\.venv_tribal_wars\\lib\\site-packages\\selenium\\webdriver\\remote\\webdriver.py\u001b[0m in \u001b[0;36mpage_source\u001b[1;34m(self)\u001b[0m\n\u001b[0;32m    677\u001b[0m             \u001b[0mdriver\u001b[0m\u001b[1;33m.\u001b[0m\u001b[0mpage_source\u001b[0m\u001b[1;33m\u001b[0m\u001b[1;33m\u001b[0m\u001b[0m\n\u001b[0;32m    678\u001b[0m         \"\"\"\n\u001b[1;32m--> 679\u001b[1;33m         \u001b[1;32mreturn\u001b[0m \u001b[0mself\u001b[0m\u001b[1;33m.\u001b[0m\u001b[0mexecute\u001b[0m\u001b[1;33m(\u001b[0m\u001b[0mCommand\u001b[0m\u001b[1;33m.\u001b[0m\u001b[0mGET_PAGE_SOURCE\u001b[0m\u001b[1;33m)\u001b[0m\u001b[1;33m[\u001b[0m\u001b[1;34m'value'\u001b[0m\u001b[1;33m]\u001b[0m\u001b[1;33m\u001b[0m\u001b[1;33m\u001b[0m\u001b[0m\n\u001b[0m\u001b[0;32m    680\u001b[0m \u001b[1;33m\u001b[0m\u001b[0m\n\u001b[0;32m    681\u001b[0m     \u001b[1;32mdef\u001b[0m \u001b[0mclose\u001b[0m\u001b[1;33m(\u001b[0m\u001b[0mself\u001b[0m\u001b[1;33m)\u001b[0m\u001b[1;33m:\u001b[0m\u001b[1;33m\u001b[0m\u001b[1;33m\u001b[0m\u001b[0m\n",
      "\u001b[1;32mc:\\Users\\klime\\VS Code\\selenium_chrome\\.venv_tribal_wars\\lib\\site-packages\\selenium\\webdriver\\remote\\webdriver.py\u001b[0m in \u001b[0;36mexecute\u001b[1;34m(self, driver_command, params)\u001b[0m\n\u001b[0;32m    317\u001b[0m \u001b[1;33m\u001b[0m\u001b[0m\n\u001b[0;32m    318\u001b[0m         \u001b[0mparams\u001b[0m \u001b[1;33m=\u001b[0m \u001b[0mself\u001b[0m\u001b[1;33m.\u001b[0m\u001b[0m_wrap_value\u001b[0m\u001b[1;33m(\u001b[0m\u001b[0mparams\u001b[0m\u001b[1;33m)\u001b[0m\u001b[1;33m\u001b[0m\u001b[1;33m\u001b[0m\u001b[0m\n\u001b[1;32m--> 319\u001b[1;33m         \u001b[0mresponse\u001b[0m \u001b[1;33m=\u001b[0m \u001b[0mself\u001b[0m\u001b[1;33m.\u001b[0m\u001b[0mcommand_executor\u001b[0m\u001b[1;33m.\u001b[0m\u001b[0mexecute\u001b[0m\u001b[1;33m(\u001b[0m\u001b[0mdriver_command\u001b[0m\u001b[1;33m,\u001b[0m \u001b[0mparams\u001b[0m\u001b[1;33m)\u001b[0m\u001b[1;33m\u001b[0m\u001b[1;33m\u001b[0m\u001b[0m\n\u001b[0m\u001b[0;32m    320\u001b[0m         \u001b[1;32mif\u001b[0m \u001b[0mresponse\u001b[0m\u001b[1;33m:\u001b[0m\u001b[1;33m\u001b[0m\u001b[1;33m\u001b[0m\u001b[0m\n\u001b[0;32m    321\u001b[0m             \u001b[0mself\u001b[0m\u001b[1;33m.\u001b[0m\u001b[0merror_handler\u001b[0m\u001b[1;33m.\u001b[0m\u001b[0mcheck_response\u001b[0m\u001b[1;33m(\u001b[0m\u001b[0mresponse\u001b[0m\u001b[1;33m)\u001b[0m\u001b[1;33m\u001b[0m\u001b[1;33m\u001b[0m\u001b[0m\n",
      "\u001b[1;32mc:\\Users\\klime\\VS Code\\selenium_chrome\\.venv_tribal_wars\\lib\\site-packages\\selenium\\webdriver\\remote\\remote_connection.py\u001b[0m in \u001b[0;36mexecute\u001b[1;34m(self, command, params)\u001b[0m\n\u001b[0;32m    372\u001b[0m         \u001b[0mdata\u001b[0m \u001b[1;33m=\u001b[0m \u001b[0mutils\u001b[0m\u001b[1;33m.\u001b[0m\u001b[0mdump_json\u001b[0m\u001b[1;33m(\u001b[0m\u001b[0mparams\u001b[0m\u001b[1;33m)\u001b[0m\u001b[1;33m\u001b[0m\u001b[1;33m\u001b[0m\u001b[0m\n\u001b[0;32m    373\u001b[0m         \u001b[0murl\u001b[0m \u001b[1;33m=\u001b[0m \u001b[1;34m'%s%s'\u001b[0m \u001b[1;33m%\u001b[0m \u001b[1;33m(\u001b[0m\u001b[0mself\u001b[0m\u001b[1;33m.\u001b[0m\u001b[0m_url\u001b[0m\u001b[1;33m,\u001b[0m \u001b[0mpath\u001b[0m\u001b[1;33m)\u001b[0m\u001b[1;33m\u001b[0m\u001b[1;33m\u001b[0m\u001b[0m\n\u001b[1;32m--> 374\u001b[1;33m         \u001b[1;32mreturn\u001b[0m \u001b[0mself\u001b[0m\u001b[1;33m.\u001b[0m\u001b[0m_request\u001b[0m\u001b[1;33m(\u001b[0m\u001b[0mcommand_info\u001b[0m\u001b[1;33m[\u001b[0m\u001b[1;36m0\u001b[0m\u001b[1;33m]\u001b[0m\u001b[1;33m,\u001b[0m \u001b[0murl\u001b[0m\u001b[1;33m,\u001b[0m \u001b[0mbody\u001b[0m\u001b[1;33m=\u001b[0m\u001b[0mdata\u001b[0m\u001b[1;33m)\u001b[0m\u001b[1;33m\u001b[0m\u001b[1;33m\u001b[0m\u001b[0m\n\u001b[0m\u001b[0;32m    375\u001b[0m \u001b[1;33m\u001b[0m\u001b[0m\n\u001b[0;32m    376\u001b[0m     \u001b[1;32mdef\u001b[0m \u001b[0m_request\u001b[0m\u001b[1;33m(\u001b[0m\u001b[0mself\u001b[0m\u001b[1;33m,\u001b[0m \u001b[0mmethod\u001b[0m\u001b[1;33m,\u001b[0m \u001b[0murl\u001b[0m\u001b[1;33m,\u001b[0m \u001b[0mbody\u001b[0m\u001b[1;33m=\u001b[0m\u001b[1;32mNone\u001b[0m\u001b[1;33m)\u001b[0m\u001b[1;33m:\u001b[0m\u001b[1;33m\u001b[0m\u001b[1;33m\u001b[0m\u001b[0m\n",
      "\u001b[1;32mc:\\Users\\klime\\VS Code\\selenium_chrome\\.venv_tribal_wars\\lib\\site-packages\\selenium\\webdriver\\remote\\remote_connection.py\u001b[0m in \u001b[0;36m_request\u001b[1;34m(self, method, url, body)\u001b[0m\n\u001b[0;32m    395\u001b[0m \u001b[1;33m\u001b[0m\u001b[0m\n\u001b[0;32m    396\u001b[0m         \u001b[1;32mif\u001b[0m \u001b[0mself\u001b[0m\u001b[1;33m.\u001b[0m\u001b[0mkeep_alive\u001b[0m\u001b[1;33m:\u001b[0m\u001b[1;33m\u001b[0m\u001b[1;33m\u001b[0m\u001b[0m\n\u001b[1;32m--> 397\u001b[1;33m             \u001b[0mresp\u001b[0m \u001b[1;33m=\u001b[0m \u001b[0mself\u001b[0m\u001b[1;33m.\u001b[0m\u001b[0m_conn\u001b[0m\u001b[1;33m.\u001b[0m\u001b[0mrequest\u001b[0m\u001b[1;33m(\u001b[0m\u001b[0mmethod\u001b[0m\u001b[1;33m,\u001b[0m \u001b[0murl\u001b[0m\u001b[1;33m,\u001b[0m \u001b[0mbody\u001b[0m\u001b[1;33m=\u001b[0m\u001b[0mbody\u001b[0m\u001b[1;33m,\u001b[0m \u001b[0mheaders\u001b[0m\u001b[1;33m=\u001b[0m\u001b[0mheaders\u001b[0m\u001b[1;33m)\u001b[0m\u001b[1;33m\u001b[0m\u001b[1;33m\u001b[0m\u001b[0m\n\u001b[0m\u001b[0;32m    398\u001b[0m \u001b[1;33m\u001b[0m\u001b[0m\n\u001b[0;32m    399\u001b[0m             \u001b[0mstatuscode\u001b[0m \u001b[1;33m=\u001b[0m \u001b[0mresp\u001b[0m\u001b[1;33m.\u001b[0m\u001b[0mstatus\u001b[0m\u001b[1;33m\u001b[0m\u001b[1;33m\u001b[0m\u001b[0m\n",
      "\u001b[1;32mc:\\Users\\klime\\VS Code\\selenium_chrome\\.venv_tribal_wars\\lib\\site-packages\\urllib3\\request.py\u001b[0m in \u001b[0;36mrequest\u001b[1;34m(self, method, url, fields, headers, **urlopen_kw)\u001b[0m\n\u001b[0;32m     72\u001b[0m \u001b[1;33m\u001b[0m\u001b[0m\n\u001b[0;32m     73\u001b[0m         \u001b[1;32mif\u001b[0m \u001b[0mmethod\u001b[0m \u001b[1;32min\u001b[0m \u001b[0mself\u001b[0m\u001b[1;33m.\u001b[0m\u001b[0m_encode_url_methods\u001b[0m\u001b[1;33m:\u001b[0m\u001b[1;33m\u001b[0m\u001b[1;33m\u001b[0m\u001b[0m\n\u001b[1;32m---> 74\u001b[1;33m             return self.request_encode_url(\n\u001b[0m\u001b[0;32m     75\u001b[0m                 \u001b[0mmethod\u001b[0m\u001b[1;33m,\u001b[0m \u001b[0murl\u001b[0m\u001b[1;33m,\u001b[0m \u001b[0mfields\u001b[0m\u001b[1;33m=\u001b[0m\u001b[0mfields\u001b[0m\u001b[1;33m,\u001b[0m \u001b[0mheaders\u001b[0m\u001b[1;33m=\u001b[0m\u001b[0mheaders\u001b[0m\u001b[1;33m,\u001b[0m \u001b[1;33m**\u001b[0m\u001b[0murlopen_kw\u001b[0m\u001b[1;33m\u001b[0m\u001b[1;33m\u001b[0m\u001b[0m\n\u001b[0;32m     76\u001b[0m             )\n",
      "\u001b[1;32mc:\\Users\\klime\\VS Code\\selenium_chrome\\.venv_tribal_wars\\lib\\site-packages\\urllib3\\request.py\u001b[0m in \u001b[0;36mrequest_encode_url\u001b[1;34m(self, method, url, fields, headers, **urlopen_kw)\u001b[0m\n\u001b[0;32m     94\u001b[0m             \u001b[0murl\u001b[0m \u001b[1;33m+=\u001b[0m \u001b[1;34m\"?\"\u001b[0m \u001b[1;33m+\u001b[0m \u001b[0murlencode\u001b[0m\u001b[1;33m(\u001b[0m\u001b[0mfields\u001b[0m\u001b[1;33m)\u001b[0m\u001b[1;33m\u001b[0m\u001b[1;33m\u001b[0m\u001b[0m\n\u001b[0;32m     95\u001b[0m \u001b[1;33m\u001b[0m\u001b[0m\n\u001b[1;32m---> 96\u001b[1;33m         \u001b[1;32mreturn\u001b[0m \u001b[0mself\u001b[0m\u001b[1;33m.\u001b[0m\u001b[0murlopen\u001b[0m\u001b[1;33m(\u001b[0m\u001b[0mmethod\u001b[0m\u001b[1;33m,\u001b[0m \u001b[0murl\u001b[0m\u001b[1;33m,\u001b[0m \u001b[1;33m**\u001b[0m\u001b[0mextra_kw\u001b[0m\u001b[1;33m)\u001b[0m\u001b[1;33m\u001b[0m\u001b[1;33m\u001b[0m\u001b[0m\n\u001b[0m\u001b[0;32m     97\u001b[0m \u001b[1;33m\u001b[0m\u001b[0m\n\u001b[0;32m     98\u001b[0m     def request_encode_body(\n",
      "\u001b[1;32mc:\\Users\\klime\\VS Code\\selenium_chrome\\.venv_tribal_wars\\lib\\site-packages\\urllib3\\poolmanager.py\u001b[0m in \u001b[0;36murlopen\u001b[1;34m(self, method, url, redirect, **kw)\u001b[0m\n\u001b[0;32m    373\u001b[0m             \u001b[0mresponse\u001b[0m \u001b[1;33m=\u001b[0m \u001b[0mconn\u001b[0m\u001b[1;33m.\u001b[0m\u001b[0murlopen\u001b[0m\u001b[1;33m(\u001b[0m\u001b[0mmethod\u001b[0m\u001b[1;33m,\u001b[0m \u001b[0murl\u001b[0m\u001b[1;33m,\u001b[0m \u001b[1;33m**\u001b[0m\u001b[0mkw\u001b[0m\u001b[1;33m)\u001b[0m\u001b[1;33m\u001b[0m\u001b[1;33m\u001b[0m\u001b[0m\n\u001b[0;32m    374\u001b[0m         \u001b[1;32melse\u001b[0m\u001b[1;33m:\u001b[0m\u001b[1;33m\u001b[0m\u001b[1;33m\u001b[0m\u001b[0m\n\u001b[1;32m--> 375\u001b[1;33m             \u001b[0mresponse\u001b[0m \u001b[1;33m=\u001b[0m \u001b[0mconn\u001b[0m\u001b[1;33m.\u001b[0m\u001b[0murlopen\u001b[0m\u001b[1;33m(\u001b[0m\u001b[0mmethod\u001b[0m\u001b[1;33m,\u001b[0m \u001b[0mu\u001b[0m\u001b[1;33m.\u001b[0m\u001b[0mrequest_uri\u001b[0m\u001b[1;33m,\u001b[0m \u001b[1;33m**\u001b[0m\u001b[0mkw\u001b[0m\u001b[1;33m)\u001b[0m\u001b[1;33m\u001b[0m\u001b[1;33m\u001b[0m\u001b[0m\n\u001b[0m\u001b[0;32m    376\u001b[0m \u001b[1;33m\u001b[0m\u001b[0m\n\u001b[0;32m    377\u001b[0m         \u001b[0mredirect_location\u001b[0m \u001b[1;33m=\u001b[0m \u001b[0mredirect\u001b[0m \u001b[1;32mand\u001b[0m \u001b[0mresponse\u001b[0m\u001b[1;33m.\u001b[0m\u001b[0mget_redirect_location\u001b[0m\u001b[1;33m(\u001b[0m\u001b[1;33m)\u001b[0m\u001b[1;33m\u001b[0m\u001b[1;33m\u001b[0m\u001b[0m\n",
      "\u001b[1;32mc:\\Users\\klime\\VS Code\\selenium_chrome\\.venv_tribal_wars\\lib\\site-packages\\urllib3\\connectionpool.py\u001b[0m in \u001b[0;36murlopen\u001b[1;34m(self, method, url, body, headers, retries, redirect, assert_same_host, timeout, pool_timeout, release_conn, chunked, body_pos, **response_kw)\u001b[0m\n\u001b[0;32m    697\u001b[0m \u001b[1;33m\u001b[0m\u001b[0m\n\u001b[0;32m    698\u001b[0m             \u001b[1;31m# Make the request on the httplib connection object.\u001b[0m\u001b[1;33m\u001b[0m\u001b[1;33m\u001b[0m\u001b[0m\n\u001b[1;32m--> 699\u001b[1;33m             httplib_response = self._make_request(\n\u001b[0m\u001b[0;32m    700\u001b[0m                 \u001b[0mconn\u001b[0m\u001b[1;33m,\u001b[0m\u001b[1;33m\u001b[0m\u001b[1;33m\u001b[0m\u001b[0m\n\u001b[0;32m    701\u001b[0m                 \u001b[0mmethod\u001b[0m\u001b[1;33m,\u001b[0m\u001b[1;33m\u001b[0m\u001b[1;33m\u001b[0m\u001b[0m\n",
      "\u001b[1;32mc:\\Users\\klime\\VS Code\\selenium_chrome\\.venv_tribal_wars\\lib\\site-packages\\urllib3\\connectionpool.py\u001b[0m in \u001b[0;36m_make_request\u001b[1;34m(self, conn, method, url, timeout, chunked, **httplib_request_kw)\u001b[0m\n\u001b[0;32m    443\u001b[0m                     \u001b[1;31m# Python 3 (including for exceptions like SystemExit).\u001b[0m\u001b[1;33m\u001b[0m\u001b[1;33m\u001b[0m\u001b[0m\n\u001b[0;32m    444\u001b[0m                     \u001b[1;31m# Otherwise it looks like a bug in the code.\u001b[0m\u001b[1;33m\u001b[0m\u001b[1;33m\u001b[0m\u001b[0m\n\u001b[1;32m--> 445\u001b[1;33m                     \u001b[0msix\u001b[0m\u001b[1;33m.\u001b[0m\u001b[0mraise_from\u001b[0m\u001b[1;33m(\u001b[0m\u001b[0me\u001b[0m\u001b[1;33m,\u001b[0m \u001b[1;32mNone\u001b[0m\u001b[1;33m)\u001b[0m\u001b[1;33m\u001b[0m\u001b[1;33m\u001b[0m\u001b[0m\n\u001b[0m\u001b[0;32m    446\u001b[0m         \u001b[1;32mexcept\u001b[0m \u001b[1;33m(\u001b[0m\u001b[0mSocketTimeout\u001b[0m\u001b[1;33m,\u001b[0m \u001b[0mBaseSSLError\u001b[0m\u001b[1;33m,\u001b[0m \u001b[0mSocketError\u001b[0m\u001b[1;33m)\u001b[0m \u001b[1;32mas\u001b[0m \u001b[0me\u001b[0m\u001b[1;33m:\u001b[0m\u001b[1;33m\u001b[0m\u001b[1;33m\u001b[0m\u001b[0m\n\u001b[0;32m    447\u001b[0m             \u001b[0mself\u001b[0m\u001b[1;33m.\u001b[0m\u001b[0m_raise_timeout\u001b[0m\u001b[1;33m(\u001b[0m\u001b[0merr\u001b[0m\u001b[1;33m=\u001b[0m\u001b[0me\u001b[0m\u001b[1;33m,\u001b[0m \u001b[0murl\u001b[0m\u001b[1;33m=\u001b[0m\u001b[0murl\u001b[0m\u001b[1;33m,\u001b[0m \u001b[0mtimeout_value\u001b[0m\u001b[1;33m=\u001b[0m\u001b[0mread_timeout\u001b[0m\u001b[1;33m)\u001b[0m\u001b[1;33m\u001b[0m\u001b[1;33m\u001b[0m\u001b[0m\n",
      "\u001b[1;32mc:\\Users\\klime\\VS Code\\selenium_chrome\\.venv_tribal_wars\\lib\\site-packages\\urllib3\\packages\\six.py\u001b[0m in \u001b[0;36mraise_from\u001b[1;34m(value, from_value)\u001b[0m\n",
      "\u001b[1;32mc:\\Users\\klime\\VS Code\\selenium_chrome\\.venv_tribal_wars\\lib\\site-packages\\urllib3\\connectionpool.py\u001b[0m in \u001b[0;36m_make_request\u001b[1;34m(self, conn, method, url, timeout, chunked, **httplib_request_kw)\u001b[0m\n\u001b[0;32m    438\u001b[0m                 \u001b[1;31m# Python 3\u001b[0m\u001b[1;33m\u001b[0m\u001b[1;33m\u001b[0m\u001b[0m\n\u001b[0;32m    439\u001b[0m                 \u001b[1;32mtry\u001b[0m\u001b[1;33m:\u001b[0m\u001b[1;33m\u001b[0m\u001b[1;33m\u001b[0m\u001b[0m\n\u001b[1;32m--> 440\u001b[1;33m                     \u001b[0mhttplib_response\u001b[0m \u001b[1;33m=\u001b[0m \u001b[0mconn\u001b[0m\u001b[1;33m.\u001b[0m\u001b[0mgetresponse\u001b[0m\u001b[1;33m(\u001b[0m\u001b[1;33m)\u001b[0m\u001b[1;33m\u001b[0m\u001b[1;33m\u001b[0m\u001b[0m\n\u001b[0m\u001b[0;32m    441\u001b[0m                 \u001b[1;32mexcept\u001b[0m \u001b[0mBaseException\u001b[0m \u001b[1;32mas\u001b[0m \u001b[0me\u001b[0m\u001b[1;33m:\u001b[0m\u001b[1;33m\u001b[0m\u001b[1;33m\u001b[0m\u001b[0m\n\u001b[0;32m    442\u001b[0m                     \u001b[1;31m# Remove the TypeError from the exception chain in\u001b[0m\u001b[1;33m\u001b[0m\u001b[1;33m\u001b[0m\u001b[0m\n",
      "\u001b[1;32m~\\AppData\\Local\\Programs\\Python\\Python310\\lib\\http\\client.py\u001b[0m in \u001b[0;36mgetresponse\u001b[1;34m(self)\u001b[0m\n\u001b[0;32m   1366\u001b[0m         \u001b[1;32mtry\u001b[0m\u001b[1;33m:\u001b[0m\u001b[1;33m\u001b[0m\u001b[1;33m\u001b[0m\u001b[0m\n\u001b[0;32m   1367\u001b[0m             \u001b[1;32mtry\u001b[0m\u001b[1;33m:\u001b[0m\u001b[1;33m\u001b[0m\u001b[1;33m\u001b[0m\u001b[0m\n\u001b[1;32m-> 1368\u001b[1;33m                 \u001b[0mresponse\u001b[0m\u001b[1;33m.\u001b[0m\u001b[0mbegin\u001b[0m\u001b[1;33m(\u001b[0m\u001b[1;33m)\u001b[0m\u001b[1;33m\u001b[0m\u001b[1;33m\u001b[0m\u001b[0m\n\u001b[0m\u001b[0;32m   1369\u001b[0m             \u001b[1;32mexcept\u001b[0m \u001b[0mConnectionError\u001b[0m\u001b[1;33m:\u001b[0m\u001b[1;33m\u001b[0m\u001b[1;33m\u001b[0m\u001b[0m\n\u001b[0;32m   1370\u001b[0m                 \u001b[0mself\u001b[0m\u001b[1;33m.\u001b[0m\u001b[0mclose\u001b[0m\u001b[1;33m(\u001b[0m\u001b[1;33m)\u001b[0m\u001b[1;33m\u001b[0m\u001b[1;33m\u001b[0m\u001b[0m\n",
      "\u001b[1;32m~\\AppData\\Local\\Programs\\Python\\Python310\\lib\\http\\client.py\u001b[0m in \u001b[0;36mbegin\u001b[1;34m(self)\u001b[0m\n\u001b[0;32m    315\u001b[0m         \u001b[1;31m# read until we get a non-100 response\u001b[0m\u001b[1;33m\u001b[0m\u001b[1;33m\u001b[0m\u001b[0m\n\u001b[0;32m    316\u001b[0m         \u001b[1;32mwhile\u001b[0m \u001b[1;32mTrue\u001b[0m\u001b[1;33m:\u001b[0m\u001b[1;33m\u001b[0m\u001b[1;33m\u001b[0m\u001b[0m\n\u001b[1;32m--> 317\u001b[1;33m             \u001b[0mversion\u001b[0m\u001b[1;33m,\u001b[0m \u001b[0mstatus\u001b[0m\u001b[1;33m,\u001b[0m \u001b[0mreason\u001b[0m \u001b[1;33m=\u001b[0m \u001b[0mself\u001b[0m\u001b[1;33m.\u001b[0m\u001b[0m_read_status\u001b[0m\u001b[1;33m(\u001b[0m\u001b[1;33m)\u001b[0m\u001b[1;33m\u001b[0m\u001b[1;33m\u001b[0m\u001b[0m\n\u001b[0m\u001b[0;32m    318\u001b[0m             \u001b[1;32mif\u001b[0m \u001b[0mstatus\u001b[0m \u001b[1;33m!=\u001b[0m \u001b[0mCONTINUE\u001b[0m\u001b[1;33m:\u001b[0m\u001b[1;33m\u001b[0m\u001b[1;33m\u001b[0m\u001b[0m\n\u001b[0;32m    319\u001b[0m                 \u001b[1;32mbreak\u001b[0m\u001b[1;33m\u001b[0m\u001b[1;33m\u001b[0m\u001b[0m\n",
      "\u001b[1;32m~\\AppData\\Local\\Programs\\Python\\Python310\\lib\\http\\client.py\u001b[0m in \u001b[0;36m_read_status\u001b[1;34m(self)\u001b[0m\n\u001b[0;32m    276\u001b[0m \u001b[1;33m\u001b[0m\u001b[0m\n\u001b[0;32m    277\u001b[0m     \u001b[1;32mdef\u001b[0m \u001b[0m_read_status\u001b[0m\u001b[1;33m(\u001b[0m\u001b[0mself\u001b[0m\u001b[1;33m)\u001b[0m\u001b[1;33m:\u001b[0m\u001b[1;33m\u001b[0m\u001b[1;33m\u001b[0m\u001b[0m\n\u001b[1;32m--> 278\u001b[1;33m         \u001b[0mline\u001b[0m \u001b[1;33m=\u001b[0m \u001b[0mstr\u001b[0m\u001b[1;33m(\u001b[0m\u001b[0mself\u001b[0m\u001b[1;33m.\u001b[0m\u001b[0mfp\u001b[0m\u001b[1;33m.\u001b[0m\u001b[0mreadline\u001b[0m\u001b[1;33m(\u001b[0m\u001b[0m_MAXLINE\u001b[0m \u001b[1;33m+\u001b[0m \u001b[1;36m1\u001b[0m\u001b[1;33m)\u001b[0m\u001b[1;33m,\u001b[0m \u001b[1;34m\"iso-8859-1\"\u001b[0m\u001b[1;33m)\u001b[0m\u001b[1;33m\u001b[0m\u001b[1;33m\u001b[0m\u001b[0m\n\u001b[0m\u001b[0;32m    279\u001b[0m         \u001b[1;32mif\u001b[0m \u001b[0mlen\u001b[0m\u001b[1;33m(\u001b[0m\u001b[0mline\u001b[0m\u001b[1;33m)\u001b[0m \u001b[1;33m>\u001b[0m \u001b[0m_MAXLINE\u001b[0m\u001b[1;33m:\u001b[0m\u001b[1;33m\u001b[0m\u001b[1;33m\u001b[0m\u001b[0m\n\u001b[0;32m    280\u001b[0m             \u001b[1;32mraise\u001b[0m \u001b[0mLineTooLong\u001b[0m\u001b[1;33m(\u001b[0m\u001b[1;34m\"status line\"\u001b[0m\u001b[1;33m)\u001b[0m\u001b[1;33m\u001b[0m\u001b[1;33m\u001b[0m\u001b[0m\n",
      "\u001b[1;32m~\\AppData\\Local\\Programs\\Python\\Python310\\lib\\socket.py\u001b[0m in \u001b[0;36mreadinto\u001b[1;34m(self, b)\u001b[0m\n\u001b[0;32m    703\u001b[0m         \u001b[1;32mwhile\u001b[0m \u001b[1;32mTrue\u001b[0m\u001b[1;33m:\u001b[0m\u001b[1;33m\u001b[0m\u001b[1;33m\u001b[0m\u001b[0m\n\u001b[0;32m    704\u001b[0m             \u001b[1;32mtry\u001b[0m\u001b[1;33m:\u001b[0m\u001b[1;33m\u001b[0m\u001b[1;33m\u001b[0m\u001b[0m\n\u001b[1;32m--> 705\u001b[1;33m                 \u001b[1;32mreturn\u001b[0m \u001b[0mself\u001b[0m\u001b[1;33m.\u001b[0m\u001b[0m_sock\u001b[0m\u001b[1;33m.\u001b[0m\u001b[0mrecv_into\u001b[0m\u001b[1;33m(\u001b[0m\u001b[0mb\u001b[0m\u001b[1;33m)\u001b[0m\u001b[1;33m\u001b[0m\u001b[1;33m\u001b[0m\u001b[0m\n\u001b[0m\u001b[0;32m    706\u001b[0m             \u001b[1;32mexcept\u001b[0m \u001b[0mtimeout\u001b[0m\u001b[1;33m:\u001b[0m\u001b[1;33m\u001b[0m\u001b[1;33m\u001b[0m\u001b[0m\n\u001b[0;32m    707\u001b[0m                 \u001b[0mself\u001b[0m\u001b[1;33m.\u001b[0m\u001b[0m_timeout_occurred\u001b[0m \u001b[1;33m=\u001b[0m \u001b[1;32mTrue\u001b[0m\u001b[1;33m\u001b[0m\u001b[1;33m\u001b[0m\u001b[0m\n",
      "\u001b[1;31mKeyboardInterrupt\u001b[0m: "
     ]
    }
   ],
   "source": [
    "api_key = '***REMOVED***'\n",
    "site_key_pattern = 'data-sitekey=\"(.+?)\"'\n",
    "url = \"http://hcaptcha.jawne.info.pl/\"\n",
    "client = AnticaptchaClient(api_key)\n",
    "session = requests.Session()\n",
    "EXPECTED_RESULT = \"Your request have submitted successfully.\"\n",
    "\n",
    "token_test = None\n",
    "\n",
    "def get_form_html():\n",
    "    return driver.page_source\n",
    "\n",
    "\n",
    "def get_token(form_html):\n",
    "    site_key = re.search(site_key_pattern, form_html).group(1)\n",
    "    task = HCaptchaTaskProxyless(website_url=url, website_key=site_key)\n",
    "    job = client.createTask(task)\n",
    "    job.join()\n",
    "    return job.get_solution_response()\n",
    "\n",
    "\n",
    "def form_submit(token):\n",
    "    # elm = driver.find_element_by_xpath('/html/body/form/div').get_attribute('innerHTML')\n",
    "    # elm = elm[:elm.find('data-hcaptcha-response=\"')] + f'data-hcaptcha-response=\"{token}' + elm[elm.find('data-hcaptcha-response=\"')+24:]\n",
    "    # driver.execute_script(f\"arguments[0].innerHTML = '{elm}';\", driver.find_element_by_xpath('/html/body/form/div'))\n",
    "    # driver.find_element_by_id\n",
    "    driver.execute_script(\n",
    "    \"document.getElementById('h-recaptcha-response').innerHTML='{}';\".format(token))\n",
    "    driver.execute_script(\"onSuccess('{}')\".format(token))\n",
    "\n",
    "    return requests.post(url, data={\"g-recaptcha-response\": token}).text\n",
    "\n",
    "\n",
    "def process():\n",
    "    global token_test\n",
    "    html = get_form_html()\n",
    "    token = get_token(html)\n",
    "    token_test = token\n",
    "    return form_submit(token)\n",
    "\n",
    "\n",
    "assert EXPECTED_RESULT in process()"
   ]
  },
  {
   "cell_type": "code",
   "execution_count": 33,
   "metadata": {},
   "outputs": [
    {
     "name": "stdout",
     "output_type": "stream",
     "text": [
      "\n",
      "\n",
      "Robot verification failed, please try again.\n",
      "\n",
      "<iframe src=\"https://newassets.hcaptcha.com/captcha/v1/0585436/static/hcaptcha-checkbox.html#id=0jzv3x5sjpx&amp;host=hcaptcha.jawne.info.pl&amp;sentry=true&amp;reportapi=https%3A%2F%2Faccounts.hcaptcha.com&amp;recaptchacompat=true&amp;custom=false&amp;hl=pl&amp;tplinks=on&amp;sitekey=d01e97b2-e121-43e3-8049-05ef8215906d&amp;theme=light\" title=\"widget containing checkbox for hCaptcha security challenge\" tabindex=\"0\" frameborder=\"0\" scrolling=\"no\" data-hcaptcha-widget-id=\"0jzv3x5sjpx\" data-hcaptcha-response=\"123\" style=\"width: 303px; height: 78px; overflow: hidden;\"></iframe><textarea id=\"g-recaptcha-response-0jzv3x5sjpx\" name=\"g-recaptcha-response\" style=\"display: none;\"></textarea><textarea id=\"h-captcha-response-0jzv3x5sjpx\" name=\"h-captcha-response\" style=\"display: none;\"></textarea>\n"
     ]
    },
    {
     "ename": "JavascriptException",
     "evalue": "Message: javascript error: Invalid or unexpected token\n  (Session info: chrome=94.0.4606.71)\n",
     "output_type": "error",
     "traceback": [
      "\u001b[1;31m---------------------------------------------------------------------------\u001b[0m",
      "\u001b[1;31mJavascriptException\u001b[0m                       Traceback (most recent call last)",
      "\u001b[1;32m~\\AppData\\Local\\Temp/ipykernel_18536/2438514952.py\u001b[0m in \u001b[0;36m<module>\u001b[1;34m\u001b[0m\n\u001b[0;32m      2\u001b[0m \u001b[0melm\u001b[0m \u001b[1;33m=\u001b[0m \u001b[0melm\u001b[0m\u001b[1;33m[\u001b[0m\u001b[1;33m:\u001b[0m\u001b[0melm\u001b[0m\u001b[1;33m.\u001b[0m\u001b[0mfind\u001b[0m\u001b[1;33m(\u001b[0m\u001b[1;34m'data-hcaptcha-response=\"'\u001b[0m\u001b[1;33m)\u001b[0m\u001b[1;33m]\u001b[0m \u001b[1;33m+\u001b[0m \u001b[1;34mf'data-hcaptcha-response=\"{123}'\u001b[0m \u001b[1;33m+\u001b[0m \u001b[0melm\u001b[0m\u001b[1;33m[\u001b[0m\u001b[0melm\u001b[0m\u001b[1;33m.\u001b[0m\u001b[0mfind\u001b[0m\u001b[1;33m(\u001b[0m\u001b[1;34m'data-hcaptcha-response=\"'\u001b[0m\u001b[1;33m)\u001b[0m\u001b[1;33m+\u001b[0m\u001b[1;36m24\u001b[0m\u001b[1;33m:\u001b[0m\u001b[1;33m]\u001b[0m\u001b[1;33m\u001b[0m\u001b[1;33m\u001b[0m\u001b[0m\n\u001b[0;32m      3\u001b[0m \u001b[0mprint\u001b[0m\u001b[1;33m(\u001b[0m\u001b[0melm\u001b[0m\u001b[1;33m)\u001b[0m\u001b[1;33m\u001b[0m\u001b[1;33m\u001b[0m\u001b[0m\n\u001b[1;32m----> 4\u001b[1;33m \u001b[0mdriver\u001b[0m\u001b[1;33m.\u001b[0m\u001b[0mexecute_script\u001b[0m\u001b[1;33m(\u001b[0m\u001b[1;34mf\"arguments[0].innerHTML = '{elm}';\"\u001b[0m\u001b[1;33m,\u001b[0m \u001b[0mdriver\u001b[0m\u001b[1;33m.\u001b[0m\u001b[0mfind_element_by_xpath\u001b[0m\u001b[1;33m(\u001b[0m\u001b[1;34m'/html/body/form/div'\u001b[0m\u001b[1;33m)\u001b[0m\u001b[1;33m)\u001b[0m\u001b[1;33m\u001b[0m\u001b[1;33m\u001b[0m\u001b[0m\n\u001b[0m",
      "\u001b[1;32mc:\\Users\\klime\\VS Code\\selenium_chrome\\.venv_tribal_wars\\lib\\site-packages\\selenium\\webdriver\\remote\\webdriver.py\u001b[0m in \u001b[0;36mexecute_script\u001b[1;34m(self, script, *args)\u001b[0m\n\u001b[0;32m    632\u001b[0m             \u001b[0mcommand\u001b[0m \u001b[1;33m=\u001b[0m \u001b[0mCommand\u001b[0m\u001b[1;33m.\u001b[0m\u001b[0mEXECUTE_SCRIPT\u001b[0m\u001b[1;33m\u001b[0m\u001b[1;33m\u001b[0m\u001b[0m\n\u001b[0;32m    633\u001b[0m \u001b[1;33m\u001b[0m\u001b[0m\n\u001b[1;32m--> 634\u001b[1;33m         return self.execute(command, {\n\u001b[0m\u001b[0;32m    635\u001b[0m             \u001b[1;34m'script'\u001b[0m\u001b[1;33m:\u001b[0m \u001b[0mscript\u001b[0m\u001b[1;33m,\u001b[0m\u001b[1;33m\u001b[0m\u001b[1;33m\u001b[0m\u001b[0m\n\u001b[0;32m    636\u001b[0m             'args': converted_args})['value']\n",
      "\u001b[1;32mc:\\Users\\klime\\VS Code\\selenium_chrome\\.venv_tribal_wars\\lib\\site-packages\\selenium\\webdriver\\remote\\webdriver.py\u001b[0m in \u001b[0;36mexecute\u001b[1;34m(self, driver_command, params)\u001b[0m\n\u001b[0;32m    319\u001b[0m         \u001b[0mresponse\u001b[0m \u001b[1;33m=\u001b[0m \u001b[0mself\u001b[0m\u001b[1;33m.\u001b[0m\u001b[0mcommand_executor\u001b[0m\u001b[1;33m.\u001b[0m\u001b[0mexecute\u001b[0m\u001b[1;33m(\u001b[0m\u001b[0mdriver_command\u001b[0m\u001b[1;33m,\u001b[0m \u001b[0mparams\u001b[0m\u001b[1;33m)\u001b[0m\u001b[1;33m\u001b[0m\u001b[1;33m\u001b[0m\u001b[0m\n\u001b[0;32m    320\u001b[0m         \u001b[1;32mif\u001b[0m \u001b[0mresponse\u001b[0m\u001b[1;33m:\u001b[0m\u001b[1;33m\u001b[0m\u001b[1;33m\u001b[0m\u001b[0m\n\u001b[1;32m--> 321\u001b[1;33m             \u001b[0mself\u001b[0m\u001b[1;33m.\u001b[0m\u001b[0merror_handler\u001b[0m\u001b[1;33m.\u001b[0m\u001b[0mcheck_response\u001b[0m\u001b[1;33m(\u001b[0m\u001b[0mresponse\u001b[0m\u001b[1;33m)\u001b[0m\u001b[1;33m\u001b[0m\u001b[1;33m\u001b[0m\u001b[0m\n\u001b[0m\u001b[0;32m    322\u001b[0m             response['value'] = self._unwrap_value(\n\u001b[0;32m    323\u001b[0m                 response.get('value', None))\n",
      "\u001b[1;32mc:\\Users\\klime\\VS Code\\selenium_chrome\\.venv_tribal_wars\\lib\\site-packages\\selenium\\webdriver\\remote\\errorhandler.py\u001b[0m in \u001b[0;36mcheck_response\u001b[1;34m(self, response)\u001b[0m\n\u001b[0;32m    240\u001b[0m                 \u001b[0malert_text\u001b[0m \u001b[1;33m=\u001b[0m \u001b[0mvalue\u001b[0m\u001b[1;33m[\u001b[0m\u001b[1;34m'alert'\u001b[0m\u001b[1;33m]\u001b[0m\u001b[1;33m.\u001b[0m\u001b[0mget\u001b[0m\u001b[1;33m(\u001b[0m\u001b[1;34m'text'\u001b[0m\u001b[1;33m)\u001b[0m\u001b[1;33m\u001b[0m\u001b[1;33m\u001b[0m\u001b[0m\n\u001b[0;32m    241\u001b[0m             \u001b[1;32mraise\u001b[0m \u001b[0mexception_class\u001b[0m\u001b[1;33m(\u001b[0m\u001b[0mmessage\u001b[0m\u001b[1;33m,\u001b[0m \u001b[0mscreen\u001b[0m\u001b[1;33m,\u001b[0m \u001b[0mstacktrace\u001b[0m\u001b[1;33m,\u001b[0m \u001b[0malert_text\u001b[0m\u001b[1;33m)\u001b[0m\u001b[1;33m\u001b[0m\u001b[1;33m\u001b[0m\u001b[0m\n\u001b[1;32m--> 242\u001b[1;33m         \u001b[1;32mraise\u001b[0m \u001b[0mexception_class\u001b[0m\u001b[1;33m(\u001b[0m\u001b[0mmessage\u001b[0m\u001b[1;33m,\u001b[0m \u001b[0mscreen\u001b[0m\u001b[1;33m,\u001b[0m \u001b[0mstacktrace\u001b[0m\u001b[1;33m)\u001b[0m\u001b[1;33m\u001b[0m\u001b[1;33m\u001b[0m\u001b[0m\n\u001b[0m\u001b[0;32m    243\u001b[0m \u001b[1;33m\u001b[0m\u001b[0m\n\u001b[0;32m    244\u001b[0m     \u001b[1;32mdef\u001b[0m \u001b[0m_value_or_default\u001b[0m\u001b[1;33m(\u001b[0m\u001b[0mself\u001b[0m\u001b[1;33m,\u001b[0m \u001b[0mobj\u001b[0m\u001b[1;33m,\u001b[0m \u001b[0mkey\u001b[0m\u001b[1;33m,\u001b[0m \u001b[0mdefault\u001b[0m\u001b[1;33m)\u001b[0m\u001b[1;33m:\u001b[0m\u001b[1;33m\u001b[0m\u001b[1;33m\u001b[0m\u001b[0m\n",
      "\u001b[1;31mJavascriptException\u001b[0m: Message: javascript error: Invalid or unexpected token\n  (Session info: chrome=94.0.4606.71)\n"
     ]
    }
   ],
   "source": [
    "elm = driver.find_element_by_xpath('/html/body/form/div').get_attribute('innerHTML')\n",
    "elm = elm[:elm.find('data-hcaptcha-response=\"')] + f'data-hcaptcha-response=\"{123}' + elm[elm.find('data-hcaptcha-response=\"')+24:]\n",
    "driver.execute_script(f\"arguments[0].innerHTML = '{elm}';\", driver.find_element_by_xpath('/html/body/form/div'))"
   ]
  },
  {
   "cell_type": "code",
   "execution_count": 47,
   "metadata": {},
   "outputs": [
    {
     "ename": "JavascriptException",
     "evalue": "Message: javascript error: Cannot set properties of null (setting 'innerHTML')\n  (Session info: chrome=94.0.4606.71)\n",
     "output_type": "error",
     "traceback": [
      "\u001b[1;31m---------------------------------------------------------------------------\u001b[0m",
      "\u001b[1;31mJavascriptException\u001b[0m                       Traceback (most recent call last)",
      "\u001b[1;32m~\\AppData\\Local\\Temp/ipykernel_18536/4183842345.py\u001b[0m in \u001b[0;36m<module>\u001b[1;34m\u001b[0m\n\u001b[0;32m      3\u001b[0m \u001b[1;33m\u001b[0m\u001b[0m\n\u001b[0;32m      4\u001b[0m \u001b[1;31m# driver.execute_script('document.getElementsByName(\"h-recaptcha-response\")[0].text = \"%s\"' % (token_test))\u001b[0m\u001b[1;33m\u001b[0m\u001b[1;33m\u001b[0m\u001b[0m\n\u001b[1;32m----> 5\u001b[1;33m \u001b[0mdriver\u001b[0m\u001b[1;33m.\u001b[0m\u001b[0mexecute_script\u001b[0m\u001b[1;33m(\u001b[0m\u001b[1;34mf'document.getElementById(\"g-recaptcha-response\").innerHTML = \"{token_test}\"'\u001b[0m\u001b[1;33m)\u001b[0m\u001b[1;33m\u001b[0m\u001b[1;33m\u001b[0m\u001b[0m\n\u001b[0m",
      "\u001b[1;32mc:\\Users\\klime\\VS Code\\selenium_chrome\\.venv_tribal_wars\\lib\\site-packages\\selenium\\webdriver\\remote\\webdriver.py\u001b[0m in \u001b[0;36mexecute_script\u001b[1;34m(self, script, *args)\u001b[0m\n\u001b[0;32m    632\u001b[0m             \u001b[0mcommand\u001b[0m \u001b[1;33m=\u001b[0m \u001b[0mCommand\u001b[0m\u001b[1;33m.\u001b[0m\u001b[0mEXECUTE_SCRIPT\u001b[0m\u001b[1;33m\u001b[0m\u001b[1;33m\u001b[0m\u001b[0m\n\u001b[0;32m    633\u001b[0m \u001b[1;33m\u001b[0m\u001b[0m\n\u001b[1;32m--> 634\u001b[1;33m         return self.execute(command, {\n\u001b[0m\u001b[0;32m    635\u001b[0m             \u001b[1;34m'script'\u001b[0m\u001b[1;33m:\u001b[0m \u001b[0mscript\u001b[0m\u001b[1;33m,\u001b[0m\u001b[1;33m\u001b[0m\u001b[1;33m\u001b[0m\u001b[0m\n\u001b[0;32m    636\u001b[0m             'args': converted_args})['value']\n",
      "\u001b[1;32mc:\\Users\\klime\\VS Code\\selenium_chrome\\.venv_tribal_wars\\lib\\site-packages\\selenium\\webdriver\\remote\\webdriver.py\u001b[0m in \u001b[0;36mexecute\u001b[1;34m(self, driver_command, params)\u001b[0m\n\u001b[0;32m    319\u001b[0m         \u001b[0mresponse\u001b[0m \u001b[1;33m=\u001b[0m \u001b[0mself\u001b[0m\u001b[1;33m.\u001b[0m\u001b[0mcommand_executor\u001b[0m\u001b[1;33m.\u001b[0m\u001b[0mexecute\u001b[0m\u001b[1;33m(\u001b[0m\u001b[0mdriver_command\u001b[0m\u001b[1;33m,\u001b[0m \u001b[0mparams\u001b[0m\u001b[1;33m)\u001b[0m\u001b[1;33m\u001b[0m\u001b[1;33m\u001b[0m\u001b[0m\n\u001b[0;32m    320\u001b[0m         \u001b[1;32mif\u001b[0m \u001b[0mresponse\u001b[0m\u001b[1;33m:\u001b[0m\u001b[1;33m\u001b[0m\u001b[1;33m\u001b[0m\u001b[0m\n\u001b[1;32m--> 321\u001b[1;33m             \u001b[0mself\u001b[0m\u001b[1;33m.\u001b[0m\u001b[0merror_handler\u001b[0m\u001b[1;33m.\u001b[0m\u001b[0mcheck_response\u001b[0m\u001b[1;33m(\u001b[0m\u001b[0mresponse\u001b[0m\u001b[1;33m)\u001b[0m\u001b[1;33m\u001b[0m\u001b[1;33m\u001b[0m\u001b[0m\n\u001b[0m\u001b[0;32m    322\u001b[0m             response['value'] = self._unwrap_value(\n\u001b[0;32m    323\u001b[0m                 response.get('value', None))\n",
      "\u001b[1;32mc:\\Users\\klime\\VS Code\\selenium_chrome\\.venv_tribal_wars\\lib\\site-packages\\selenium\\webdriver\\remote\\errorhandler.py\u001b[0m in \u001b[0;36mcheck_response\u001b[1;34m(self, response)\u001b[0m\n\u001b[0;32m    240\u001b[0m                 \u001b[0malert_text\u001b[0m \u001b[1;33m=\u001b[0m \u001b[0mvalue\u001b[0m\u001b[1;33m[\u001b[0m\u001b[1;34m'alert'\u001b[0m\u001b[1;33m]\u001b[0m\u001b[1;33m.\u001b[0m\u001b[0mget\u001b[0m\u001b[1;33m(\u001b[0m\u001b[1;34m'text'\u001b[0m\u001b[1;33m)\u001b[0m\u001b[1;33m\u001b[0m\u001b[1;33m\u001b[0m\u001b[0m\n\u001b[0;32m    241\u001b[0m             \u001b[1;32mraise\u001b[0m \u001b[0mexception_class\u001b[0m\u001b[1;33m(\u001b[0m\u001b[0mmessage\u001b[0m\u001b[1;33m,\u001b[0m \u001b[0mscreen\u001b[0m\u001b[1;33m,\u001b[0m \u001b[0mstacktrace\u001b[0m\u001b[1;33m,\u001b[0m \u001b[0malert_text\u001b[0m\u001b[1;33m)\u001b[0m\u001b[1;33m\u001b[0m\u001b[1;33m\u001b[0m\u001b[0m\n\u001b[1;32m--> 242\u001b[1;33m         \u001b[1;32mraise\u001b[0m \u001b[0mexception_class\u001b[0m\u001b[1;33m(\u001b[0m\u001b[0mmessage\u001b[0m\u001b[1;33m,\u001b[0m \u001b[0mscreen\u001b[0m\u001b[1;33m,\u001b[0m \u001b[0mstacktrace\u001b[0m\u001b[1;33m)\u001b[0m\u001b[1;33m\u001b[0m\u001b[1;33m\u001b[0m\u001b[0m\n\u001b[0m\u001b[0;32m    243\u001b[0m \u001b[1;33m\u001b[0m\u001b[0m\n\u001b[0;32m    244\u001b[0m     \u001b[1;32mdef\u001b[0m \u001b[0m_value_or_default\u001b[0m\u001b[1;33m(\u001b[0m\u001b[0mself\u001b[0m\u001b[1;33m,\u001b[0m \u001b[0mobj\u001b[0m\u001b[1;33m,\u001b[0m \u001b[0mkey\u001b[0m\u001b[1;33m,\u001b[0m \u001b[0mdefault\u001b[0m\u001b[1;33m)\u001b[0m\u001b[1;33m:\u001b[0m\u001b[1;33m\u001b[0m\u001b[1;33m\u001b[0m\u001b[0m\n",
      "\u001b[1;31mJavascriptException\u001b[0m: Message: javascript error: Cannot set properties of null (setting 'innerHTML')\n  (Session info: chrome=94.0.4606.71)\n"
     ]
    }
   ],
   "source": [
    "# driver.execute_script(\n",
    "# \"document.getElementByName('h-recaptcha-response').innerHTML='{}';\".format(token_test))\n",
    "\n",
    "# driver.execute_script('document.getElementsByName(\"h-recaptcha-response\")[0].text = \"%s\"' % (token_test))\n",
    "driver.execute_script(f'document.getElementById(\"g-recaptcha-response\").innerHTML = \"{token_test}\"')"
   ]
  },
  {
   "cell_type": "code",
   "execution_count": 82,
   "metadata": {},
   "outputs": [
    {
     "name": "stdout",
     "output_type": "stream",
     "text": [
      "1\n",
      "\n",
      "\t\t<strong class=\"paged-nav-item\"> &gt;1&lt; </strong>\n",
      "\t\n",
      "50\n"
     ]
    }
   ],
   "source": [
    "pages = driver.find_element_by_xpath('//*[@id=\"plunder_list_nav\"]/table/tbody/tr/td').get_attribute(\"innerHTML\")\n",
    "pages = pages.split('><')\n",
    "print(len(pages))\n",
    "for page in pages:\n",
    "    print(page)\n",
    "print(driver.find_element_by_xpath('//*[@id=\"light\"]').text)"
   ]
  },
  {
   "cell_type": "code",
   "execution_count": 37,
   "metadata": {},
   "outputs": [
    {
     "name": "stdout",
     "output_type": "stream",
     "text": [
      "Pełny atak\n"
     ]
    }
   ],
   "source": [
    "driver.find_element_by_id('open_groups').click()\n",
    "current = WebDriverWait(driver, 10, 0.033).until(EC.presence_of_element_located((By.XPATH, '//*[@id=\"group_id\"]/option[@selected=\"selected\"]'))).text\n",
    "driver.find_element_by_id('close_groups').click()\n",
    "print(current)"
   ]
  },
  {
   "cell_type": "code",
   "execution_count": 66,
   "metadata": {},
   "outputs": [],
   "source": [
    "driver.find_element_by_id('open_groups').click()\n",
    "current_group = WebDriverWait(driver, 10, 0.033).until(EC.presence_of_element_located((By.XPATH, '//*[@id=\"group_id\"]/option[@selected=\"selected\"]'))).text\n",
    "\n",
    "if current_group != settings['farm_group']:\n",
    "    select = Select(driver.find_element_by_id('group_id'))\n",
    "    select.select_by_visible_text(settings['farm_group'])\n",
    "    WebDriverWait(driver, 10, 0.033).until(EC.element_to_be_clickable((By.XPATH, '//*[@id=\"group_table\"]/tbody/tr[1]/td[1]/a'))).click()\n",
    "driver.find_element_by_id('close_groups').click()\n"
   ]
  },
  {
   "cell_type": "code",
   "execution_count": 69,
   "metadata": {},
   "outputs": [],
   "source": [
    "# automatyczne farmienie\n",
    "\n",
    "# przechodzi do asystenta farmera\n",
    "WebDriverWait(driver, 10).until(EC.element_to_be_clickable((By.ID, 'manager_icon_farm'))).click()\n",
    "\n",
    "# szablon A i B plus aktualnie dostępne jednostki w wiosce\n",
    "template_troops = driver.find_element_by_id('content_value').get_attribute('innerHTML')\n",
    "template_troops = template_troops[template_troops.find('<table class=\"vis\"'):template_troops.find('<script type=\"text/javascript\">')]\n",
    "available_troops = template_troops[template_troops.find('id=\"units_home\"'):].split('<tr>')[2:]\n",
    "template_troops = {'A': template_troops[:template_troops.find('</tbody>')],'B': template_troops[template_troops.find('farm_icon_b'):template_troops.find('id=\"farm_units\"')]}\n",
    "template_troops['A'] = template_troops['A'].split('<tr>')[2:]\n",
    "template_troops['B'] = template_troops['B'].split('<tr>')[1:]\n",
    "template_troops['A'] = template_troops['A'][0].split('<td')[1:-1]\n",
    "template_troops['B'] = template_troops['B'][0].split('<td')[1:-1]\n",
    "\n",
    "for key in template_troops:\n",
    "    tmp = {}\n",
    "    for row in template_troops[key]:\n",
    "        value = int(row[row.find('value=\"')+7:row.rfind('\">')])\n",
    "        if value:\n",
    "            tmp[row[row.find('name=\"')+6:row.find('size')-2]] = value\n",
    "    template_troops[key] = tmp\n",
    "\n",
    "for row in available_troops:\n",
    "    available_troops = row.split('<td')[2:]\n",
    "for index, row in enumerate(available_troops): \n",
    "    available_troops[index] = {'key': row[row.find('id=\"')+4:row.find('\">')], 'value': row[row.find('\">')+2:row.find('</td')]}\n",
    "\n",
    "tmp = available_troops\n",
    "available_troops = {}\n",
    "for row in tmp:\n",
    "    available_troops[row['key']] = int(row['value'])\n",
    "\n",
    "# lista poziomów murów\n",
    "walls_level = driver.find_element_by_id('plunder_list').get_attribute('innerHTML').split('<tr')[3:]\n",
    "for index, row in enumerate(walls_level):\n",
    "    walls_level[index] = row.split('<td')[7:8]\n",
    "for index, row in enumerate(walls_level):\n",
    "    for ele in row:\n",
    "        walls_level[index] = ele[ele.find('>')+1:ele.find('<')] \n",
    "walls_level = [ele if ele=='?' else int(ele) for ele in walls_level]\n",
    "\n",
    "# lista przycisków do wysyłki szablonów A i B\n",
    "villages_to_farm = {}\n",
    "villages_to_farm['A'] = 9 # szablon A\n",
    "villages_to_farm['B'] = 10 # szablon B\n",
    "\n",
    "# wysyłka wojsk w asystencie farmera\n",
    "start_time = 0\n",
    "no_units = False\n",
    "for index, template in enumerate(villages_to_farm):\n",
    "    villages_to_farm[template] = driver.find_elements_by_xpath(f'//*[@id=\"plunder_list\"]/tbody/tr/td[{villages_to_farm[template]}]/a')\n",
    "    for village, wall_level in zip(villages_to_farm[template], walls_level): \n",
    "        if isinstance(wall_level, str):\n",
    "            continue        \n",
    "        if 0 <= wall_level <= 0:\n",
    "            for unit, number in template_troops[template].items():\n",
    "                if available_troops[unit] - number < 0:\n",
    "                    no_units = True\n",
    "                    break\n",
    "                available_troops[unit] -= number\n",
    "            if no_units:\n",
    "                break\n",
    "            while time.time() - start_time < 0.195:\n",
    "                time.sleep(0.01)\n",
    "            driver.execute_script('return arguments[0].scrollIntoView(true);', village)\n",
    "            village.click()\n",
    "        start_time = time.time()\n",
    "    if index < len(villages_to_farm)-1:\n",
    "        no_units = False\n",
    "        driver.refresh()"
   ]
  },
  {
   "cell_type": "code",
   "execution_count": 4,
   "metadata": {},
   "outputs": [],
   "source": [
    "# etykiety ataków\n",
    "\n",
    "def attacks_labels():\n",
    "    if not driver.find_element_by_id('incomings_amount').text:\n",
    "        return    \n",
    "    WebDriverWait(driver, 10).until(EC.element_to_be_clickable((By.ID, 'incomings_cell'))).click() # otwarcie karty z nadchodzącymi atakami\n",
    "    WebDriverWait(driver, 10).until(EC.element_to_be_clickable((By.XPATH, '//*[@id=\"paged_view_content\"]/div[1]/*[@data-group-type=\"all\"]'))).click() # zmiana grupy na wszystkie\n",
    "    manage_filters = WebDriverWait(driver, 10).until(EC.element_to_be_clickable((By.XPATH, '//*[@id=\"paged_view_content\"]/a'))) # zwraca element z filrem ataków\n",
    "    if driver.find_element_by_xpath('//*[@id=\"paged_view_content\"]/div[2]').get_attribute('style').find('display: none') != -1:\n",
    "        manage_filters.click()\n",
    "    etkyieta_rozkazu = WebDriverWait(driver, 10).until(EC.element_to_be_clickable((By.XPATH, '//*[@id=\"paged_view_content\"]/div[2]/form/table/tbody/tr[2]/td[2]/input')))\n",
    "\n",
    "    etkyieta_rozkazu.clear()\n",
    "    etkyieta_rozkazu.send_keys('Atak')\n",
    "\n",
    "    WebDriverWait(driver, 10).until(EC.element_to_be_clickable((By.XPATH, '//*[@id=\"paged_view_content\"]/div[2]/form/table/tbody/tr[7]/td/input'))).click()\n",
    "    WebDriverWait(driver, 10).until(EC.element_to_be_clickable((By.XPATH, '//*[@id=\"paged_view_content\"]/a')))\n",
    "    try:\n",
    "        driver.find_element_by_id('incomings_table')\n",
    "    except:\n",
    "        return\n",
    "\n",
    "    element = WebDriverWait(driver, 10).until(EC.element_to_be_clickable((By.ID, 'select_all')))\n",
    "    driver.execute_script('return arguments[0].scrollIntoView(true);', element)\n",
    "    element.click()\n",
    "    WebDriverWait(driver, 10).until(EC.element_to_be_clickable((By.XPATH, '//input[@value=\"Etykieta\"]'))).click()"
   ]
  },
  {
   "cell_type": "code",
   "execution_count": 87,
   "metadata": {},
   "outputs": [],
   "source": [
    "# id i coordy wiosek gracza\n",
    "\n",
    "WebDriverWait(driver, 10).until(EC.element_to_be_clickable((By.XPATH, '//*[@id=\"menu_row\"]/td[11]/a'))).click()\n",
    "village_number = WebDriverWait(driver, 10).until(EC.element_to_be_clickable((By.XPATH, '//*[@id=\"villages_list\"]/thead/tr/th[1]'))).text\n",
    "village_number = int(village_number[village_number.find('(')+1:-1])\n",
    "if village_number > 100:\n",
    "    element = WebDriverWait(driver, 10).until(EC.element_to_be_clickable((By.XPATH, '//*[@id=\"villages_list\"]/tbody/tr[101]/td/a')))\n",
    "    driver.execute_script('return arguments[0].scrollIntoView(true);', element)\n",
    "    element.click()\n",
    "    WebDriverWait(driver, 10, 0.1).until(EC.element_to_be_clickable((By.XPATH, '//*[@id=\"villages_list\"]/tbody/tr[101]/td[3]')))\n",
    "villages = {'id': [id.get_attribute('data-id') for id in driver.find_elements_by_xpath('//*[@id=\"villages_list\"]/tbody/tr/td[1]/table/tbody/tr/td[1]/span')],\n",
    "            'coords': [coords.text for coords in driver.find_elements_by_xpath('//*[@id=\"villages_list\"]/tbody/tr/td[3]')]}\n"
   ]
  },
  {
   "cell_type": "code",
   "execution_count": 88,
   "metadata": {},
   "outputs": [
    {
     "ename": "ElementClickInterceptedException",
     "evalue": "Message: element click intercepted: Element <td id=\"incomings_cell\" style=\"text-align: center; padding: 0 4px\" class=\"box-item firstcell nowrap\">...</td> is not clickable at point (1022, 13). Other element would receive the click: <a href=\"/game.php?village=4512&amp;screen=settings\">...</a>\n  (Session info: chrome=91.0.4472.106)\n",
     "output_type": "error",
     "traceback": [
      "\u001b[1;31m---------------------------------------------------------------------------\u001b[0m",
      "\u001b[1;31mElementClickInterceptedException\u001b[0m          Traceback (most recent call last)",
      "\u001b[1;32m<ipython-input-88-cdb7c92ec322>\u001b[0m in \u001b[0;36m<module>\u001b[1;34m\u001b[0m\n\u001b[0;32m      1\u001b[0m \u001b[1;31m# uniki średnie i duże\u001b[0m\u001b[1;33m\u001b[0m\u001b[1;33m\u001b[0m\u001b[1;33m\u001b[0m\u001b[0m\n\u001b[1;32m----> 2\u001b[1;33m \u001b[0mWebDriverWait\u001b[0m\u001b[1;33m(\u001b[0m\u001b[0mdriver\u001b[0m\u001b[1;33m,\u001b[0m \u001b[1;36m10\u001b[0m\u001b[1;33m)\u001b[0m\u001b[1;33m.\u001b[0m\u001b[0muntil\u001b[0m\u001b[1;33m(\u001b[0m\u001b[0mEC\u001b[0m\u001b[1;33m.\u001b[0m\u001b[0melement_to_be_clickable\u001b[0m\u001b[1;33m(\u001b[0m\u001b[1;33m(\u001b[0m\u001b[0mBy\u001b[0m\u001b[1;33m.\u001b[0m\u001b[0mID\u001b[0m\u001b[1;33m,\u001b[0m \u001b[1;34m'incomings_cell'\u001b[0m\u001b[1;33m)\u001b[0m\u001b[1;33m)\u001b[0m\u001b[1;33m)\u001b[0m\u001b[1;33m.\u001b[0m\u001b[0mclick\u001b[0m\u001b[1;33m(\u001b[0m\u001b[1;33m)\u001b[0m \u001b[1;31m# przełącz do strony nadchodzących ataków\u001b[0m\u001b[1;33m\u001b[0m\u001b[1;33m\u001b[0m\u001b[0m\n\u001b[0m\u001b[0;32m      3\u001b[0m \u001b[0mmanage_filters\u001b[0m \u001b[1;33m=\u001b[0m \u001b[0mWebDriverWait\u001b[0m\u001b[1;33m(\u001b[0m\u001b[0mdriver\u001b[0m\u001b[1;33m,\u001b[0m \u001b[1;36m10\u001b[0m\u001b[1;33m)\u001b[0m\u001b[1;33m.\u001b[0m\u001b[0muntil\u001b[0m\u001b[1;33m(\u001b[0m\u001b[0mEC\u001b[0m\u001b[1;33m.\u001b[0m\u001b[0melement_to_be_clickable\u001b[0m\u001b[1;33m(\u001b[0m\u001b[1;33m(\u001b[0m\u001b[0mBy\u001b[0m\u001b[1;33m.\u001b[0m\u001b[0mXPATH\u001b[0m\u001b[1;33m,\u001b[0m \u001b[1;34m'//*[@id=\"paged_view_content\"]/a'\u001b[0m\u001b[1;33m)\u001b[0m\u001b[1;33m)\u001b[0m\u001b[1;33m)\u001b[0m \u001b[1;31m# filtr ataków\u001b[0m\u001b[1;33m\u001b[0m\u001b[1;33m\u001b[0m\u001b[0m\n\u001b[0;32m      4\u001b[0m \u001b[1;32mif\u001b[0m \u001b[0mdriver\u001b[0m\u001b[1;33m.\u001b[0m\u001b[0mfind_element_by_xpath\u001b[0m\u001b[1;33m(\u001b[0m\u001b[1;34m'//*[@id=\"paged_view_content\"]/div[2]'\u001b[0m\u001b[1;33m)\u001b[0m\u001b[1;33m.\u001b[0m\u001b[0mget_attribute\u001b[0m\u001b[1;33m(\u001b[0m\u001b[1;34m'style'\u001b[0m\u001b[1;33m)\u001b[0m\u001b[1;33m.\u001b[0m\u001b[0mfind\u001b[0m\u001b[1;33m(\u001b[0m\u001b[1;34m'display: none'\u001b[0m\u001b[1;33m)\u001b[0m \u001b[1;33m!=\u001b[0m \u001b[1;33m-\u001b[0m\u001b[1;36m1\u001b[0m\u001b[1;33m:\u001b[0m \u001b[1;31m# czy włączony\u001b[0m\u001b[1;33m\u001b[0m\u001b[1;33m\u001b[0m\u001b[0m\n\u001b[0;32m      5\u001b[0m     \u001b[0mmanage_filters\u001b[0m\u001b[1;33m.\u001b[0m\u001b[0mclick\u001b[0m\u001b[1;33m(\u001b[0m\u001b[1;33m)\u001b[0m \u001b[1;31m# włącz filtr ataków\u001b[0m\u001b[1;33m\u001b[0m\u001b[1;33m\u001b[0m\u001b[0m\n",
      "\u001b[1;32mc:\\Users\\klime\\VS Code\\selenium_chrome\\.venv\\lib\\site-packages\\selenium\\webdriver\\remote\\webelement.py\u001b[0m in \u001b[0;36mclick\u001b[1;34m(self)\u001b[0m\n\u001b[0;32m     78\u001b[0m     \u001b[1;32mdef\u001b[0m \u001b[0mclick\u001b[0m\u001b[1;33m(\u001b[0m\u001b[0mself\u001b[0m\u001b[1;33m)\u001b[0m\u001b[1;33m:\u001b[0m\u001b[1;33m\u001b[0m\u001b[1;33m\u001b[0m\u001b[0m\n\u001b[0;32m     79\u001b[0m         \u001b[1;34m\"\"\"Clicks the element.\"\"\"\u001b[0m\u001b[1;33m\u001b[0m\u001b[1;33m\u001b[0m\u001b[0m\n\u001b[1;32m---> 80\u001b[1;33m         \u001b[0mself\u001b[0m\u001b[1;33m.\u001b[0m\u001b[0m_execute\u001b[0m\u001b[1;33m(\u001b[0m\u001b[0mCommand\u001b[0m\u001b[1;33m.\u001b[0m\u001b[0mCLICK_ELEMENT\u001b[0m\u001b[1;33m)\u001b[0m\u001b[1;33m\u001b[0m\u001b[1;33m\u001b[0m\u001b[0m\n\u001b[0m\u001b[0;32m     81\u001b[0m \u001b[1;33m\u001b[0m\u001b[0m\n\u001b[0;32m     82\u001b[0m     \u001b[1;32mdef\u001b[0m \u001b[0msubmit\u001b[0m\u001b[1;33m(\u001b[0m\u001b[0mself\u001b[0m\u001b[1;33m)\u001b[0m\u001b[1;33m:\u001b[0m\u001b[1;33m\u001b[0m\u001b[1;33m\u001b[0m\u001b[0m\n",
      "\u001b[1;32mc:\\Users\\klime\\VS Code\\selenium_chrome\\.venv\\lib\\site-packages\\selenium\\webdriver\\remote\\webelement.py\u001b[0m in \u001b[0;36m_execute\u001b[1;34m(self, command, params)\u001b[0m\n\u001b[0;32m    631\u001b[0m             \u001b[0mparams\u001b[0m \u001b[1;33m=\u001b[0m \u001b[1;33m{\u001b[0m\u001b[1;33m}\u001b[0m\u001b[1;33m\u001b[0m\u001b[1;33m\u001b[0m\u001b[0m\n\u001b[0;32m    632\u001b[0m         \u001b[0mparams\u001b[0m\u001b[1;33m[\u001b[0m\u001b[1;34m'id'\u001b[0m\u001b[1;33m]\u001b[0m \u001b[1;33m=\u001b[0m \u001b[0mself\u001b[0m\u001b[1;33m.\u001b[0m\u001b[0m_id\u001b[0m\u001b[1;33m\u001b[0m\u001b[1;33m\u001b[0m\u001b[0m\n\u001b[1;32m--> 633\u001b[1;33m         \u001b[1;32mreturn\u001b[0m \u001b[0mself\u001b[0m\u001b[1;33m.\u001b[0m\u001b[0m_parent\u001b[0m\u001b[1;33m.\u001b[0m\u001b[0mexecute\u001b[0m\u001b[1;33m(\u001b[0m\u001b[0mcommand\u001b[0m\u001b[1;33m,\u001b[0m \u001b[0mparams\u001b[0m\u001b[1;33m)\u001b[0m\u001b[1;33m\u001b[0m\u001b[1;33m\u001b[0m\u001b[0m\n\u001b[0m\u001b[0;32m    634\u001b[0m \u001b[1;33m\u001b[0m\u001b[0m\n\u001b[0;32m    635\u001b[0m     \u001b[1;32mdef\u001b[0m \u001b[0mfind_element\u001b[0m\u001b[1;33m(\u001b[0m\u001b[0mself\u001b[0m\u001b[1;33m,\u001b[0m \u001b[0mby\u001b[0m\u001b[1;33m=\u001b[0m\u001b[0mBy\u001b[0m\u001b[1;33m.\u001b[0m\u001b[0mID\u001b[0m\u001b[1;33m,\u001b[0m \u001b[0mvalue\u001b[0m\u001b[1;33m=\u001b[0m\u001b[1;32mNone\u001b[0m\u001b[1;33m)\u001b[0m\u001b[1;33m:\u001b[0m\u001b[1;33m\u001b[0m\u001b[1;33m\u001b[0m\u001b[0m\n",
      "\u001b[1;32mc:\\Users\\klime\\VS Code\\selenium_chrome\\.venv\\lib\\site-packages\\selenium\\webdriver\\remote\\webdriver.py\u001b[0m in \u001b[0;36mexecute\u001b[1;34m(self, driver_command, params)\u001b[0m\n\u001b[0;32m    319\u001b[0m         \u001b[0mresponse\u001b[0m \u001b[1;33m=\u001b[0m \u001b[0mself\u001b[0m\u001b[1;33m.\u001b[0m\u001b[0mcommand_executor\u001b[0m\u001b[1;33m.\u001b[0m\u001b[0mexecute\u001b[0m\u001b[1;33m(\u001b[0m\u001b[0mdriver_command\u001b[0m\u001b[1;33m,\u001b[0m \u001b[0mparams\u001b[0m\u001b[1;33m)\u001b[0m\u001b[1;33m\u001b[0m\u001b[1;33m\u001b[0m\u001b[0m\n\u001b[0;32m    320\u001b[0m         \u001b[1;32mif\u001b[0m \u001b[0mresponse\u001b[0m\u001b[1;33m:\u001b[0m\u001b[1;33m\u001b[0m\u001b[1;33m\u001b[0m\u001b[0m\n\u001b[1;32m--> 321\u001b[1;33m             \u001b[0mself\u001b[0m\u001b[1;33m.\u001b[0m\u001b[0merror_handler\u001b[0m\u001b[1;33m.\u001b[0m\u001b[0mcheck_response\u001b[0m\u001b[1;33m(\u001b[0m\u001b[0mresponse\u001b[0m\u001b[1;33m)\u001b[0m\u001b[1;33m\u001b[0m\u001b[1;33m\u001b[0m\u001b[0m\n\u001b[0m\u001b[0;32m    322\u001b[0m             response['value'] = self._unwrap_value(\n\u001b[0;32m    323\u001b[0m                 response.get('value', None))\n",
      "\u001b[1;32mc:\\Users\\klime\\VS Code\\selenium_chrome\\.venv\\lib\\site-packages\\selenium\\webdriver\\remote\\errorhandler.py\u001b[0m in \u001b[0;36mcheck_response\u001b[1;34m(self, response)\u001b[0m\n\u001b[0;32m    240\u001b[0m                 \u001b[0malert_text\u001b[0m \u001b[1;33m=\u001b[0m \u001b[0mvalue\u001b[0m\u001b[1;33m[\u001b[0m\u001b[1;34m'alert'\u001b[0m\u001b[1;33m]\u001b[0m\u001b[1;33m.\u001b[0m\u001b[0mget\u001b[0m\u001b[1;33m(\u001b[0m\u001b[1;34m'text'\u001b[0m\u001b[1;33m)\u001b[0m\u001b[1;33m\u001b[0m\u001b[1;33m\u001b[0m\u001b[0m\n\u001b[0;32m    241\u001b[0m             \u001b[1;32mraise\u001b[0m \u001b[0mexception_class\u001b[0m\u001b[1;33m(\u001b[0m\u001b[0mmessage\u001b[0m\u001b[1;33m,\u001b[0m \u001b[0mscreen\u001b[0m\u001b[1;33m,\u001b[0m \u001b[0mstacktrace\u001b[0m\u001b[1;33m,\u001b[0m \u001b[0malert_text\u001b[0m\u001b[1;33m)\u001b[0m\u001b[1;33m\u001b[0m\u001b[1;33m\u001b[0m\u001b[0m\n\u001b[1;32m--> 242\u001b[1;33m         \u001b[1;32mraise\u001b[0m \u001b[0mexception_class\u001b[0m\u001b[1;33m(\u001b[0m\u001b[0mmessage\u001b[0m\u001b[1;33m,\u001b[0m \u001b[0mscreen\u001b[0m\u001b[1;33m,\u001b[0m \u001b[0mstacktrace\u001b[0m\u001b[1;33m)\u001b[0m\u001b[1;33m\u001b[0m\u001b[1;33m\u001b[0m\u001b[0m\n\u001b[0m\u001b[0;32m    243\u001b[0m \u001b[1;33m\u001b[0m\u001b[0m\n\u001b[0;32m    244\u001b[0m     \u001b[1;32mdef\u001b[0m \u001b[0m_value_or_default\u001b[0m\u001b[1;33m(\u001b[0m\u001b[0mself\u001b[0m\u001b[1;33m,\u001b[0m \u001b[0mobj\u001b[0m\u001b[1;33m,\u001b[0m \u001b[0mkey\u001b[0m\u001b[1;33m,\u001b[0m \u001b[0mdefault\u001b[0m\u001b[1;33m)\u001b[0m\u001b[1;33m:\u001b[0m\u001b[1;33m\u001b[0m\u001b[1;33m\u001b[0m\u001b[0m\n",
      "\u001b[1;31mElementClickInterceptedException\u001b[0m: Message: element click intercepted: Element <td id=\"incomings_cell\" style=\"text-align: center; padding: 0 4px\" class=\"box-item firstcell nowrap\">...</td> is not clickable at point (1022, 13). Other element would receive the click: <a href=\"/game.php?village=4512&amp;screen=settings\">...</a>\n  (Session info: chrome=91.0.4472.106)\n"
     ]
    }
   ],
   "source": [
    "# uniki średnie i duże\n",
    "\n",
    "WebDriverWait(driver, 10).until(EC.element_to_be_clickable((By.ID, 'incomings_cell'))).click() # przełącz do strony nadchodzących ataków\n",
    "manage_filters = WebDriverWait(driver, 10).until(EC.element_to_be_clickable((By.XPATH, '//*[@id=\"paged_view_content\"]/a'))) # filtr ataków\n",
    "if driver.find_element_by_xpath('//*[@id=\"paged_view_content\"]/div[2]').get_attribute('style').find('display: none') != -1: # czy włączony\n",
    "    manage_filters.click() # włącz filtr ataków\n",
    "WebDriverWait(driver, 10).until(EC.element_to_be_clickable((By.XPATH, '//*[@id=\"paged_view_content\"]/div[2]/form/table/tbody/tr[2]/td[2]/input'))).clear() # etykieta rozkazu\n",
    "attack_size = input('1 all\\n'\n",
    "                    '2 small\\n'\n",
    "                    '3 medium\\n'\n",
    "                    '4 big')\n",
    "WebDriverWait(driver, 10).until(EC.element_to_be_clickable((By.XPATH, f'//*[@id=\"paged_view_content\"]/div[2]/form/table/tbody/tr[6]/td/label[{attack_size}]/input'))).click() # wielkość idących wojsk\n",
    "WebDriverWait(driver, 10).until(EC.element_to_be_clickable((By.XPATH, '//*[@id=\"paged_view_content\"]/div[2]/form/table/tbody/tr[7]/td/input'))).click() # zapisz i przeładuj\n",
    "WebDriverWait(driver, 10).until(EC.element_to_be_clickable((By.XPATH, '//*[@id=\"paged_view_content\"]/a'))) # sprawdź widoczność przycisku \"zarządzanie filtrami\"\n",
    "try:\n",
    "    driver.find_element_by_id('incomings_table') # czy są ataki spełniające powyższe kryteria\n",
    "except:\n",
    "    pass\n",
    "\n",
    "targets = driver.find_elements_by_xpath('//*[@id=\"incomings_table\"]/tbody/tr/td[2]/a')\n",
    "dates = driver.find_elements_by_xpath('//*[@id=\"incomings_table\"]/tbody/tr/td[6]')\n",
    "\n",
    "date_time = time.gmtime()\n",
    "\n",
    "targets = [target.get_attribute('href') for target in targets]\n",
    "dates = [data.text for data in dates]\n",
    "\n",
    "for index, date in enumerate(dates):\n",
    "    if date.startswith('dzisiaj'):\n",
    "        dates[index] = date.replace('dzisiaj o', f'{date_time.tm_mday}.{date_time.tm_mon :>02}.{date_time.tm_year}')[:-4]\n",
    "    elif date.startswith('jutro o'):\n",
    "        dates[index] = date.replace('jutro o', f'{date_time.tm_mday+1}.{date_time.tm_mon :>02}.{date_time.tm_year}')[:-4]\n",
    "    else:\n",
    "        dates[index] = date.replace('dnia ', '').replace('. o', f'.{date_time.tm_year}')[:-4]\n",
    "\n",
    "dates = [time.mktime(time.strptime(date, '%d.%m.%Y %H:%M:%S')) for date in dates]\n",
    "targets = [target.replace('overview', 'place') for target in targets]\n",
    "\n",
    "while True:\n",
    "    search_for = villages['coords'][villages['id'].index(targets[0][targets[0].find('=')+1:targets[0].find('&')])]\n",
    "    nearest = sorted([[sqrt(pow(int(search_for[:3])-int(village[:3]), 2) + pow(int(search_for[4:])-int(village[4:]), 2)), index] for index, village in enumerate(villages['coords'])])[1][1]\n",
    "    targets[0] += '&target=' + villages['id'][nearest]\n",
    "    while True:        \n",
    "        if time.time() > dates[0] - 5:\n",
    "            driver.get(targets[0])            \n",
    "            WebDriverWait(driver, 10).until(EC.element_to_be_clickable((By.ID, 'selectAllUnits'))).click()\n",
    "            WebDriverWait(driver, 10).until(EC.element_to_be_clickable((By.ID, 'target_support'))).click()\n",
    "            WebDriverWait(driver, 10).until(EC.element_to_be_clickable((By.ID, 'troop_confirm_go'))).click()\n",
    "            send_time = time.time()        \n",
    "            break_attack = WebDriverWait(driver, 10).until(EC.element_to_be_clickable((By.CLASS_NAME, 'command-cancel')))\n",
    "            time.sleep(((dates[0] - send_time) / 2) + 1)\n",
    "            driver.get(break_attack.get_attribute('href'))\n",
    "            del dates[0], targets[0]\n",
    "            break\n"
   ]
  },
  {
   "cell_type": "code",
   "execution_count": 49,
   "metadata": {},
   "outputs": [],
   "source": [
    "# wystawianie offert tylko dla plemienia\n",
    "\n",
    "current_village_link = WebDriverWait(driver, 10).until(EC.element_to_be_clickable((By.XPATH, '//*[@id=\"menu_row2_village\"]/a')))\n",
    "summary_production = current_village_link.get_attribute('href') + '_villages&mode=prod'\n",
    "driver.get(summary_production)\n",
    "\n",
    "villages_resources = {'villages': [], 'resources': [], 'summary': []}\n",
    "villages_resources['villages'] = [village_resources.get_attribute('href').replace('overview', 'market&mode=own_offer') for village_resources in driver.find_elements_by_xpath('//*[@id=\"production_table\"]/tbody/tr/td[2]/span/span/a[1]')]\n",
    "resources = [int(resource.text.replace('.', '')) for resource in driver.find_elements_by_xpath('//*[@id=\"production_table\"]/tbody/tr/td[4]/span')]\n",
    "villages_resources['resources'] = [[resources[index], resources[index+1], resources[index+2]] for index in range(0, len(resources), 3)] \n",
    "\n",
    "for i in range(3):\n",
    "    villages_resources['summary'].extend([sum([resource[i] for resource in villages_resources['resources']])]) \n",
    "offer = villages_resources['summary'].index(max(villages_resources['summary']))                 \n",
    "need = villages_resources['summary'].index(min(villages_resources['summary']))\n",
    "\n",
    "for (village, resource) in zip(villages_resources['villages'], villages_resources['resources']):\n",
    "    if resource[need] < 20000 and resource[offer] > 100000:\n",
    "        driver.get(village)\n",
    "        WebDriverWait(driver, 10).until(EC.element_to_be_clickable((By.XPATH, f'//*[@id=\"res_buy_selection\"]/label[{need+1}]/input'))).click()\n",
    "        WebDriverWait(driver, 10).until(EC.element_to_be_clickable((By.XPATH, f'//*[@id=\"res_sell_selection\"]/label[{offer+1}]/input'))).click()\n",
    "        how_many = WebDriverWait(driver, 10).until(EC.element_to_be_clickable((By.XPATH, '//*[@id=\"own_offer_form\"]/table[3]/tbody/tr[2]/td[2]/input')))\n",
    "        max_to_use = int((resource[offer] - 100000) / 1000) \n",
    "        if max_to_use < int(how_many.get_attribute('value')):\n",
    "            how_many.clear()\n",
    "            how_many.send_keys(str(max_to_use))      \n",
    "        element = WebDriverWait(driver, 10).until(EC.element_to_be_clickable((By.XPATH, '//*[@id=\"own_offer_form\"]/table[3]/tbody/tr[4]/td[2]/label/input')))\n",
    "        driver.execute_script('return arguments[0].scrollIntoView(true);', element)\n",
    "        element.click()\n",
    "        element = WebDriverWait(driver, 10).until(EC.element_to_be_clickable((By.XPATH, '//*[@id=\"submit_offer\"]')))\n",
    "        driver.execute_script('return arguments[0].scrollIntoView(true);', element)\n",
    "        element.click()\n",
    "    else:\n",
    "        continue"
   ]
  },
  {
   "cell_type": "code",
   "execution_count": 6,
   "metadata": {},
   "outputs": [
    {
     "ename": "NoSuchWindowException",
     "evalue": "Message: no such window: window was already closed\n  (Session info: chrome=91.0.4472.114)\n",
     "output_type": "error",
     "traceback": [
      "\u001b[1;31m---------------------------------------------------------------------------\u001b[0m",
      "\u001b[1;31mNoSuchWindowException\u001b[0m                     Traceback (most recent call last)",
      "\u001b[1;32m<ipython-input-6-b45fa1853876>\u001b[0m in \u001b[0;36m<module>\u001b[1;34m\u001b[0m\n\u001b[0;32m      1\u001b[0m \u001b[1;31m# odsyłanie wybranego wsparcia\u001b[0m\u001b[1;33m\u001b[0m\u001b[1;33m\u001b[0m\u001b[1;33m\u001b[0m\u001b[0m\n\u001b[0;32m      2\u001b[0m \u001b[1;33m\u001b[0m\u001b[0m\n\u001b[1;32m----> 3\u001b[1;33m \u001b[0mcode\u001b[0m \u001b[1;33m=\u001b[0m \u001b[0mdriver\u001b[0m\u001b[1;33m.\u001b[0m\u001b[0mfind_element_by_xpath\u001b[0m\u001b[1;33m(\u001b[0m\u001b[1;34m'//*[@id=\"withdraw_selected_units_village_info\"]/table/tbody'\u001b[0m\u001b[1;33m)\u001b[0m\u001b[1;33m.\u001b[0m\u001b[0mget_attribute\u001b[0m\u001b[1;33m(\u001b[0m\u001b[1;34m\"innerHTML\"\u001b[0m\u001b[1;33m)\u001b[0m\u001b[1;33m\u001b[0m\u001b[1;33m\u001b[0m\u001b[0m\n\u001b[0m\u001b[0;32m      4\u001b[0m \u001b[0mtemp\u001b[0m \u001b[1;33m=\u001b[0m \u001b[0mcode\u001b[0m\u001b[1;33m.\u001b[0m\u001b[0msplit\u001b[0m\u001b[1;33m(\u001b[0m\u001b[1;34m'<tr>'\u001b[0m\u001b[1;33m)\u001b[0m\u001b[1;33m[\u001b[0m\u001b[1;36m2\u001b[0m\u001b[1;33m:\u001b[0m\u001b[1;33m-\u001b[0m\u001b[1;36m1\u001b[0m\u001b[1;33m]\u001b[0m\u001b[1;33m\u001b[0m\u001b[1;33m\u001b[0m\u001b[0m\n\u001b[0;32m      5\u001b[0m \u001b[0momit\u001b[0m \u001b[1;33m=\u001b[0m \u001b[1;36m2\u001b[0m\u001b[1;33m\u001b[0m\u001b[1;33m\u001b[0m\u001b[0m\n",
      "\u001b[1;32mc:\\Users\\klime\\VS Code\\selenium_chrome\\.venv\\lib\\site-packages\\selenium\\webdriver\\remote\\webdriver.py\u001b[0m in \u001b[0;36mfind_element_by_xpath\u001b[1;34m(self, xpath)\u001b[0m\n\u001b[0;32m    392\u001b[0m             \u001b[0melement\u001b[0m \u001b[1;33m=\u001b[0m \u001b[0mdriver\u001b[0m\u001b[1;33m.\u001b[0m\u001b[0mfind_element_by_xpath\u001b[0m\u001b[1;33m(\u001b[0m\u001b[1;34m'//div/td[1]'\u001b[0m\u001b[1;33m)\u001b[0m\u001b[1;33m\u001b[0m\u001b[1;33m\u001b[0m\u001b[0m\n\u001b[0;32m    393\u001b[0m         \"\"\"\n\u001b[1;32m--> 394\u001b[1;33m         \u001b[1;32mreturn\u001b[0m \u001b[0mself\u001b[0m\u001b[1;33m.\u001b[0m\u001b[0mfind_element\u001b[0m\u001b[1;33m(\u001b[0m\u001b[0mby\u001b[0m\u001b[1;33m=\u001b[0m\u001b[0mBy\u001b[0m\u001b[1;33m.\u001b[0m\u001b[0mXPATH\u001b[0m\u001b[1;33m,\u001b[0m \u001b[0mvalue\u001b[0m\u001b[1;33m=\u001b[0m\u001b[0mxpath\u001b[0m\u001b[1;33m)\u001b[0m\u001b[1;33m\u001b[0m\u001b[1;33m\u001b[0m\u001b[0m\n\u001b[0m\u001b[0;32m    395\u001b[0m \u001b[1;33m\u001b[0m\u001b[0m\n\u001b[0;32m    396\u001b[0m     \u001b[1;32mdef\u001b[0m \u001b[0mfind_elements_by_xpath\u001b[0m\u001b[1;33m(\u001b[0m\u001b[0mself\u001b[0m\u001b[1;33m,\u001b[0m \u001b[0mxpath\u001b[0m\u001b[1;33m)\u001b[0m\u001b[1;33m:\u001b[0m\u001b[1;33m\u001b[0m\u001b[1;33m\u001b[0m\u001b[0m\n",
      "\u001b[1;32mc:\\Users\\klime\\VS Code\\selenium_chrome\\.venv\\lib\\site-packages\\selenium\\webdriver\\remote\\webdriver.py\u001b[0m in \u001b[0;36mfind_element\u001b[1;34m(self, by, value)\u001b[0m\n\u001b[0;32m    974\u001b[0m                 \u001b[0mby\u001b[0m \u001b[1;33m=\u001b[0m \u001b[0mBy\u001b[0m\u001b[1;33m.\u001b[0m\u001b[0mCSS_SELECTOR\u001b[0m\u001b[1;33m\u001b[0m\u001b[1;33m\u001b[0m\u001b[0m\n\u001b[0;32m    975\u001b[0m                 \u001b[0mvalue\u001b[0m \u001b[1;33m=\u001b[0m \u001b[1;34m'[name=\"%s\"]'\u001b[0m \u001b[1;33m%\u001b[0m \u001b[0mvalue\u001b[0m\u001b[1;33m\u001b[0m\u001b[1;33m\u001b[0m\u001b[0m\n\u001b[1;32m--> 976\u001b[1;33m         return self.execute(Command.FIND_ELEMENT, {\n\u001b[0m\u001b[0;32m    977\u001b[0m             \u001b[1;34m'using'\u001b[0m\u001b[1;33m:\u001b[0m \u001b[0mby\u001b[0m\u001b[1;33m,\u001b[0m\u001b[1;33m\u001b[0m\u001b[1;33m\u001b[0m\u001b[0m\n\u001b[0;32m    978\u001b[0m             'value': value})['value']\n",
      "\u001b[1;32mc:\\Users\\klime\\VS Code\\selenium_chrome\\.venv\\lib\\site-packages\\selenium\\webdriver\\remote\\webdriver.py\u001b[0m in \u001b[0;36mexecute\u001b[1;34m(self, driver_command, params)\u001b[0m\n\u001b[0;32m    319\u001b[0m         \u001b[0mresponse\u001b[0m \u001b[1;33m=\u001b[0m \u001b[0mself\u001b[0m\u001b[1;33m.\u001b[0m\u001b[0mcommand_executor\u001b[0m\u001b[1;33m.\u001b[0m\u001b[0mexecute\u001b[0m\u001b[1;33m(\u001b[0m\u001b[0mdriver_command\u001b[0m\u001b[1;33m,\u001b[0m \u001b[0mparams\u001b[0m\u001b[1;33m)\u001b[0m\u001b[1;33m\u001b[0m\u001b[1;33m\u001b[0m\u001b[0m\n\u001b[0;32m    320\u001b[0m         \u001b[1;32mif\u001b[0m \u001b[0mresponse\u001b[0m\u001b[1;33m:\u001b[0m\u001b[1;33m\u001b[0m\u001b[1;33m\u001b[0m\u001b[0m\n\u001b[1;32m--> 321\u001b[1;33m             \u001b[0mself\u001b[0m\u001b[1;33m.\u001b[0m\u001b[0merror_handler\u001b[0m\u001b[1;33m.\u001b[0m\u001b[0mcheck_response\u001b[0m\u001b[1;33m(\u001b[0m\u001b[0mresponse\u001b[0m\u001b[1;33m)\u001b[0m\u001b[1;33m\u001b[0m\u001b[1;33m\u001b[0m\u001b[0m\n\u001b[0m\u001b[0;32m    322\u001b[0m             response['value'] = self._unwrap_value(\n\u001b[0;32m    323\u001b[0m                 response.get('value', None))\n",
      "\u001b[1;32mc:\\Users\\klime\\VS Code\\selenium_chrome\\.venv\\lib\\site-packages\\selenium\\webdriver\\remote\\errorhandler.py\u001b[0m in \u001b[0;36mcheck_response\u001b[1;34m(self, response)\u001b[0m\n\u001b[0;32m    240\u001b[0m                 \u001b[0malert_text\u001b[0m \u001b[1;33m=\u001b[0m \u001b[0mvalue\u001b[0m\u001b[1;33m[\u001b[0m\u001b[1;34m'alert'\u001b[0m\u001b[1;33m]\u001b[0m\u001b[1;33m.\u001b[0m\u001b[0mget\u001b[0m\u001b[1;33m(\u001b[0m\u001b[1;34m'text'\u001b[0m\u001b[1;33m)\u001b[0m\u001b[1;33m\u001b[0m\u001b[1;33m\u001b[0m\u001b[0m\n\u001b[0;32m    241\u001b[0m             \u001b[1;32mraise\u001b[0m \u001b[0mexception_class\u001b[0m\u001b[1;33m(\u001b[0m\u001b[0mmessage\u001b[0m\u001b[1;33m,\u001b[0m \u001b[0mscreen\u001b[0m\u001b[1;33m,\u001b[0m \u001b[0mstacktrace\u001b[0m\u001b[1;33m,\u001b[0m \u001b[0malert_text\u001b[0m\u001b[1;33m)\u001b[0m\u001b[1;33m\u001b[0m\u001b[1;33m\u001b[0m\u001b[0m\n\u001b[1;32m--> 242\u001b[1;33m         \u001b[1;32mraise\u001b[0m \u001b[0mexception_class\u001b[0m\u001b[1;33m(\u001b[0m\u001b[0mmessage\u001b[0m\u001b[1;33m,\u001b[0m \u001b[0mscreen\u001b[0m\u001b[1;33m,\u001b[0m \u001b[0mstacktrace\u001b[0m\u001b[1;33m)\u001b[0m\u001b[1;33m\u001b[0m\u001b[1;33m\u001b[0m\u001b[0m\n\u001b[0m\u001b[0;32m    243\u001b[0m \u001b[1;33m\u001b[0m\u001b[0m\n\u001b[0;32m    244\u001b[0m     \u001b[1;32mdef\u001b[0m \u001b[0m_value_or_default\u001b[0m\u001b[1;33m(\u001b[0m\u001b[0mself\u001b[0m\u001b[1;33m,\u001b[0m \u001b[0mobj\u001b[0m\u001b[1;33m,\u001b[0m \u001b[0mkey\u001b[0m\u001b[1;33m,\u001b[0m \u001b[0mdefault\u001b[0m\u001b[1;33m)\u001b[0m\u001b[1;33m:\u001b[0m\u001b[1;33m\u001b[0m\u001b[1;33m\u001b[0m\u001b[0m\n",
      "\u001b[1;31mNoSuchWindowException\u001b[0m: Message: no such window: window was already closed\n  (Session info: chrome=91.0.4472.114)\n"
     ]
    }
   ],
   "source": [
    "# odsyłanie wybranego wsparcia\n",
    "\n",
    "code = driver.find_element_by_xpath('//*[@id=\"withdraw_selected_units_village_info\"]/table/tbody').get_attribute(\"innerHTML\")\n",
    "temp = code.split('<tr>')[2:-1]\n",
    "omit = 2\n",
    "for index in range(len(temp)):\n",
    "    temp[index] = temp[index].split('<td style')[1:-5]\n",
    "    if temp[index][0].find('has-input') == -1:\n",
    "        continue\n",
    "    del temp[index][4], temp[index][2]\n",
    "    for row, value in zip(range(len(temp[index])), (2, 3, 5, 7)):\n",
    "        temp[index][row] = [value, temp[index][row]]\n",
    "    for row in range(len(temp[index])):\n",
    "        if temp[index][row][0] == omit:\n",
    "            continue\n",
    "        if temp[index][row][1].find('hidden') != -1:\n",
    "            continue\n",
    "        ele = driver.find_element_by_xpath(f'//*[@id=\"withdraw_selected_units_village_info\"]/table/tbody/tr[{index+2}]/td[{temp[index][row][0]}]')\n",
    "        html = temp[index][row][1][temp[index][row][1].find('<'):-5]\n",
    "        html = html[:html.find('value')] + 'value=\"\" ' + html[html.find('min'):]\n",
    "        driver.execute_script(f'''arguments[0].innerHTML = '{html}';''', ele)"
   ]
  },
  {
   "cell_type": "code",
   "execution_count": 330,
   "metadata": {},
   "outputs": [],
   "source": [
    "# zaznacz na mapie puste wioski graczy\n",
    "\n",
    "villages_to_mark = []\n",
    "url = driver.current_url\n",
    "village_id = url[url.find('=')+1:url.find('&')]\n",
    "url = url[:url.find('?')+1] + 'screen=ally&mode=members_defense&player_id=&village=' + village_id\n",
    "player_name = driver.find_element_by_xpath('//*[@id=\"menu_row\"]/td[11]/table/tbody/tr[1]/td/a').get_attribute(\"innerHTML\")\n",
    "current_player_id = driver.find_element_by_xpath(f'//*[@id=\"ally_content\"]/div/form/select/option[contains(text(), \"{player_name}\")]').get_attribute('value')\n",
    "player_id = [player_id.get_attribute('value') for player_id in driver.find_elements_by_xpath('//*[@id=\"ally_content\"]/div/form/select/option')][1:]\n",
    "del player_id[player_id.index(str(current_player_id))]\n",
    "for id in player_id:\n",
    "    driver.get(url[:url.find('player_id')+10] + id + url[url.rfind('&'):])\n",
    "    if not driver.find_elements_by_xpath('//*[@id=\"ally_content\"]/div/div'): # omija graczy bez wiosek  \n",
    "        continue\n",
    "    village_number = len(driver.find_elements_by_xpath('//*[@id=\"ally_content\"]/div/div/table/tbody/tr/td[1]'))\n",
    "    tmp1 = driver.find_element_by_xpath('//*[@id=\"ally_content\"]/div/div/table/tbody').text\n",
    "    if tmp1.find('?') != -1: # omija graczy którzy nie udostępniają podglądu swoich wojsk\n",
    "        continue\n",
    "    tmp1 = [tmp[tmp.find(' w wiosce ')+10:] for tmp in tmp1.splitlines()[1::2]]\n",
    "    tmp1 = [tmp.split() for tmp in tmp1]\n",
    "    for index in range(len(tmp1)):\n",
    "        tmp1[index].insert(0, index*2+2)\n",
    "    index = 0\n",
    "    while index < len(tmp1):\n",
    "        if sum([int(cell) for cell in tmp1[index][1:]]) > 100:\n",
    "            del tmp1[index]\n",
    "            continue\n",
    "        index += 1\n",
    "    for index in range(len(tmp1)):\n",
    "        tmp1[index][0] = driver.find_element_by_xpath(f'//*[@id=\"ally_content\"]/div/div/table/tbody/tr[{tmp1[index][0]}]/td[1]/a').get_attribute('href')\n",
    "    villages_to_mark.extend([to_mark[0] for to_mark in tmp1])\n",
    "\n",
    "for village_to_mark in villages_to_mark:\n",
    "    driver.get(village_to_mark)\n",
    "    driver.find_element_by_xpath('//*[@id=\"content_value\"]/table/tbody/tr/td[1]/table[2]/tbody/tr[8]').click() # otwiera zarządzanie zaznaczeniami mapy\n",
    "    WebDriverWait(driver, 10, 0.1).until(EC.element_to_be_clickable((By.XPATH, '//*[@id=\"map_color_assignment\"]/form[1]/table/tbody/tr[4]/td/input'))) # czeka na załadowanie kodu HTML\n",
    "    groups = [label_name.text for label_name in driver.find_elements_by_xpath('//*[@id=\"map_group_management\"]/table/tbody/tr/td/label')] # dostępne grupy zaznaczeń na mapie\n",
    "    group_name = 'FARMA' \n",
    "    element = driver.find_element_by_xpath(f'//*[@id=\"map_group_management\"]/table/tbody/tr[{groups.index(group_name)+1}]/td/label/input') # klika wybraną nazwę grupy\n",
    "    driver.execute_script('return arguments[0].scrollIntoView(true);', element)\n",
    "    element.click()\n",
    "    element = driver.find_element_by_xpath('//*[@id=\"map_group_management\"]/table/tbody/tr/td/input[@value=\"Zapisz\"]') # zapisuję wybór\n",
    "    driver.execute_script('return arguments[0].scrollIntoView(true);', element)\n",
    "    element.click()"
   ]
  },
  {
   "cell_type": "code",
   "execution_count": 87,
   "metadata": {
    "tags": []
   },
   "outputs": [],
   "source": [
    "# test pythona\n",
    "import csv\n",
    "data = []\n",
    "with open('klimekop6.csv') as csvfile:\n",
    "    data = list(csv.reader(csvfile, delimiter=';'))\n",
    "\n",
    "for index in range(len(data)):\n",
    "    data[index][4] = data[index][4].replace('[unit]', ' ')\n",
    "    data[index][4] = data[index][4].replace('[/unit]', ' ')\n",
    "    data[index][4] = data[index][4][1:]\n",
    "\n",
    "for index in range(len(data)):\n",
    "    driver.get(data[index][5][5:data[index][5].find(']')])\n",
    "    WebDriverWait(driver, 10).until(EC.element_to_be_clickable((By.CLASS_NAME, 'rename-icon'))).click()\n",
    "\n",
    "    etykieta = WebDriverWait(driver, 10).until(EC.element_to_be_clickable((By.XPATH, '//input[@type=\"text\"]')))\n",
    "    etykieta.clear()\n",
    "    etykieta.send_keys(data[index][4])\n",
    "    WebDriverWait(driver, 10).until(EC.element_to_be_clickable((By.XPATH, '//input[@value=\"Zmień nazwę\"]'))).click()"
   ]
  },
  {
   "cell_type": "code",
   "execution_count": 6,
   "metadata": {},
   "outputs": [],
   "source": [
    "# filtry ataków nazwa gracza\n",
    "WebDriverWait(driver, 10).until(EC.element_to_be_clickable((By.CLASS_NAME, 'overview_filters_manage'))).click()\n",
    "\n",
    "player_name = WebDriverWait(driver, 10).until(EC.element_to_be_clickable((By.CSS_SELECTOR,'input[name=\"filters[origin_player]\"]')))\n",
    "\n",
    "player_name.clear()\n",
    "player_name.send_keys('zonik20')\n",
    "\n",
    "WebDriverWait(driver, 10).until(EC.element_to_be_clickable((By.XPATH, '//input[@type=\"submit\"]'))).click()\n"
   ]
  },
  {
   "cell_type": "code",
   "execution_count": 5,
   "metadata": {},
   "outputs": [
    {
     "name": "stdout",
     "output_type": "stream",
     "text": [
      "0.014011859893798828\n",
      "0.10209226608276367\n",
      "0.606550931930542\n"
     ]
    }
   ],
   "source": [
    "import time\n",
    "from datetime import datetime\n",
    "from dateutil import parser\n",
    "\n",
    "test = '2019-12-18 15:52:30'\n",
    "a = time.time()\n",
    "for i in range(10000):\n",
    "    datetime(int(test[:4]), int(test[5:7]), int(test[8:10]), int(test[11:13]), int(test[14:16]), int(test[17:19]))\n",
    "print(time.time()-a)\n",
    "\n",
    "a = time.time()\n",
    "for i in range(10000):\n",
    "    datetime.strptime(test, '%Y-%m-%d %H:%M:%S')\n",
    "print(time.time()-a)\n",
    "\n",
    "a = time.time()\n",
    "for i in range(10000):\n",
    "    parser.parse(test)\n",
    "print(time.time()-a)\n",
    "\n"
   ]
  },
  {
   "cell_type": "code",
   "execution_count": 17,
   "metadata": {},
   "outputs": [
    {
     "name": "stdout",
     "output_type": "stream",
     "text": [
      "[[1634673692.6712816, {'func': 123, 'other': 234}]]\n"
     ]
    }
   ],
   "source": [
    "to_do = []\n",
    "to_do.append([time.time(), {'func': 123, 'other': 234}])\n",
    "print(to_do)\n"
   ]
  }
 ],
 "metadata": {
  "interpreter": {
   "hash": "043fa229c8f9b5e495b8f47abf04453a28cdd3df9dd317283f35eba611767b50"
  },
  "kernelspec": {
   "display_name": "Python 3.10.0 64-bit ('.venv_tribal_wars': venv)",
   "name": "python3"
  },
  "language_info": {
   "codemirror_mode": {
    "name": "ipython",
    "version": 3
   },
   "file_extension": ".py",
   "mimetype": "text/x-python",
   "name": "python",
   "nbconvert_exporter": "python",
   "pygments_lexer": "ipython3",
   "version": "3.10.0"
  },
  "orig_nbformat": 4
 },
 "nbformat": 4,
 "nbformat_minor": 2
}
